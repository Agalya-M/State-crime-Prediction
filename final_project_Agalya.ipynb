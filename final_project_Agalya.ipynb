{
  "nbformat": 4,
  "nbformat_minor": 0,
  "metadata": {
    "colab": {
      "name": "final_project_Agalya.ipynb",
      "provenance": [],
      "collapsed_sections": [],
      "mount_file_id": "1h1nL55LRzuUEwIjHlCL9pqBF4nc1ss3c",
      "authorship_tag": "ABX9TyMPy9I0C5BpfJF2R8sOXsrT",
      "include_colab_link": true
    },
    "kernelspec": {
      "name": "python3",
      "display_name": "Python 3"
    },
    "language_info": {
      "name": "python"
    }
  },
  "cells": [
    {
      "cell_type": "markdown",
      "metadata": {
        "id": "view-in-github",
        "colab_type": "text"
      },
      "source": [
        "<a href=\"https://colab.research.google.com/github/Agalya-M/State-crime-Prediction/blob/main/final_project_Agalya.ipynb\" target=\"_parent\"><img src=\"https://colab.research.google.com/assets/colab-badge.svg\" alt=\"Open In Colab\"/></a>"
      ]
    },
    {
      "cell_type": "markdown",
      "metadata": {
        "id": "p_m0lTXOgFX7"
      },
      "source": [
        "# **FINAL PROJECT**\n",
        "\n",
        "\n",
        "---\n",
        "\n",
        "\n",
        "NAME : AGALYA M\n",
        "\n",
        "REG NO:19CS005\n"
      ]
    },
    {
      "cell_type": "markdown",
      "metadata": {
        "id": "SJ0u75x30kvv"
      },
      "source": [
        "## **DATA COLLLECTION**"
      ]
    },
    {
      "cell_type": "code",
      "metadata": {
        "id": "ZRGBjeYez4mU"
      },
      "source": [
        "import pandas as pd\n",
        "import numpy as np"
      ],
      "execution_count": null,
      "outputs": []
    },
    {
      "cell_type": "code",
      "metadata": {
        "id": "DqGt2fPg0gFP"
      },
      "source": [
        "crimes=pd.read_csv(\"/content/drive/MyDrive/state_crime.csv\")\n"
      ],
      "execution_count": null,
      "outputs": []
    },
    {
      "cell_type": "markdown",
      "metadata": {
        "id": "13qLE5cFg8HA"
      },
      "source": [
        "DATA TYPE :\n",
        " STRUCTURED DATA"
      ]
    },
    {
      "cell_type": "markdown",
      "metadata": {
        "id": "4_wP-RBx0qWP"
      },
      "source": [
        "## **DATA PREPARATION**"
      ]
    },
    {
      "cell_type": "markdown",
      "metadata": {
        "id": "Fd3YPjkA0yPO"
      },
      "source": [
        "\n",
        "\n",
        "# 1.   **EDA**(Exploratory Data Analysis)\n",
        "\n"
      ]
    },
    {
      "cell_type": "code",
      "metadata": {
        "colab": {
          "base_uri": "https://localhost:8080/",
          "height": 224
        },
        "id": "FS64l3ON0-UY",
        "outputId": "7e2140db-0451-4aa6-d19e-97275f70cf11"
      },
      "source": [
        "crimes.head()"
      ],
      "execution_count": null,
      "outputs": [
        {
          "output_type": "execute_result",
          "data": {
            "text/html": [
              "<div>\n",
              "<style scoped>\n",
              "    .dataframe tbody tr th:only-of-type {\n",
              "        vertical-align: middle;\n",
              "    }\n",
              "\n",
              "    .dataframe tbody tr th {\n",
              "        vertical-align: top;\n",
              "    }\n",
              "\n",
              "    .dataframe thead th {\n",
              "        text-align: right;\n",
              "    }\n",
              "</style>\n",
              "<table border=\"1\" class=\"dataframe\">\n",
              "  <thead>\n",
              "    <tr style=\"text-align: right;\">\n",
              "      <th></th>\n",
              "      <th>State</th>\n",
              "      <th>Year</th>\n",
              "      <th>Data.Population</th>\n",
              "      <th>Data.Rates.Property.All</th>\n",
              "      <th>Data.Rates.Property.Burglary</th>\n",
              "      <th>Data.Rates.Property.Larceny</th>\n",
              "      <th>Data.Rates.Property.Motor</th>\n",
              "      <th>Data.Rates.Violent.All</th>\n",
              "      <th>Data.Rates.Violent.Assault</th>\n",
              "      <th>Data.Rates.Violent.Murder</th>\n",
              "      <th>Data.Rates.Violent.Rape</th>\n",
              "      <th>Data.Rates.Violent.Robbery</th>\n",
              "      <th>Data.Totals.Property.All</th>\n",
              "      <th>Data.Totals.Property.Burglary</th>\n",
              "      <th>Data.Totals.Property.Larceny</th>\n",
              "      <th>Data.Totals.Property.Motor</th>\n",
              "      <th>Data.Totals.Violent.All</th>\n",
              "      <th>Data.Totals.Violent.Assault</th>\n",
              "      <th>Data.Totals.Violent.Murder</th>\n",
              "      <th>Data.Totals.Violent.Rape</th>\n",
              "      <th>Data.Totals.Violent.Robbery</th>\n",
              "    </tr>\n",
              "  </thead>\n",
              "  <tbody>\n",
              "    <tr>\n",
              "      <th>0</th>\n",
              "      <td>Alabama</td>\n",
              "      <td>1960</td>\n",
              "      <td>3266740</td>\n",
              "      <td>1035.4</td>\n",
              "      <td>355.9</td>\n",
              "      <td>592.1</td>\n",
              "      <td>87.3</td>\n",
              "      <td>186.6</td>\n",
              "      <td>138.1</td>\n",
              "      <td>12.4</td>\n",
              "      <td>8.6</td>\n",
              "      <td>27.5</td>\n",
              "      <td>33823</td>\n",
              "      <td>11626</td>\n",
              "      <td>19344</td>\n",
              "      <td>2853</td>\n",
              "      <td>6097</td>\n",
              "      <td>4512</td>\n",
              "      <td>406</td>\n",
              "      <td>281</td>\n",
              "      <td>898</td>\n",
              "    </tr>\n",
              "    <tr>\n",
              "      <th>1</th>\n",
              "      <td>Alabama</td>\n",
              "      <td>1961</td>\n",
              "      <td>3302000</td>\n",
              "      <td>985.5</td>\n",
              "      <td>339.3</td>\n",
              "      <td>569.4</td>\n",
              "      <td>76.8</td>\n",
              "      <td>168.5</td>\n",
              "      <td>128.9</td>\n",
              "      <td>12.9</td>\n",
              "      <td>7.6</td>\n",
              "      <td>19.1</td>\n",
              "      <td>32541</td>\n",
              "      <td>11205</td>\n",
              "      <td>18801</td>\n",
              "      <td>2535</td>\n",
              "      <td>5564</td>\n",
              "      <td>4255</td>\n",
              "      <td>427</td>\n",
              "      <td>252</td>\n",
              "      <td>630</td>\n",
              "    </tr>\n",
              "    <tr>\n",
              "      <th>2</th>\n",
              "      <td>Alabama</td>\n",
              "      <td>1962</td>\n",
              "      <td>3358000</td>\n",
              "      <td>1067.0</td>\n",
              "      <td>349.1</td>\n",
              "      <td>634.5</td>\n",
              "      <td>83.4</td>\n",
              "      <td>157.3</td>\n",
              "      <td>119.0</td>\n",
              "      <td>9.4</td>\n",
              "      <td>6.5</td>\n",
              "      <td>22.5</td>\n",
              "      <td>35829</td>\n",
              "      <td>11722</td>\n",
              "      <td>21306</td>\n",
              "      <td>2801</td>\n",
              "      <td>5283</td>\n",
              "      <td>3995</td>\n",
              "      <td>316</td>\n",
              "      <td>218</td>\n",
              "      <td>754</td>\n",
              "    </tr>\n",
              "    <tr>\n",
              "      <th>3</th>\n",
              "      <td>Alabama</td>\n",
              "      <td>1963</td>\n",
              "      <td>3347000</td>\n",
              "      <td>1150.9</td>\n",
              "      <td>376.9</td>\n",
              "      <td>683.4</td>\n",
              "      <td>90.6</td>\n",
              "      <td>182.7</td>\n",
              "      <td>142.1</td>\n",
              "      <td>10.2</td>\n",
              "      <td>5.7</td>\n",
              "      <td>24.7</td>\n",
              "      <td>38521</td>\n",
              "      <td>12614</td>\n",
              "      <td>22874</td>\n",
              "      <td>3033</td>\n",
              "      <td>6115</td>\n",
              "      <td>4755</td>\n",
              "      <td>340</td>\n",
              "      <td>192</td>\n",
              "      <td>828</td>\n",
              "    </tr>\n",
              "    <tr>\n",
              "      <th>4</th>\n",
              "      <td>Alabama</td>\n",
              "      <td>1964</td>\n",
              "      <td>3407000</td>\n",
              "      <td>1358.7</td>\n",
              "      <td>466.6</td>\n",
              "      <td>784.1</td>\n",
              "      <td>108.0</td>\n",
              "      <td>213.1</td>\n",
              "      <td>163.0</td>\n",
              "      <td>9.3</td>\n",
              "      <td>11.7</td>\n",
              "      <td>29.1</td>\n",
              "      <td>46290</td>\n",
              "      <td>15898</td>\n",
              "      <td>26713</td>\n",
              "      <td>3679</td>\n",
              "      <td>7260</td>\n",
              "      <td>5555</td>\n",
              "      <td>316</td>\n",
              "      <td>397</td>\n",
              "      <td>992</td>\n",
              "    </tr>\n",
              "  </tbody>\n",
              "</table>\n",
              "</div>"
            ],
            "text/plain": [
              "     State  Year  ...  Data.Totals.Violent.Rape  Data.Totals.Violent.Robbery\n",
              "0  Alabama  1960  ...                       281                          898\n",
              "1  Alabama  1961  ...                       252                          630\n",
              "2  Alabama  1962  ...                       218                          754\n",
              "3  Alabama  1963  ...                       192                          828\n",
              "4  Alabama  1964  ...                       397                          992\n",
              "\n",
              "[5 rows x 21 columns]"
            ]
          },
          "metadata": {
            "tags": []
          },
          "execution_count": 3
        }
      ]
    },
    {
      "cell_type": "code",
      "metadata": {
        "colab": {
          "base_uri": "https://localhost:8080/"
        },
        "id": "imgws4fm1NqU",
        "outputId": "c491db64-a17d-4be8-d149-cf8a704721a5"
      },
      "source": [
        "crimes.shape"
      ],
      "execution_count": null,
      "outputs": [
        {
          "output_type": "execute_result",
          "data": {
            "text/plain": [
              "(2751, 21)"
            ]
          },
          "metadata": {
            "tags": []
          },
          "execution_count": 4
        }
      ]
    },
    {
      "cell_type": "code",
      "metadata": {
        "colab": {
          "base_uri": "https://localhost:8080/"
        },
        "id": "0Qxkl7JH1Wcm",
        "outputId": "925e0284-5c6b-45f4-e166-ea47e385d567"
      },
      "source": [
        "crimes.info()"
      ],
      "execution_count": null,
      "outputs": [
        {
          "output_type": "stream",
          "text": [
            "<class 'pandas.core.frame.DataFrame'>\n",
            "RangeIndex: 2751 entries, 0 to 2750\n",
            "Data columns (total 21 columns):\n",
            " #   Column                         Non-Null Count  Dtype  \n",
            "---  ------                         --------------  -----  \n",
            " 0   State                          2751 non-null   object \n",
            " 1   Year                           2751 non-null   int64  \n",
            " 2   Data.Population                2751 non-null   int64  \n",
            " 3   Data.Rates.Property.All        2751 non-null   float64\n",
            " 4   Data.Rates.Property.Burglary   2751 non-null   float64\n",
            " 5   Data.Rates.Property.Larceny    2751 non-null   float64\n",
            " 6   Data.Rates.Property.Motor      2751 non-null   float64\n",
            " 7   Data.Rates.Violent.All         2751 non-null   float64\n",
            " 8   Data.Rates.Violent.Assault     2751 non-null   float64\n",
            " 9   Data.Rates.Violent.Murder      2751 non-null   float64\n",
            " 10  Data.Rates.Violent.Rape        2751 non-null   float64\n",
            " 11  Data.Rates.Violent.Robbery     2751 non-null   float64\n",
            " 12  Data.Totals.Property.All       2751 non-null   int64  \n",
            " 13  Data.Totals.Property.Burglary  2751 non-null   int64  \n",
            " 14  Data.Totals.Property.Larceny   2751 non-null   int64  \n",
            " 15  Data.Totals.Property.Motor     2751 non-null   int64  \n",
            " 16  Data.Totals.Violent.All        2751 non-null   int64  \n",
            " 17  Data.Totals.Violent.Assault    2751 non-null   int64  \n",
            " 18  Data.Totals.Violent.Murder     2751 non-null   int64  \n",
            " 19  Data.Totals.Violent.Rape       2751 non-null   int64  \n",
            " 20  Data.Totals.Violent.Robbery    2751 non-null   int64  \n",
            "dtypes: float64(9), int64(11), object(1)\n",
            "memory usage: 451.5+ KB\n"
          ],
          "name": "stdout"
        }
      ]
    },
    {
      "cell_type": "code",
      "metadata": {
        "colab": {
          "base_uri": "https://localhost:8080/",
          "height": 669
        },
        "id": "9Vtp2Ie71ugj",
        "outputId": "077e5d9c-a37a-4af2-b706-01b454df4dbf"
      },
      "source": [
        "crimes.describe().transpose()\n"
      ],
      "execution_count": null,
      "outputs": [
        {
          "output_type": "execute_result",
          "data": {
            "text/html": [
              "<div>\n",
              "<style scoped>\n",
              "    .dataframe tbody tr th:only-of-type {\n",
              "        vertical-align: middle;\n",
              "    }\n",
              "\n",
              "    .dataframe tbody tr th {\n",
              "        vertical-align: top;\n",
              "    }\n",
              "\n",
              "    .dataframe thead th {\n",
              "        text-align: right;\n",
              "    }\n",
              "</style>\n",
              "<table border=\"1\" class=\"dataframe\">\n",
              "  <thead>\n",
              "    <tr style=\"text-align: right;\">\n",
              "      <th></th>\n",
              "      <th>count</th>\n",
              "      <th>mean</th>\n",
              "      <th>std</th>\n",
              "      <th>min</th>\n",
              "      <th>25%</th>\n",
              "      <th>50%</th>\n",
              "      <th>75%</th>\n",
              "      <th>max</th>\n",
              "    </tr>\n",
              "  </thead>\n",
              "  <tbody>\n",
              "    <tr>\n",
              "      <th>Year</th>\n",
              "      <td>2751.0</td>\n",
              "      <td>1.986044e+03</td>\n",
              "      <td>1.527932e+01</td>\n",
              "      <td>1960.0</td>\n",
              "      <td>1973.00</td>\n",
              "      <td>1986.0</td>\n",
              "      <td>1999.00</td>\n",
              "      <td>2012.0</td>\n",
              "    </tr>\n",
              "    <tr>\n",
              "      <th>Data.Population</th>\n",
              "      <td>2751.0</td>\n",
              "      <td>9.349570e+06</td>\n",
              "      <td>3.368126e+07</td>\n",
              "      <td>226167.0</td>\n",
              "      <td>1208000.00</td>\n",
              "      <td>3282000.0</td>\n",
              "      <td>5840286.00</td>\n",
              "      <td>313914040.0</td>\n",
              "    </tr>\n",
              "    <tr>\n",
              "      <th>Data.Rates.Property.All</th>\n",
              "      <td>2751.0</td>\n",
              "      <td>3.686539e+03</td>\n",
              "      <td>1.427900e+03</td>\n",
              "      <td>573.1</td>\n",
              "      <td>2613.40</td>\n",
              "      <td>3670.0</td>\n",
              "      <td>4579.15</td>\n",
              "      <td>9512.1</td>\n",
              "    </tr>\n",
              "    <tr>\n",
              "      <th>Data.Rates.Property.Burglary</th>\n",
              "      <td>2751.0</td>\n",
              "      <td>9.312073e+02</td>\n",
              "      <td>4.424760e+02</td>\n",
              "      <td>182.6</td>\n",
              "      <td>592.10</td>\n",
              "      <td>870.6</td>\n",
              "      <td>1183.80</td>\n",
              "      <td>2906.7</td>\n",
              "    </tr>\n",
              "    <tr>\n",
              "      <th>Data.Rates.Property.Larceny</th>\n",
              "      <td>2751.0</td>\n",
              "      <td>2.395550e+03</td>\n",
              "      <td>9.145975e+02</td>\n",
              "      <td>293.3</td>\n",
              "      <td>1745.35</td>\n",
              "      <td>2404.1</td>\n",
              "      <td>2957.05</td>\n",
              "      <td>5833.8</td>\n",
              "    </tr>\n",
              "    <tr>\n",
              "      <th>Data.Rates.Property.Motor</th>\n",
              "      <td>2751.0</td>\n",
              "      <td>3.597821e+02</td>\n",
              "      <td>2.275578e+02</td>\n",
              "      <td>48.3</td>\n",
              "      <td>195.10</td>\n",
              "      <td>311.7</td>\n",
              "      <td>458.05</td>\n",
              "      <td>1839.9</td>\n",
              "    </tr>\n",
              "    <tr>\n",
              "      <th>Data.Rates.Violent.All</th>\n",
              "      <td>2751.0</td>\n",
              "      <td>4.003703e+02</td>\n",
              "      <td>2.989882e+02</td>\n",
              "      <td>9.5</td>\n",
              "      <td>204.95</td>\n",
              "      <td>338.8</td>\n",
              "      <td>533.50</td>\n",
              "      <td>2921.8</td>\n",
              "    </tr>\n",
              "    <tr>\n",
              "      <th>Data.Rates.Violent.Assault</th>\n",
              "      <td>2751.0</td>\n",
              "      <td>2.362985e+02</td>\n",
              "      <td>1.641829e+02</td>\n",
              "      <td>3.6</td>\n",
              "      <td>116.65</td>\n",
              "      <td>201.9</td>\n",
              "      <td>323.70</td>\n",
              "      <td>1557.6</td>\n",
              "    </tr>\n",
              "    <tr>\n",
              "      <th>Data.Rates.Violent.Murder</th>\n",
              "      <td>2751.0</td>\n",
              "      <td>6.691821e+00</td>\n",
              "      <td>6.127160e+00</td>\n",
              "      <td>0.2</td>\n",
              "      <td>3.20</td>\n",
              "      <td>5.6</td>\n",
              "      <td>8.80</td>\n",
              "      <td>80.6</td>\n",
              "    </tr>\n",
              "    <tr>\n",
              "      <th>Data.Rates.Violent.Rape</th>\n",
              "      <td>2751.0</td>\n",
              "      <td>2.832156e+01</td>\n",
              "      <td>1.560217e+01</td>\n",
              "      <td>0.8</td>\n",
              "      <td>17.10</td>\n",
              "      <td>27.1</td>\n",
              "      <td>37.60</td>\n",
              "      <td>102.2</td>\n",
              "    </tr>\n",
              "    <tr>\n",
              "      <th>Data.Rates.Violent.Robbery</th>\n",
              "      <td>2751.0</td>\n",
              "      <td>1.290566e+02</td>\n",
              "      <td>1.496025e+02</td>\n",
              "      <td>1.9</td>\n",
              "      <td>41.80</td>\n",
              "      <td>98.6</td>\n",
              "      <td>160.85</td>\n",
              "      <td>1635.1</td>\n",
              "    </tr>\n",
              "    <tr>\n",
              "      <th>Data.Totals.Property.All</th>\n",
              "      <td>2751.0</td>\n",
              "      <td>3.633906e+05</td>\n",
              "      <td>1.351616e+06</td>\n",
              "      <td>3147.0</td>\n",
              "      <td>39845.50</td>\n",
              "      <td>108677.0</td>\n",
              "      <td>229563.50</td>\n",
              "      <td>12961116.0</td>\n",
              "    </tr>\n",
              "    <tr>\n",
              "      <th>Data.Totals.Property.Burglary</th>\n",
              "      <td>2751.0</td>\n",
              "      <td>9.402040e+04</td>\n",
              "      <td>3.510220e+05</td>\n",
              "      <td>751.0</td>\n",
              "      <td>9850.00</td>\n",
              "      <td>28389.0</td>\n",
              "      <td>57669.50</td>\n",
              "      <td>3795200.0</td>\n",
              "    </tr>\n",
              "    <tr>\n",
              "      <th>Data.Totals.Property.Larceny</th>\n",
              "      <td>2751.0</td>\n",
              "      <td>2.293203e+05</td>\n",
              "      <td>8.565842e+05</td>\n",
              "      <td>1489.0</td>\n",
              "      <td>25898.00</td>\n",
              "      <td>70931.0</td>\n",
              "      <td>147105.50</td>\n",
              "      <td>8142228.0</td>\n",
              "    </tr>\n",
              "    <tr>\n",
              "      <th>Data.Totals.Property.Motor</th>\n",
              "      <td>2751.0</td>\n",
              "      <td>4.005010e+04</td>\n",
              "      <td>1.519735e+05</td>\n",
              "      <td>334.0</td>\n",
              "      <td>3199.00</td>\n",
              "      <td>9328.0</td>\n",
              "      <td>22772.50</td>\n",
              "      <td>1661738.0</td>\n",
              "    </tr>\n",
              "    <tr>\n",
              "      <th>Data.Totals.Violent.All</th>\n",
              "      <td>2751.0</td>\n",
              "      <td>4.571977e+04</td>\n",
              "      <td>1.768145e+05</td>\n",
              "      <td>37.0</td>\n",
              "      <td>3077.50</td>\n",
              "      <td>10835.0</td>\n",
              "      <td>28695.50</td>\n",
              "      <td>1932274.0</td>\n",
              "    </tr>\n",
              "    <tr>\n",
              "      <th>Data.Totals.Violent.Assault</th>\n",
              "      <td>2751.0</td>\n",
              "      <td>2.613832e+04</td>\n",
              "      <td>1.027906e+05</td>\n",
              "      <td>14.0</td>\n",
              "      <td>1879.00</td>\n",
              "      <td>6443.0</td>\n",
              "      <td>17122.00</td>\n",
              "      <td>1135607.0</td>\n",
              "    </tr>\n",
              "    <tr>\n",
              "      <th>Data.Totals.Violent.Murder</th>\n",
              "      <td>2751.0</td>\n",
              "      <td>6.708313e+02</td>\n",
              "      <td>2.470164e+03</td>\n",
              "      <td>1.0</td>\n",
              "      <td>47.00</td>\n",
              "      <td>185.0</td>\n",
              "      <td>461.50</td>\n",
              "      <td>24703.0</td>\n",
              "    </tr>\n",
              "    <tr>\n",
              "      <th>Data.Totals.Violent.Rape</th>\n",
              "      <td>2751.0</td>\n",
              "      <td>2.785149e+03</td>\n",
              "      <td>1.069350e+04</td>\n",
              "      <td>6.0</td>\n",
              "      <td>292.00</td>\n",
              "      <td>836.0</td>\n",
              "      <td>1770.50</td>\n",
              "      <td>109062.0</td>\n",
              "    </tr>\n",
              "    <tr>\n",
              "      <th>Data.Totals.Violent.Robbery</th>\n",
              "      <td>2751.0</td>\n",
              "      <td>1.612547e+04</td>\n",
              "      <td>6.223056e+04</td>\n",
              "      <td>8.0</td>\n",
              "      <td>788.50</td>\n",
              "      <td>3224.0</td>\n",
              "      <td>8513.50</td>\n",
              "      <td>687732.0</td>\n",
              "    </tr>\n",
              "  </tbody>\n",
              "</table>\n",
              "</div>"
            ],
            "text/plain": [
              "                                count          mean  ...         75%          max\n",
              "Year                           2751.0  1.986044e+03  ...     1999.00       2012.0\n",
              "Data.Population                2751.0  9.349570e+06  ...  5840286.00  313914040.0\n",
              "Data.Rates.Property.All        2751.0  3.686539e+03  ...     4579.15       9512.1\n",
              "Data.Rates.Property.Burglary   2751.0  9.312073e+02  ...     1183.80       2906.7\n",
              "Data.Rates.Property.Larceny    2751.0  2.395550e+03  ...     2957.05       5833.8\n",
              "Data.Rates.Property.Motor      2751.0  3.597821e+02  ...      458.05       1839.9\n",
              "Data.Rates.Violent.All         2751.0  4.003703e+02  ...      533.50       2921.8\n",
              "Data.Rates.Violent.Assault     2751.0  2.362985e+02  ...      323.70       1557.6\n",
              "Data.Rates.Violent.Murder      2751.0  6.691821e+00  ...        8.80         80.6\n",
              "Data.Rates.Violent.Rape        2751.0  2.832156e+01  ...       37.60        102.2\n",
              "Data.Rates.Violent.Robbery     2751.0  1.290566e+02  ...      160.85       1635.1\n",
              "Data.Totals.Property.All       2751.0  3.633906e+05  ...   229563.50   12961116.0\n",
              "Data.Totals.Property.Burglary  2751.0  9.402040e+04  ...    57669.50    3795200.0\n",
              "Data.Totals.Property.Larceny   2751.0  2.293203e+05  ...   147105.50    8142228.0\n",
              "Data.Totals.Property.Motor     2751.0  4.005010e+04  ...    22772.50    1661738.0\n",
              "Data.Totals.Violent.All        2751.0  4.571977e+04  ...    28695.50    1932274.0\n",
              "Data.Totals.Violent.Assault    2751.0  2.613832e+04  ...    17122.00    1135607.0\n",
              "Data.Totals.Violent.Murder     2751.0  6.708313e+02  ...      461.50      24703.0\n",
              "Data.Totals.Violent.Rape       2751.0  2.785149e+03  ...     1770.50     109062.0\n",
              "Data.Totals.Violent.Robbery    2751.0  1.612547e+04  ...     8513.50     687732.0\n",
              "\n",
              "[20 rows x 8 columns]"
            ]
          },
          "metadata": {
            "tags": []
          },
          "execution_count": 9
        }
      ]
    },
    {
      "cell_type": "code",
      "metadata": {
        "colab": {
          "base_uri": "https://localhost:8080/",
          "height": 689
        },
        "id": "EKlhPiri10S0",
        "outputId": "9fcb33ee-2b1b-4515-b0be-e395d8c5fa16"
      },
      "source": [
        "crimes.corr()\n"
      ],
      "execution_count": null,
      "outputs": [
        {
          "output_type": "execute_result",
          "data": {
            "text/html": [
              "<div>\n",
              "<style scoped>\n",
              "    .dataframe tbody tr th:only-of-type {\n",
              "        vertical-align: middle;\n",
              "    }\n",
              "\n",
              "    .dataframe tbody tr th {\n",
              "        vertical-align: top;\n",
              "    }\n",
              "\n",
              "    .dataframe thead th {\n",
              "        text-align: right;\n",
              "    }\n",
              "</style>\n",
              "<table border=\"1\" class=\"dataframe\">\n",
              "  <thead>\n",
              "    <tr style=\"text-align: right;\">\n",
              "      <th></th>\n",
              "      <th>Year</th>\n",
              "      <th>Data.Population</th>\n",
              "      <th>Data.Rates.Property.All</th>\n",
              "      <th>Data.Rates.Property.Burglary</th>\n",
              "      <th>Data.Rates.Property.Larceny</th>\n",
              "      <th>Data.Rates.Property.Motor</th>\n",
              "      <th>Data.Rates.Violent.All</th>\n",
              "      <th>Data.Rates.Violent.Assault</th>\n",
              "      <th>Data.Rates.Violent.Murder</th>\n",
              "      <th>Data.Rates.Violent.Rape</th>\n",
              "      <th>Data.Rates.Violent.Robbery</th>\n",
              "      <th>Data.Totals.Property.All</th>\n",
              "      <th>Data.Totals.Property.Burglary</th>\n",
              "      <th>Data.Totals.Property.Larceny</th>\n",
              "      <th>Data.Totals.Property.Motor</th>\n",
              "      <th>Data.Totals.Violent.All</th>\n",
              "      <th>Data.Totals.Violent.Assault</th>\n",
              "      <th>Data.Totals.Violent.Murder</th>\n",
              "      <th>Data.Totals.Violent.Rape</th>\n",
              "      <th>Data.Totals.Violent.Robbery</th>\n",
              "    </tr>\n",
              "  </thead>\n",
              "  <tbody>\n",
              "    <tr>\n",
              "      <th>Year</th>\n",
              "      <td>1.000000</td>\n",
              "      <td>0.045840</td>\n",
              "      <td>0.196759</td>\n",
              "      <td>-0.071650</td>\n",
              "      <td>0.316667</td>\n",
              "      <td>0.101218</td>\n",
              "      <td>0.293079</td>\n",
              "      <td>0.402535</td>\n",
              "      <td>-0.049522</td>\n",
              "      <td>0.514624</td>\n",
              "      <td>0.092314</td>\n",
              "      <td>0.049602</td>\n",
              "      <td>0.018302</td>\n",
              "      <td>0.062472</td>\n",
              "      <td>0.046759</td>\n",
              "      <td>0.076729</td>\n",
              "      <td>0.092915</td>\n",
              "      <td>0.021553</td>\n",
              "      <td>0.087333</td>\n",
              "      <td>0.048673</td>\n",
              "    </tr>\n",
              "    <tr>\n",
              "      <th>Data.Population</th>\n",
              "      <td>0.045840</td>\n",
              "      <td>1.000000</td>\n",
              "      <td>0.038921</td>\n",
              "      <td>0.046683</td>\n",
              "      <td>0.017355</td>\n",
              "      <td>0.083688</td>\n",
              "      <td>0.082319</td>\n",
              "      <td>0.073181</td>\n",
              "      <td>0.021857</td>\n",
              "      <td>0.026151</td>\n",
              "      <td>0.080592</td>\n",
              "      <td>0.969709</td>\n",
              "      <td>0.947986</td>\n",
              "      <td>0.972248</td>\n",
              "      <td>0.954765</td>\n",
              "      <td>0.954745</td>\n",
              "      <td>0.948259</td>\n",
              "      <td>0.963486</td>\n",
              "      <td>0.962036</td>\n",
              "      <td>0.942837</td>\n",
              "    </tr>\n",
              "    <tr>\n",
              "      <th>Data.Rates.Property.All</th>\n",
              "      <td>0.196759</td>\n",
              "      <td>0.038921</td>\n",
              "      <td>1.000000</td>\n",
              "      <td>0.877684</td>\n",
              "      <td>0.961216</td>\n",
              "      <td>0.704925</td>\n",
              "      <td>0.693501</td>\n",
              "      <td>0.646107</td>\n",
              "      <td>0.453383</td>\n",
              "      <td>0.640202</td>\n",
              "      <td>0.591581</td>\n",
              "      <td>0.105891</td>\n",
              "      <td>0.114166</td>\n",
              "      <td>0.101522</td>\n",
              "      <td>0.105853</td>\n",
              "      <td>0.106040</td>\n",
              "      <td>0.099793</td>\n",
              "      <td>0.092711</td>\n",
              "      <td>0.098304</td>\n",
              "      <td>0.115882</td>\n",
              "    </tr>\n",
              "    <tr>\n",
              "      <th>Data.Rates.Property.Burglary</th>\n",
              "      <td>-0.071650</td>\n",
              "      <td>0.046683</td>\n",
              "      <td>0.877684</td>\n",
              "      <td>1.000000</td>\n",
              "      <td>0.741666</td>\n",
              "      <td>0.581951</td>\n",
              "      <td>0.591567</td>\n",
              "      <td>0.509714</td>\n",
              "      <td>0.465853</td>\n",
              "      <td>0.481146</td>\n",
              "      <td>0.553621</td>\n",
              "      <td>0.109417</td>\n",
              "      <td>0.137044</td>\n",
              "      <td>0.098287</td>\n",
              "      <td>0.102606</td>\n",
              "      <td>0.099278</td>\n",
              "      <td>0.085673</td>\n",
              "      <td>0.110947</td>\n",
              "      <td>0.089681</td>\n",
              "      <td>0.120750</td>\n",
              "    </tr>\n",
              "    <tr>\n",
              "      <th>Data.Rates.Property.Larceny</th>\n",
              "      <td>0.316667</td>\n",
              "      <td>0.017355</td>\n",
              "      <td>0.961216</td>\n",
              "      <td>0.741666</td>\n",
              "      <td>1.000000</td>\n",
              "      <td>0.570185</td>\n",
              "      <td>0.617195</td>\n",
              "      <td>0.607928</td>\n",
              "      <td>0.346843</td>\n",
              "      <td>0.662687</td>\n",
              "      <td>0.483003</td>\n",
              "      <td>0.080120</td>\n",
              "      <td>0.079636</td>\n",
              "      <td>0.080664</td>\n",
              "      <td>0.073971</td>\n",
              "      <td>0.081311</td>\n",
              "      <td>0.080504</td>\n",
              "      <td>0.059179</td>\n",
              "      <td>0.079899</td>\n",
              "      <td>0.081973</td>\n",
              "    </tr>\n",
              "    <tr>\n",
              "      <th>Data.Rates.Property.Motor</th>\n",
              "      <td>0.101218</td>\n",
              "      <td>0.083688</td>\n",
              "      <td>0.704925</td>\n",
              "      <td>0.581951</td>\n",
              "      <td>0.570185</td>\n",
              "      <td>1.000000</td>\n",
              "      <td>0.720643</td>\n",
              "      <td>0.619633</td>\n",
              "      <td>0.545024</td>\n",
              "      <td>0.418137</td>\n",
              "      <td>0.694282</td>\n",
              "      <td>0.129668</td>\n",
              "      <td>0.129820</td>\n",
              "      <td>0.121708</td>\n",
              "      <td>0.167388</td>\n",
              "      <td>0.145531</td>\n",
              "      <td>0.136026</td>\n",
              "      <td>0.128156</td>\n",
              "      <td>0.121321</td>\n",
              "      <td>0.162875</td>\n",
              "    </tr>\n",
              "    <tr>\n",
              "      <th>Data.Rates.Violent.All</th>\n",
              "      <td>0.293079</td>\n",
              "      <td>0.082319</td>\n",
              "      <td>0.693501</td>\n",
              "      <td>0.591567</td>\n",
              "      <td>0.617195</td>\n",
              "      <td>0.720643</td>\n",
              "      <td>1.000000</td>\n",
              "      <td>0.918922</td>\n",
              "      <td>0.775219</td>\n",
              "      <td>0.630684</td>\n",
              "      <td>0.892549</td>\n",
              "      <td>0.123325</td>\n",
              "      <td>0.121021</td>\n",
              "      <td>0.120521</td>\n",
              "      <td>0.137987</td>\n",
              "      <td>0.154774</td>\n",
              "      <td>0.151077</td>\n",
              "      <td>0.131322</td>\n",
              "      <td>0.127578</td>\n",
              "      <td>0.163078</td>\n",
              "    </tr>\n",
              "    <tr>\n",
              "      <th>Data.Rates.Violent.Assault</th>\n",
              "      <td>0.402535</td>\n",
              "      <td>0.073181</td>\n",
              "      <td>0.646107</td>\n",
              "      <td>0.509714</td>\n",
              "      <td>0.607928</td>\n",
              "      <td>0.619633</td>\n",
              "      <td>0.918922</td>\n",
              "      <td>1.000000</td>\n",
              "      <td>0.646336</td>\n",
              "      <td>0.650564</td>\n",
              "      <td>0.644737</td>\n",
              "      <td>0.113298</td>\n",
              "      <td>0.104477</td>\n",
              "      <td>0.113762</td>\n",
              "      <td>0.125124</td>\n",
              "      <td>0.148276</td>\n",
              "      <td>0.156036</td>\n",
              "      <td>0.115572</td>\n",
              "      <td>0.125351</td>\n",
              "      <td>0.137431</td>\n",
              "    </tr>\n",
              "    <tr>\n",
              "      <th>Data.Rates.Violent.Murder</th>\n",
              "      <td>-0.049522</td>\n",
              "      <td>0.021857</td>\n",
              "      <td>0.453383</td>\n",
              "      <td>0.465853</td>\n",
              "      <td>0.346843</td>\n",
              "      <td>0.545024</td>\n",
              "      <td>0.775219</td>\n",
              "      <td>0.646336</td>\n",
              "      <td>1.000000</td>\n",
              "      <td>0.306151</td>\n",
              "      <td>0.767115</td>\n",
              "      <td>0.044438</td>\n",
              "      <td>0.054274</td>\n",
              "      <td>0.039242</td>\n",
              "      <td>0.048678</td>\n",
              "      <td>0.054976</td>\n",
              "      <td>0.048330</td>\n",
              "      <td>0.076690</td>\n",
              "      <td>0.039217</td>\n",
              "      <td>0.066589</td>\n",
              "    </tr>\n",
              "    <tr>\n",
              "      <th>Data.Rates.Violent.Rape</th>\n",
              "      <td>0.514624</td>\n",
              "      <td>0.026151</td>\n",
              "      <td>0.640202</td>\n",
              "      <td>0.481146</td>\n",
              "      <td>0.662687</td>\n",
              "      <td>0.418137</td>\n",
              "      <td>0.630684</td>\n",
              "      <td>0.650564</td>\n",
              "      <td>0.306151</td>\n",
              "      <td>1.000000</td>\n",
              "      <td>0.429663</td>\n",
              "      <td>0.070066</td>\n",
              "      <td>0.064876</td>\n",
              "      <td>0.071775</td>\n",
              "      <td>0.068747</td>\n",
              "      <td>0.082705</td>\n",
              "      <td>0.086014</td>\n",
              "      <td>0.057390</td>\n",
              "      <td>0.095884</td>\n",
              "      <td>0.074159</td>\n",
              "    </tr>\n",
              "    <tr>\n",
              "      <th>Data.Rates.Violent.Robbery</th>\n",
              "      <td>0.092314</td>\n",
              "      <td>0.080592</td>\n",
              "      <td>0.591581</td>\n",
              "      <td>0.553621</td>\n",
              "      <td>0.483003</td>\n",
              "      <td>0.694282</td>\n",
              "      <td>0.892549</td>\n",
              "      <td>0.644737</td>\n",
              "      <td>0.767115</td>\n",
              "      <td>0.429663</td>\n",
              "      <td>1.000000</td>\n",
              "      <td>0.113013</td>\n",
              "      <td>0.118229</td>\n",
              "      <td>0.106935</td>\n",
              "      <td>0.129301</td>\n",
              "      <td>0.135730</td>\n",
              "      <td>0.119751</td>\n",
              "      <td>0.126503</td>\n",
              "      <td>0.105808</td>\n",
              "      <td>0.164643</td>\n",
              "    </tr>\n",
              "    <tr>\n",
              "      <th>Data.Totals.Property.All</th>\n",
              "      <td>0.049602</td>\n",
              "      <td>0.969709</td>\n",
              "      <td>0.105891</td>\n",
              "      <td>0.109417</td>\n",
              "      <td>0.080120</td>\n",
              "      <td>0.129668</td>\n",
              "      <td>0.123325</td>\n",
              "      <td>0.113298</td>\n",
              "      <td>0.044438</td>\n",
              "      <td>0.070066</td>\n",
              "      <td>0.113013</td>\n",
              "      <td>1.000000</td>\n",
              "      <td>0.986919</td>\n",
              "      <td>0.998131</td>\n",
              "      <td>0.988351</td>\n",
              "      <td>0.987848</td>\n",
              "      <td>0.974554</td>\n",
              "      <td>0.989752</td>\n",
              "      <td>0.986251</td>\n",
              "      <td>0.988253</td>\n",
              "    </tr>\n",
              "    <tr>\n",
              "      <th>Data.Totals.Property.Burglary</th>\n",
              "      <td>0.018302</td>\n",
              "      <td>0.947986</td>\n",
              "      <td>0.114166</td>\n",
              "      <td>0.137044</td>\n",
              "      <td>0.079636</td>\n",
              "      <td>0.129820</td>\n",
              "      <td>0.121021</td>\n",
              "      <td>0.104477</td>\n",
              "      <td>0.054274</td>\n",
              "      <td>0.064876</td>\n",
              "      <td>0.118229</td>\n",
              "      <td>0.986919</td>\n",
              "      <td>1.000000</td>\n",
              "      <td>0.976080</td>\n",
              "      <td>0.966080</td>\n",
              "      <td>0.955990</td>\n",
              "      <td>0.929553</td>\n",
              "      <td>0.990589</td>\n",
              "      <td>0.951684</td>\n",
              "      <td>0.977976</td>\n",
              "    </tr>\n",
              "    <tr>\n",
              "      <th>Data.Totals.Property.Larceny</th>\n",
              "      <td>0.062472</td>\n",
              "      <td>0.972248</td>\n",
              "      <td>0.101522</td>\n",
              "      <td>0.098287</td>\n",
              "      <td>0.080664</td>\n",
              "      <td>0.121708</td>\n",
              "      <td>0.120521</td>\n",
              "      <td>0.113762</td>\n",
              "      <td>0.039242</td>\n",
              "      <td>0.071775</td>\n",
              "      <td>0.106935</td>\n",
              "      <td>0.998131</td>\n",
              "      <td>0.976080</td>\n",
              "      <td>1.000000</td>\n",
              "      <td>0.986222</td>\n",
              "      <td>0.991721</td>\n",
              "      <td>0.983531</td>\n",
              "      <td>0.981619</td>\n",
              "      <td>0.992933</td>\n",
              "      <td>0.983606</td>\n",
              "    </tr>\n",
              "    <tr>\n",
              "      <th>Data.Totals.Property.Motor</th>\n",
              "      <td>0.046759</td>\n",
              "      <td>0.954765</td>\n",
              "      <td>0.105853</td>\n",
              "      <td>0.102606</td>\n",
              "      <td>0.073971</td>\n",
              "      <td>0.167388</td>\n",
              "      <td>0.137987</td>\n",
              "      <td>0.125124</td>\n",
              "      <td>0.048678</td>\n",
              "      <td>0.068747</td>\n",
              "      <td>0.129301</td>\n",
              "      <td>0.988351</td>\n",
              "      <td>0.966080</td>\n",
              "      <td>0.986222</td>\n",
              "      <td>1.000000</td>\n",
              "      <td>0.987836</td>\n",
              "      <td>0.976836</td>\n",
              "      <td>0.981796</td>\n",
              "      <td>0.976750</td>\n",
              "      <td>0.986399</td>\n",
              "    </tr>\n",
              "    <tr>\n",
              "      <th>Data.Totals.Violent.All</th>\n",
              "      <td>0.076729</td>\n",
              "      <td>0.954745</td>\n",
              "      <td>0.106040</td>\n",
              "      <td>0.099278</td>\n",
              "      <td>0.081311</td>\n",
              "      <td>0.145531</td>\n",
              "      <td>0.154774</td>\n",
              "      <td>0.148276</td>\n",
              "      <td>0.054976</td>\n",
              "      <td>0.082705</td>\n",
              "      <td>0.135730</td>\n",
              "      <td>0.987848</td>\n",
              "      <td>0.955990</td>\n",
              "      <td>0.991721</td>\n",
              "      <td>0.987836</td>\n",
              "      <td>1.000000</td>\n",
              "      <td>0.995534</td>\n",
              "      <td>0.971136</td>\n",
              "      <td>0.993162</td>\n",
              "      <td>0.987679</td>\n",
              "    </tr>\n",
              "    <tr>\n",
              "      <th>Data.Totals.Violent.Assault</th>\n",
              "      <td>0.092915</td>\n",
              "      <td>0.948259</td>\n",
              "      <td>0.099793</td>\n",
              "      <td>0.085673</td>\n",
              "      <td>0.080504</td>\n",
              "      <td>0.136026</td>\n",
              "      <td>0.151077</td>\n",
              "      <td>0.156036</td>\n",
              "      <td>0.048330</td>\n",
              "      <td>0.086014</td>\n",
              "      <td>0.119751</td>\n",
              "      <td>0.974554</td>\n",
              "      <td>0.929553</td>\n",
              "      <td>0.983531</td>\n",
              "      <td>0.976836</td>\n",
              "      <td>0.995534</td>\n",
              "      <td>1.000000</td>\n",
              "      <td>0.949624</td>\n",
              "      <td>0.992192</td>\n",
              "      <td>0.968634</td>\n",
              "    </tr>\n",
              "    <tr>\n",
              "      <th>Data.Totals.Violent.Murder</th>\n",
              "      <td>0.021553</td>\n",
              "      <td>0.963486</td>\n",
              "      <td>0.092711</td>\n",
              "      <td>0.110947</td>\n",
              "      <td>0.059179</td>\n",
              "      <td>0.128156</td>\n",
              "      <td>0.131322</td>\n",
              "      <td>0.115572</td>\n",
              "      <td>0.076690</td>\n",
              "      <td>0.057390</td>\n",
              "      <td>0.126503</td>\n",
              "      <td>0.989752</td>\n",
              "      <td>0.990589</td>\n",
              "      <td>0.981619</td>\n",
              "      <td>0.981796</td>\n",
              "      <td>0.971136</td>\n",
              "      <td>0.949624</td>\n",
              "      <td>1.000000</td>\n",
              "      <td>0.962063</td>\n",
              "      <td>0.985699</td>\n",
              "    </tr>\n",
              "    <tr>\n",
              "      <th>Data.Totals.Violent.Rape</th>\n",
              "      <td>0.087333</td>\n",
              "      <td>0.962036</td>\n",
              "      <td>0.098304</td>\n",
              "      <td>0.089681</td>\n",
              "      <td>0.079899</td>\n",
              "      <td>0.121321</td>\n",
              "      <td>0.127578</td>\n",
              "      <td>0.125351</td>\n",
              "      <td>0.039217</td>\n",
              "      <td>0.095884</td>\n",
              "      <td>0.105808</td>\n",
              "      <td>0.986251</td>\n",
              "      <td>0.951684</td>\n",
              "      <td>0.992933</td>\n",
              "      <td>0.976750</td>\n",
              "      <td>0.993162</td>\n",
              "      <td>0.992192</td>\n",
              "      <td>0.962063</td>\n",
              "      <td>1.000000</td>\n",
              "      <td>0.972956</td>\n",
              "    </tr>\n",
              "    <tr>\n",
              "      <th>Data.Totals.Violent.Robbery</th>\n",
              "      <td>0.048673</td>\n",
              "      <td>0.942837</td>\n",
              "      <td>0.115882</td>\n",
              "      <td>0.120750</td>\n",
              "      <td>0.081973</td>\n",
              "      <td>0.162875</td>\n",
              "      <td>0.163078</td>\n",
              "      <td>0.137431</td>\n",
              "      <td>0.066589</td>\n",
              "      <td>0.074159</td>\n",
              "      <td>0.164643</td>\n",
              "      <td>0.988253</td>\n",
              "      <td>0.977976</td>\n",
              "      <td>0.983606</td>\n",
              "      <td>0.986399</td>\n",
              "      <td>0.987679</td>\n",
              "      <td>0.968634</td>\n",
              "      <td>0.985699</td>\n",
              "      <td>0.972956</td>\n",
              "      <td>1.000000</td>\n",
              "    </tr>\n",
              "  </tbody>\n",
              "</table>\n",
              "</div>"
            ],
            "text/plain": [
              "                                   Year  ...  Data.Totals.Violent.Robbery\n",
              "Year                           1.000000  ...                     0.048673\n",
              "Data.Population                0.045840  ...                     0.942837\n",
              "Data.Rates.Property.All        0.196759  ...                     0.115882\n",
              "Data.Rates.Property.Burglary  -0.071650  ...                     0.120750\n",
              "Data.Rates.Property.Larceny    0.316667  ...                     0.081973\n",
              "Data.Rates.Property.Motor      0.101218  ...                     0.162875\n",
              "Data.Rates.Violent.All         0.293079  ...                     0.163078\n",
              "Data.Rates.Violent.Assault     0.402535  ...                     0.137431\n",
              "Data.Rates.Violent.Murder     -0.049522  ...                     0.066589\n",
              "Data.Rates.Violent.Rape        0.514624  ...                     0.074159\n",
              "Data.Rates.Violent.Robbery     0.092314  ...                     0.164643\n",
              "Data.Totals.Property.All       0.049602  ...                     0.988253\n",
              "Data.Totals.Property.Burglary  0.018302  ...                     0.977976\n",
              "Data.Totals.Property.Larceny   0.062472  ...                     0.983606\n",
              "Data.Totals.Property.Motor     0.046759  ...                     0.986399\n",
              "Data.Totals.Violent.All        0.076729  ...                     0.987679\n",
              "Data.Totals.Violent.Assault    0.092915  ...                     0.968634\n",
              "Data.Totals.Violent.Murder     0.021553  ...                     0.985699\n",
              "Data.Totals.Violent.Rape       0.087333  ...                     0.972956\n",
              "Data.Totals.Violent.Robbery    0.048673  ...                     1.000000\n",
              "\n",
              "[20 rows x 20 columns]"
            ]
          },
          "metadata": {
            "tags": []
          },
          "execution_count": 10
        }
      ]
    },
    {
      "cell_type": "markdown",
      "metadata": {
        "id": "bLCu8tSn2xqS"
      },
      "source": [
        "\n",
        "\n",
        "\n",
        "\n",
        "## **2.   DATA PREPROCCESSING**\n",
        "\n",
        "\n",
        "\n",
        "\n",
        "\n",
        "\n",
        "\n"
      ]
    },
    {
      "cell_type": "code",
      "metadata": {
        "id": "F-bdTQno3vgP"
      },
      "source": [
        "from sklearn.preprocessing import LabelEncoder\n"
      ],
      "execution_count": null,
      "outputs": []
    },
    {
      "cell_type": "code",
      "metadata": {
        "id": "f-ZQxzI918rj"
      },
      "source": [
        "state = LabelEncoder()\n"
      ],
      "execution_count": null,
      "outputs": []
    },
    {
      "cell_type": "code",
      "metadata": {
        "id": "GIiNgNDl3tsY"
      },
      "source": [
        "crimes['State'] =state.fit_transform(crimes['State'])\n"
      ],
      "execution_count": null,
      "outputs": []
    },
    {
      "cell_type": "markdown",
      "metadata": {
        "id": "o3VjEbQ44c4h"
      },
      "source": [
        "##  **3.DATA CLEANING**"
      ]
    },
    {
      "cell_type": "code",
      "metadata": {
        "colab": {
          "base_uri": "https://localhost:8080/"
        },
        "id": "F1opH2ld4bhV",
        "outputId": "935b8b35-1f6e-4b59-bcf3-05f214ce6262"
      },
      "source": [
        "crimes.isnull().sum()\n"
      ],
      "execution_count": null,
      "outputs": [
        {
          "output_type": "execute_result",
          "data": {
            "text/plain": [
              "State                            0\n",
              "Year                             0\n",
              "Data.Population                  0\n",
              "Data.Rates.Property.All          0\n",
              "Data.Rates.Property.Burglary     0\n",
              "Data.Rates.Property.Larceny      0\n",
              "Data.Rates.Property.Motor        0\n",
              "Data.Rates.Violent.All           0\n",
              "Data.Rates.Violent.Assault       0\n",
              "Data.Rates.Violent.Murder        0\n",
              "Data.Rates.Violent.Rape          0\n",
              "Data.Rates.Violent.Robbery       0\n",
              "Data.Totals.Property.All         0\n",
              "Data.Totals.Property.Burglary    0\n",
              "Data.Totals.Property.Larceny     0\n",
              "Data.Totals.Property.Motor       0\n",
              "Data.Totals.Violent.All          0\n",
              "Data.Totals.Violent.Assault      0\n",
              "Data.Totals.Violent.Murder       0\n",
              "Data.Totals.Violent.Rape         0\n",
              "Data.Totals.Violent.Robbery      0\n",
              "dtype: int64"
            ]
          },
          "metadata": {
            "tags": []
          },
          "execution_count": 18
        }
      ]
    },
    {
      "cell_type": "code",
      "metadata": {
        "colab": {
          "base_uri": "https://localhost:8080/"
        },
        "id": "47JV_8yM47Yn",
        "outputId": "c8e54b63-6dfb-4466-9814-8653fa5f1157"
      },
      "source": [
        "crimes.duplicated().sum()\n"
      ],
      "execution_count": null,
      "outputs": [
        {
          "output_type": "execute_result",
          "data": {
            "text/plain": [
              "0"
            ]
          },
          "metadata": {
            "tags": []
          },
          "execution_count": 0
        }
      ]
    },
    {
      "cell_type": "markdown",
      "metadata": {
        "id": "O6oY_Afr5N8c"
      },
      "source": [
        "## **4.DATA SPLITTING**"
      ]
    },
    {
      "cell_type": "code",
      "metadata": {
        "id": "2paYWL2O5Cr8"
      },
      "source": [
        "x=crimes[['State','Year','Data.Population','Data.Rates.Property.All','Data.Rates.Property.Burglary','Data.Rates.Property.Larceny','Data.Rates.Property.Motor','Data.Rates.Violent.All','Data.Rates.Violent.Assault','Data.Rates.Violent.Murder','Data.Rates.Violent.Rape','Data.Rates.Violent.Robbery']]\n",
        "y=crimes['Data.Totals.Property.All']+crimes['Data.Totals.Property.Burglary']+crimes['Data.Totals.Property.Larceny']+crimes['Data.Totals.Property.Motor']+crimes['Data.Totals.Violent.All']+crimes['Data.Totals.Violent.Assault']+crimes['Data.Totals.Violent.Murder']+crimes['Data.Totals.Violent.Rape']+crimes['Data.Totals.Violent.Robbery']"
      ],
      "execution_count": null,
      "outputs": []
    },
    {
      "cell_type": "markdown",
      "metadata": {
        "id": "02Upi1vN59c7"
      },
      "source": [
        "## **5. DATA VISULATION**"
      ]
    },
    {
      "cell_type": "code",
      "metadata": {
        "id": "UXgaIMdE5_zd"
      },
      "source": [
        "import matplotlib.pyplot as plt\n",
        "import seaborn as sns\n",
        "\n"
      ],
      "execution_count": null,
      "outputs": []
    },
    {
      "cell_type": "code",
      "metadata": {
        "colab": {
          "base_uri": "https://localhost:8080/",
          "height": 276
        },
        "id": "BhbftngrSq69",
        "outputId": "f0630335-652d-4512-e52e-20a05309d3b7"
      },
      "source": [
        "plt.bar(crimes['State'],crimes[\"Data.Population\"])\n",
        "plt.show()"
      ],
      "execution_count": null,
      "outputs": [
        {
          "output_type": "display_data",
          "data": {
            "image/png": "[encoded data removed]",
            "text/plain": [
              "<Figure size 432x288 with 1 Axes>"
            ]
          },
          "metadata": {
            "tags": [],
            "needs_background": "light"
          }
        }
      ]
    },
    {
      "cell_type": "code",
      "metadata": {
        "colab": {
          "base_uri": "https://localhost:8080/",
          "height": 293
        },
        "id": "piw1ypQbSBAB",
        "outputId": "6c81b108-3b56-4456-fa0b-1ee697df2670"
      },
      "source": [
        "plt.bar(crimes[\"Year\"],crimes['Data.Population'],label=\"Population\")"
      ],
      "execution_count": null,
      "outputs": [
        {
          "output_type": "execute_result",
          "data": {
            "text/plain": [
              "<BarContainer object of 2751 artists>"
            ]
          },
          "metadata": {
            "tags": []
          },
          "execution_count": 106
        },
        {
          "output_type": "display_data",
          "data": {
            "image/png": "[encoded data removed]",
            "text/plain": [
              "<Figure size 432x288 with 1 Axes>"
            ]
          },
          "metadata": {
            "tags": [],
            "needs_background": "light"
          }
        }
      ]
    },
    {
      "cell_type": "code",
      "metadata": {
        "colab": {
          "base_uri": "https://localhost:8080/",
          "height": 311
        },
        "id": "zvYC86znTJux",
        "outputId": "de11a636-54b7-4946-8be8-a4e0994c5845"
      },
      "source": [
        "plt.barh(crimes['Year'],y)\n",
        "plt.xlabel=(\"Year\")\n",
        "plt.ylabel=(\"y\")\n",
        "plt.title(\"Total crimes per year\")"
      ],
      "execution_count": null,
      "outputs": [
        {
          "output_type": "execute_result",
          "data": {
            "text/plain": [
              "Text(0.5, 1.0, 'Total crimes per year')"
            ]
          },
          "metadata": {
            "tags": []
          },
          "execution_count": 117
        },
        {
          "output_type": "display_data",
          "data": {
            "image/png": "[encoded data removed]",
            "text/plain": [
              "<Figure size 432x288 with 1 Axes>"
            ]
          },
          "metadata": {
            "tags": [],
            "needs_background": "light"
          }
        }
      ]
    },
    {
      "cell_type": "code",
      "metadata": {
        "colab": {
          "base_uri": "https://localhost:8080/",
          "height": 289
        },
        "id": "X2PXlyYFUmar",
        "outputId": "791627fd-72f8-4edb-84fa-9bb71309b05b"
      },
      "source": [
        "plt.scatter(crimes['Data.Totals.Property.All'],crimes['Data.Totals.Violent.All'],color=['r'])\n",
        "plt.xlabel=('Data.Totals.Property.All')\n",
        "plt.ylabel=('Data.Totals.Violent.All')"
      ],
      "execution_count": null,
      "outputs": [
        {
          "output_type": "display_data",
          "data": {
            "image/png": "[encoded data removed]",
            "text/plain": [
              "<Figure size 432x288 with 1 Axes>"
            ]
          },
          "metadata": {
            "tags": [],
            "needs_background": "light"
          }
        }
      ]
    },
    {
      "cell_type": "code",
      "metadata": {
        "colab": {
          "base_uri": "https://localhost:8080/",
          "height": 293
        },
        "id": "S__eh82KYx0S",
        "outputId": "e6749ccb-a0c8-4481-bc9a-00d1486eeaeb"
      },
      "source": [
        "plt.bar(crimes['Year'],y,color='yellow',label='crime')\n",
        "plt.bar(crimes['Year'],crimes['Data.Totals.Property.All'],color='blue',label='PropertyAll')\n",
        "plt.bar(crimes['Year'],crimes['Data.Totals.Violent.All'],color='green',label='ViolentAll')\n",
        "plt.legend()"
      ],
      "execution_count": null,
      "outputs": [
        {
          "output_type": "execute_result",
          "data": {
            "text/plain": [
              "<matplotlib.legend.Legend at 0x7ff1c2384fd0>"
            ]
          },
          "metadata": {
            "tags": []
          },
          "execution_count": 131
        },
        {
          "output_type": "display_data",
          "data": {
            "image/png": "[encoded data removed]",
            "text/plain": [
              "<Figure size 432x288 with 1 Axes>"
            ]
          },
          "metadata": {
            "tags": [],
            "needs_background": "light"
          }
        }
      ]
    },
    {
      "cell_type": "markdown",
      "metadata": {
        "id": "MaUjlIGWCDc3"
      },
      "source": [
        ""
      ]
    },
    {
      "cell_type": "markdown",
      "metadata": {
        "id": "JhQsbkiu6QhD"
      },
      "source": [
        "## **TRAINING AND TESTING**"
      ]
    },
    {
      "cell_type": "code",
      "metadata": {
        "id": "r531ow1b6UUZ"
      },
      "source": [
        "from sklearn.model_selection import train_test_split\n"
      ],
      "execution_count": null,
      "outputs": []
    },
    {
      "cell_type": "code",
      "metadata": {
        "id": "JQR_5qW_6fwo"
      },
      "source": [
        "x_train,x_test,y_train,y_test = train_test_split(x,y,test_size=0.3,random_state=10)"
      ],
      "execution_count": null,
      "outputs": []
    },
    {
      "cell_type": "code",
      "metadata": {
        "colab": {
          "base_uri": "https://localhost:8080/",
          "height": 439
        },
        "id": "k-yUBmbI6nAI",
        "outputId": "f469e0d2-317c-4cf6-e9a1-2703c879509a"
      },
      "source": [
        "x_train"
      ],
      "execution_count": null,
      "outputs": [
        {
          "output_type": "execute_result",
          "data": {
            "text/html": [
              "<div>\n",
              "<style scoped>\n",
              "    .dataframe tbody tr th:only-of-type {\n",
              "        vertical-align: middle;\n",
              "    }\n",
              "\n",
              "    .dataframe tbody tr th {\n",
              "        vertical-align: top;\n",
              "    }\n",
              "\n",
              "    .dataframe thead th {\n",
              "        text-align: right;\n",
              "    }\n",
              "</style>\n",
              "<table border=\"1\" class=\"dataframe\">\n",
              "  <thead>\n",
              "    <tr style=\"text-align: right;\">\n",
              "      <th></th>\n",
              "      <th>State</th>\n",
              "      <th>Year</th>\n",
              "      <th>Data.Population</th>\n",
              "      <th>Data.Rates.Property.All</th>\n",
              "      <th>Data.Rates.Property.Burglary</th>\n",
              "      <th>Data.Rates.Property.Larceny</th>\n",
              "      <th>Data.Rates.Property.Motor</th>\n",
              "      <th>Data.Rates.Violent.All</th>\n",
              "      <th>Data.Rates.Violent.Assault</th>\n",
              "      <th>Data.Rates.Violent.Murder</th>\n",
              "      <th>Data.Rates.Violent.Rape</th>\n",
              "      <th>Data.Rates.Violent.Robbery</th>\n",
              "    </tr>\n",
              "  </thead>\n",
              "  <tbody>\n",
              "    <tr>\n",
              "      <th>2211</th>\n",
              "      <td>41</td>\n",
              "      <td>2003</td>\n",
              "      <td>764905</td>\n",
              "      <td>2003.4</td>\n",
              "      <td>376.3</td>\n",
              "      <td>1512.9</td>\n",
              "      <td>114.3</td>\n",
              "      <td>173.7</td>\n",
              "      <td>112.3</td>\n",
              "      <td>1.3</td>\n",
              "      <td>46.5</td>\n",
              "      <td>13.6</td>\n",
              "    </tr>\n",
              "    <tr>\n",
              "      <th>1059</th>\n",
              "      <td>19</td>\n",
              "      <td>2012</td>\n",
              "      <td>1329192</td>\n",
              "      <td>2509.9</td>\n",
              "      <td>561.3</td>\n",
              "      <td>1873.7</td>\n",
              "      <td>74.9</td>\n",
              "      <td>122.7</td>\n",
              "      <td>61.0</td>\n",
              "      <td>1.9</td>\n",
              "      <td>28.0</td>\n",
              "      <td>31.8</td>\n",
              "    </tr>\n",
              "    <tr>\n",
              "      <th>893</th>\n",
              "      <td>16</td>\n",
              "      <td>2005</td>\n",
              "      <td>2748172</td>\n",
              "      <td>3806.0</td>\n",
              "      <td>692.4</td>\n",
              "      <td>2774.0</td>\n",
              "      <td>340.0</td>\n",
              "      <td>389.0</td>\n",
              "      <td>280.4</td>\n",
              "      <td>3.7</td>\n",
              "      <td>40.0</td>\n",
              "      <td>65.3</td>\n",
              "    </tr>\n",
              "    <tr>\n",
              "      <th>108</th>\n",
              "      <td>2</td>\n",
              "      <td>1962</td>\n",
              "      <td>1509000</td>\n",
              "      <td>3028.1</td>\n",
              "      <td>774.9</td>\n",
              "      <td>1895.6</td>\n",
              "      <td>357.6</td>\n",
              "      <td>173.0</td>\n",
              "      <td>97.7</td>\n",
              "      <td>5.7</td>\n",
              "      <td>13.1</td>\n",
              "      <td>56.4</td>\n",
              "    </tr>\n",
              "    <tr>\n",
              "      <th>4</th>\n",
              "      <td>0</td>\n",
              "      <td>1964</td>\n",
              "      <td>3407000</td>\n",
              "      <td>1358.7</td>\n",
              "      <td>466.6</td>\n",
              "      <td>784.1</td>\n",
              "      <td>108.0</td>\n",
              "      <td>213.1</td>\n",
              "      <td>163.0</td>\n",
              "      <td>9.3</td>\n",
              "      <td>11.7</td>\n",
              "      <td>29.1</td>\n",
              "    </tr>\n",
              "    <tr>\n",
              "      <th>...</th>\n",
              "      <td>...</td>\n",
              "      <td>...</td>\n",
              "      <td>...</td>\n",
              "      <td>...</td>\n",
              "      <td>...</td>\n",
              "      <td>...</td>\n",
              "      <td>...</td>\n",
              "      <td>...</td>\n",
              "      <td>...</td>\n",
              "      <td>...</td>\n",
              "      <td>...</td>\n",
              "      <td>...</td>\n",
              "    </tr>\n",
              "    <tr>\n",
              "      <th>2009</th>\n",
              "      <td>38</td>\n",
              "      <td>1960</td>\n",
              "      <td>11319366</td>\n",
              "      <td>950.5</td>\n",
              "      <td>297.8</td>\n",
              "      <td>530.3</td>\n",
              "      <td>122.4</td>\n",
              "      <td>99.0</td>\n",
              "      <td>53.6</td>\n",
              "      <td>2.6</td>\n",
              "      <td>8.8</td>\n",
              "      <td>33.9</td>\n",
              "    </tr>\n",
              "    <tr>\n",
              "      <th>1180</th>\n",
              "      <td>22</td>\n",
              "      <td>1974</td>\n",
              "      <td>9098000</td>\n",
              "      <td>5860.2</td>\n",
              "      <td>1903.9</td>\n",
              "      <td>3331.6</td>\n",
              "      <td>624.7</td>\n",
              "      <td>659.4</td>\n",
              "      <td>272.0</td>\n",
              "      <td>13.0</td>\n",
              "      <td>37.1</td>\n",
              "      <td>337.2</td>\n",
              "    </tr>\n",
              "    <tr>\n",
              "      <th>1344</th>\n",
              "      <td>25</td>\n",
              "      <td>1979</td>\n",
              "      <td>4868000</td>\n",
              "      <td>4412.7</td>\n",
              "      <td>1446.7</td>\n",
              "      <td>2555.4</td>\n",
              "      <td>410.6</td>\n",
              "      <td>527.2</td>\n",
              "      <td>271.4</td>\n",
              "      <td>11.2</td>\n",
              "      <td>33.6</td>\n",
              "      <td>210.9</td>\n",
              "    </tr>\n",
              "    <tr>\n",
              "      <th>527</th>\n",
              "      <td>9</td>\n",
              "      <td>2010</td>\n",
              "      <td>18838613</td>\n",
              "      <td>3551.4</td>\n",
              "      <td>897.7</td>\n",
              "      <td>2433.6</td>\n",
              "      <td>220.1</td>\n",
              "      <td>541.3</td>\n",
              "      <td>369.0</td>\n",
              "      <td>5.2</td>\n",
              "      <td>28.5</td>\n",
              "      <td>138.5</td>\n",
              "    </tr>\n",
              "    <tr>\n",
              "      <th>1289</th>\n",
              "      <td>24</td>\n",
              "      <td>1977</td>\n",
              "      <td>2389000</td>\n",
              "      <td>2299.9</td>\n",
              "      <td>915.6</td>\n",
              "      <td>1239.9</td>\n",
              "      <td>144.4</td>\n",
              "      <td>288.7</td>\n",
              "      <td>189.1</td>\n",
              "      <td>14.3</td>\n",
              "      <td>19.6</td>\n",
              "      <td>65.7</td>\n",
              "    </tr>\n",
              "  </tbody>\n",
              "</table>\n",
              "<p>1925 rows × 12 columns</p>\n",
              "</div>"
            ],
            "text/plain": [
              "      State  Year  ...  Data.Rates.Violent.Rape  Data.Rates.Violent.Robbery\n",
              "2211     41  2003  ...                     46.5                        13.6\n",
              "1059     19  2012  ...                     28.0                        31.8\n",
              "893      16  2005  ...                     40.0                        65.3\n",
              "108       2  1962  ...                     13.1                        56.4\n",
              "4         0  1964  ...                     11.7                        29.1\n",
              "...     ...   ...  ...                      ...                         ...\n",
              "2009     38  1960  ...                      8.8                        33.9\n",
              "1180     22  1974  ...                     37.1                       337.2\n",
              "1344     25  1979  ...                     33.6                       210.9\n",
              "527       9  2010  ...                     28.5                       138.5\n",
              "1289     24  1977  ...                     19.6                        65.7\n",
              "\n",
              "[1925 rows x 12 columns]"
            ]
          },
          "metadata": {
            "tags": []
          },
          "execution_count": 24
        }
      ]
    },
    {
      "cell_type": "code",
      "metadata": {
        "colab": {
          "base_uri": "https://localhost:8080/"
        },
        "id": "SMwDvKHk6Zfg",
        "outputId": "ae298d69-c018-4253-bc47-9c82f10c4b34"
      },
      "source": [
        "y_train"
      ],
      "execution_count": null,
      "outputs": [
        {
          "output_type": "execute_result",
          "data": {
            "text/plain": [
              "2211      33306\n",
              "1059      69984\n",
              "893      230578\n",
              "108       96608\n",
              "4        107100\n",
              "         ...   \n",
              "2009     237578\n",
              "1180    1186306\n",
              "1344     480942\n",
              "527     1542008\n",
              "1289     123682\n",
              "Length: 1925, dtype: int64"
            ]
          },
          "metadata": {
            "tags": []
          },
          "execution_count": 26
        }
      ]
    },
    {
      "cell_type": "code",
      "metadata": {
        "colab": {
          "base_uri": "https://localhost:8080/",
          "height": 439
        },
        "id": "zlEBs1Q-8u9l",
        "outputId": "d6f7ddcf-263e-41a8-c746-0d55245f03c9"
      },
      "source": [
        "x_test"
      ],
      "execution_count": null,
      "outputs": [
        {
          "output_type": "execute_result",
          "data": {
            "text/html": [
              "<div>\n",
              "<style scoped>\n",
              "    .dataframe tbody tr th:only-of-type {\n",
              "        vertical-align: middle;\n",
              "    }\n",
              "\n",
              "    .dataframe tbody tr th {\n",
              "        vertical-align: top;\n",
              "    }\n",
              "\n",
              "    .dataframe thead th {\n",
              "        text-align: right;\n",
              "    }\n",
              "</style>\n",
              "<table border=\"1\" class=\"dataframe\">\n",
              "  <thead>\n",
              "    <tr style=\"text-align: right;\">\n",
              "      <th></th>\n",
              "      <th>State</th>\n",
              "      <th>Year</th>\n",
              "      <th>Data.Population</th>\n",
              "      <th>Data.Rates.Property.All</th>\n",
              "      <th>Data.Rates.Property.Burglary</th>\n",
              "      <th>Data.Rates.Property.Larceny</th>\n",
              "      <th>Data.Rates.Property.Motor</th>\n",
              "      <th>Data.Rates.Violent.All</th>\n",
              "      <th>Data.Rates.Violent.Assault</th>\n",
              "      <th>Data.Rates.Violent.Murder</th>\n",
              "      <th>Data.Rates.Violent.Rape</th>\n",
              "      <th>Data.Rates.Violent.Robbery</th>\n",
              "    </tr>\n",
              "  </thead>\n",
              "  <tbody>\n",
              "    <tr>\n",
              "      <th>1013</th>\n",
              "      <td>19</td>\n",
              "      <td>1966</td>\n",
              "      <td>983000</td>\n",
              "      <td>1377.7</td>\n",
              "      <td>364.0</td>\n",
              "      <td>907.1</td>\n",
              "      <td>106.6</td>\n",
              "      <td>49.4</td>\n",
              "      <td>36.4</td>\n",
              "      <td>2.2</td>\n",
              "      <td>4.9</td>\n",
              "      <td>5.9</td>\n",
              "    </tr>\n",
              "    <tr>\n",
              "      <th>948</th>\n",
              "      <td>17</td>\n",
              "      <td>2007</td>\n",
              "      <td>4241474</td>\n",
              "      <td>2546.0</td>\n",
              "      <td>655.9</td>\n",
              "      <td>1685.5</td>\n",
              "      <td>204.6</td>\n",
              "      <td>290.7</td>\n",
              "      <td>157.7</td>\n",
              "      <td>4.9</td>\n",
              "      <td>32.2</td>\n",
              "      <td>95.9</td>\n",
              "    </tr>\n",
              "    <tr>\n",
              "      <th>881</th>\n",
              "      <td>16</td>\n",
              "      <td>1993</td>\n",
              "      <td>2531000</td>\n",
              "      <td>4478.9</td>\n",
              "      <td>1132.2</td>\n",
              "      <td>3024.0</td>\n",
              "      <td>322.7</td>\n",
              "      <td>496.4</td>\n",
              "      <td>326.3</td>\n",
              "      <td>6.4</td>\n",
              "      <td>40.1</td>\n",
              "      <td>123.6</td>\n",
              "    </tr>\n",
              "    <tr>\n",
              "      <th>742</th>\n",
              "      <td>14</td>\n",
              "      <td>1960</td>\n",
              "      <td>4662498</td>\n",
              "      <td>1469.1</td>\n",
              "      <td>460.8</td>\n",
              "      <td>840.7</td>\n",
              "      <td>167.6</td>\n",
              "      <td>84.6</td>\n",
              "      <td>40.6</td>\n",
              "      <td>4.4</td>\n",
              "      <td>5.1</td>\n",
              "      <td>34.5</td>\n",
              "    </tr>\n",
              "    <tr>\n",
              "      <th>212</th>\n",
              "      <td>4</td>\n",
              "      <td>1960</td>\n",
              "      <td>15717204</td>\n",
              "      <td>3235.4</td>\n",
              "      <td>910.5</td>\n",
              "      <td>1984.8</td>\n",
              "      <td>340.1</td>\n",
              "      <td>239.0</td>\n",
              "      <td>119.6</td>\n",
              "      <td>3.9</td>\n",
              "      <td>18.2</td>\n",
              "      <td>97.3</td>\n",
              "    </tr>\n",
              "    <tr>\n",
              "      <th>...</th>\n",
              "      <td>...</td>\n",
              "      <td>...</td>\n",
              "      <td>...</td>\n",
              "      <td>...</td>\n",
              "      <td>...</td>\n",
              "      <td>...</td>\n",
              "      <td>...</td>\n",
              "      <td>...</td>\n",
              "      <td>...</td>\n",
              "      <td>...</td>\n",
              "      <td>...</td>\n",
              "      <td>...</td>\n",
              "    </tr>\n",
              "    <tr>\n",
              "      <th>2070</th>\n",
              "      <td>39</td>\n",
              "      <td>1968</td>\n",
              "      <td>913000</td>\n",
              "      <td>3748.2</td>\n",
              "      <td>1089.6</td>\n",
              "      <td>1893.1</td>\n",
              "      <td>765.5</td>\n",
              "      <td>137.3</td>\n",
              "      <td>81.9</td>\n",
              "      <td>2.4</td>\n",
              "      <td>3.7</td>\n",
              "      <td>49.3</td>\n",
              "    </tr>\n",
              "    <tr>\n",
              "      <th>2599</th>\n",
              "      <td>50</td>\n",
              "      <td>1967</td>\n",
              "      <td>4189000</td>\n",
              "      <td>2161.8</td>\n",
              "      <td>450.3</td>\n",
              "      <td>1496.8</td>\n",
              "      <td>214.6</td>\n",
              "      <td>70.4</td>\n",
              "      <td>35.9</td>\n",
              "      <td>1.9</td>\n",
              "      <td>4.6</td>\n",
              "      <td>28.0</td>\n",
              "    </tr>\n",
              "    <tr>\n",
              "      <th>1155</th>\n",
              "      <td>21</td>\n",
              "      <td>2002</td>\n",
              "      <td>6421800</td>\n",
              "      <td>2612.2</td>\n",
              "      <td>517.7</td>\n",
              "      <td>1680.6</td>\n",
              "      <td>414.0</td>\n",
              "      <td>484.9</td>\n",
              "      <td>342.9</td>\n",
              "      <td>2.7</td>\n",
              "      <td>27.7</td>\n",
              "      <td>111.6</td>\n",
              "    </tr>\n",
              "    <tr>\n",
              "      <th>1214</th>\n",
              "      <td>22</td>\n",
              "      <td>2008</td>\n",
              "      <td>10003422</td>\n",
              "      <td>2950.0</td>\n",
              "      <td>747.6</td>\n",
              "      <td>1844.9</td>\n",
              "      <td>357.4</td>\n",
              "      <td>514.9</td>\n",
              "      <td>331.9</td>\n",
              "      <td>5.5</td>\n",
              "      <td>45.1</td>\n",
              "      <td>132.4</td>\n",
              "    </tr>\n",
              "    <tr>\n",
              "      <th>2715</th>\n",
              "      <td>44</td>\n",
              "      <td>1977</td>\n",
              "      <td>216332000</td>\n",
              "      <td>4601.7</td>\n",
              "      <td>1419.8</td>\n",
              "      <td>2729.9</td>\n",
              "      <td>451.9</td>\n",
              "      <td>475.9</td>\n",
              "      <td>247.0</td>\n",
              "      <td>8.8</td>\n",
              "      <td>29.4</td>\n",
              "      <td>190.7</td>\n",
              "    </tr>\n",
              "  </tbody>\n",
              "</table>\n",
              "<p>826 rows × 12 columns</p>\n",
              "</div>"
            ],
            "text/plain": [
              "      State  Year  ...  Data.Rates.Violent.Rape  Data.Rates.Violent.Robbery\n",
              "1013     19  1966  ...                      4.9                         5.9\n",
              "948      17  2007  ...                     32.2                        95.9\n",
              "881      16  1993  ...                     40.1                       123.6\n",
              "742      14  1960  ...                      5.1                        34.5\n",
              "212       4  1960  ...                     18.2                        97.3\n",
              "...     ...   ...  ...                      ...                         ...\n",
              "2070     39  1968  ...                      3.7                        49.3\n",
              "2599     50  1967  ...                      4.6                        28.0\n",
              "1155     21  2002  ...                     27.7                       111.6\n",
              "1214     22  2008  ...                     45.1                       132.4\n",
              "2715     44  1977  ...                     29.4                       190.7\n",
              "\n",
              "[826 rows x 12 columns]"
            ]
          },
          "metadata": {
            "tags": []
          },
          "execution_count": 27
        }
      ]
    },
    {
      "cell_type": "code",
      "metadata": {
        "colab": {
          "base_uri": "https://localhost:8080/"
        },
        "id": "yJTDCv7E8y5M",
        "outputId": "3f9c81dd-ba4c-4503-c2ad-9a3bb2ca2e97"
      },
      "source": [
        "y_test"
      ],
      "execution_count": null,
      "outputs": [
        {
          "output_type": "execute_result",
          "data": {
            "text/plain": [
              "1013       28058\n",
              "948       240632\n",
              "881       251848\n",
              "742       144882\n",
              "212      1092138\n",
              "          ...   \n",
              "2070       70950\n",
              "2599      187008\n",
              "1155      397780\n",
              "1214      693224\n",
              "2715    21969060\n",
              "Length: 826, dtype: int64"
            ]
          },
          "metadata": {
            "tags": []
          },
          "execution_count": 28
        }
      ]
    },
    {
      "cell_type": "markdown",
      "metadata": {
        "id": "3HFHyj6o6AcT"
      },
      "source": [
        "## **LINEAR REGRESSION**"
      ]
    },
    {
      "cell_type": "code",
      "metadata": {
        "id": "p18t29MY6J-C"
      },
      "source": [
        "from sklearn.linear_model import LinearRegression\n"
      ],
      "execution_count": null,
      "outputs": []
    },
    {
      "cell_type": "code",
      "metadata": {
        "colab": {
          "base_uri": "https://localhost:8080/"
        },
        "id": "WGXDTW8m9Jo2",
        "outputId": "3e90c922-989a-45fd-c0f4-323103953632"
      },
      "source": [
        "reg=LinearRegression()\n",
        "reg.fit(x_train,y_train)"
      ],
      "execution_count": null,
      "outputs": [
        {
          "output_type": "execute_result",
          "data": {
            "text/plain": [
              "LinearRegression(copy_X=True, fit_intercept=True, n_jobs=None, normalize=False)"
            ]
          },
          "metadata": {
            "tags": []
          },
          "execution_count": 139
        }
      ]
    },
    {
      "cell_type": "code",
      "metadata": {
        "colab": {
          "base_uri": "https://localhost:8080/"
        },
        "id": "C9bGnmPY9ZVM",
        "outputId": "ba4cb3ed-753c-4dc8-a83b-8ddf1878dfd7"
      },
      "source": [
        "y_pred=reg.predict(x_test)\n",
        "y_pred"
      ],
      "execution_count": null,
      "outputs": [
        {
          "output_type": "execute_result",
          "data": {
            "text/plain": [
              "array([-2.53625515e+05,  1.51836996e+05,  3.50499244e+05,  7.55969824e+04,\n",
              "        1.32491018e+06,  1.67242230e+05,  3.50960729e+05,  2.69031835e+05,\n",
              "        5.74952369e+05,  3.20979070e+05,  3.96142053e+05,  8.05373253e+05,\n",
              "        9.25165263e+05, -2.20947167e+03,  1.39661708e+06,  1.00226339e+05,\n",
              "       -1.54477308e+05,  2.60792744e+05, -1.49545600e+05,  6.90365503e+05,\n",
              "       -2.45390963e+05,  4.29587296e+05, -3.42202490e+02,  4.48420048e+05,\n",
              "        9.54468888e+05,  3.95765178e+05,  6.85860883e+05, -1.72725723e+05,\n",
              "        2.07247528e+06,  4.16533983e+05,  4.13050842e+05,  7.41669890e+04,\n",
              "        2.98040206e+05,  1.61371472e+05,  1.25567800e+05,  9.83398243e+05,\n",
              "        8.39442381e+05, -2.91345445e+05,  1.07026746e+06, -1.41310498e+05,\n",
              "        5.81736533e+04,  2.22586063e+05,  9.38640866e+05,  9.24945214e+05,\n",
              "        1.28951465e+05,  1.10879869e+06,  8.27230868e+04,  1.83486768e+05,\n",
              "        4.85786940e+05,  4.79124058e+03,  2.10291281e+05,  5.67459451e+05,\n",
              "       -5.37623577e+04,  2.57545642e+05, -1.70565496e+05,  2.72834560e+05,\n",
              "        4.93775379e+05,  6.24339179e+05,  5.96010094e+04,  8.16269944e+05,\n",
              "        2.55514990e+06,  1.48756018e+05, -2.94649702e+05, -6.17303860e+03,\n",
              "        4.81923038e+05,  7.95049051e+04,  1.06262989e+06,  1.03332029e+06,\n",
              "       -1.01605106e+05,  2.53952357e+05,  1.03281834e+06,  4.53309534e+05,\n",
              "        6.26027135e+05,  4.83474446e+05,  4.13044240e+05,  3.14838727e+06,\n",
              "        5.98007889e+05,  4.08551473e+05, -2.15608988e+05,  5.85545084e+05,\n",
              "        2.51722675e+05, -8.59005330e+04, -9.62892403e+04,  7.08911894e+05,\n",
              "       -1.76612816e+05,  1.64924969e+05,  8.52957611e+05,  2.71817270e+07,\n",
              "        2.93180663e+05,  1.03122496e+06,  6.60348370e+04, -1.16105974e+05,\n",
              "        9.79551842e+05,  7.26695370e+05,  5.87141229e+05,  5.10359801e+05,\n",
              "        2.42736086e+05,  6.38974721e+05,  1.57280932e+05,  2.08460608e+05,\n",
              "        1.19579317e+05, -2.63598022e+05,  4.04475293e+05,  2.32748242e+05,\n",
              "        6.58796976e+05,  2.39525820e+05,  3.88361817e+05,  3.03730374e+05,\n",
              "        4.46557521e+05,  1.99617071e+05,  1.58491196e+05,  4.04583248e+05,\n",
              "        2.98460120e+06,  4.42527644e+05, -2.78240334e+05,  1.14156691e+05,\n",
              "       -2.53684122e+05,  1.29342982e+06,  6.60167623e+05,  5.91245388e+05,\n",
              "        2.34602862e+05,  1.89295299e+06,  2.46329372e+05,  6.26557780e+05,\n",
              "        2.44964881e+05,  1.48362965e+05,  4.58819164e+05,  1.82543431e+06,\n",
              "        6.58585592e+05,  1.38520444e+06,  2.12680530e+06,  8.13037779e+05,\n",
              "        1.02536577e+06,  8.04912638e+05,  8.81413167e+05,  1.12607659e+05,\n",
              "        5.20125315e+05,  2.63589986e+05,  6.68578748e+05,  6.97492543e+05,\n",
              "        8.02586618e+05, -4.44557894e+04,  4.40837688e+05,  5.02510358e+04,\n",
              "        5.98884860e+05, -1.57816477e+04,  3.40710938e+05,  5.12721913e+05,\n",
              "        2.08991360e+07,  2.91521283e+04,  7.66296456e+05,  1.20140277e+06,\n",
              "        2.40463260e+06,  7.65745325e+05, -1.42928250e+05,  3.29571946e+05,\n",
              "       -2.18898943e+05,  5.36361703e+05,  2.65599938e+05,  6.29431616e+04,\n",
              "       -1.26145639e+04,  1.11574957e+06,  3.97898376e+05,  1.58277744e+05,\n",
              "        2.11753153e+05,  9.86828505e+04,  1.98177465e+05,  7.27980494e+05,\n",
              "        4.62501688e+05,  1.11735225e+06, -1.56087967e+05,  1.93150850e+06,\n",
              "        5.88533112e+05, -2.30616313e+05, -8.20533752e+04,  1.92187433e+05,\n",
              "        4.93843050e+04,  1.40364039e+05,  4.60655057e+05,  4.70821222e+05,\n",
              "        2.09974027e+05,  5.15443986e+05,  1.61881811e+06,  2.03094721e+06,\n",
              "        3.90715027e+05,  2.38542073e+05,  3.22674613e+05, -1.36661154e+05,\n",
              "       -1.64929836e+05,  1.71663754e+05,  5.82511007e+05,  5.79017765e+05,\n",
              "        3.08936202e+06, -2.39994756e+04,  5.99157884e+05,  1.95391346e+05,\n",
              "        1.84088659e+06,  4.18444748e+05,  1.95086230e+05, -4.62106094e+04,\n",
              "       -4.46168321e+04,  4.69282957e+05,  4.09517898e+05, -1.91070360e+04,\n",
              "        4.05488447e+05,  6.11058860e+05,  6.09483949e+05,  4.96715640e+05,\n",
              "        1.39989839e+06,  1.57182320e+04,  8.35316068e+05,  3.46214280e+04,\n",
              "        2.01714040e+05,  5.83194444e+05,  1.61703991e+06,  2.37852451e+07,\n",
              "       -1.21787842e+05,  4.11898033e+05,  2.13982329e+05,  6.98622496e+05,\n",
              "        6.14483211e+05,  4.56900700e+05, -1.85380768e+04,  6.65700486e+05,\n",
              "        8.05889799e+05,  1.40075947e+06, -4.57567185e+04,  1.38934733e+05,\n",
              "        3.88815115e+05,  9.27864554e+05,  1.76892310e+06,  2.09946713e+05,\n",
              "        6.26121094e+05,  1.86725806e+06, -1.95234758e+05,  7.31773671e+05,\n",
              "       -1.29722650e+05, -1.56857040e+05,  6.38466775e+05, -3.44033423e+04,\n",
              "        4.31110260e+05,  2.60314813e+05, -2.62370191e+05,  6.61424384e+04,\n",
              "       -2.17766713e+05, -5.92906605e+04,  4.74796179e+05,  3.33727975e+05,\n",
              "        3.97504008e+05,  6.07450898e+05,  2.24046216e+04,  1.22202278e+06,\n",
              "       -1.68879705e+04, -2.03057834e+04,  7.20511481e+05,  1.74780675e+05,\n",
              "        4.35497646e+05,  3.09061035e+06,  8.02062119e+04,  6.38639614e+05,\n",
              "        2.86220393e+05,  2.96877507e+06,  1.09223697e+05,  1.64555539e+07,\n",
              "        3.54650730e+05,  7.75655794e+05,  5.98388427e+05,  1.15488016e+06,\n",
              "        1.53554429e+06,  3.70943944e+05,  1.28158504e+05,  9.98887573e+05,\n",
              "        1.19202378e+06, -2.48917125e+04, -4.15322182e+04,  1.26409743e+06,\n",
              "        6.77589800e+05,  8.01571569e+05, -1.15017683e+05,  6.24420433e+05,\n",
              "        6.07947815e+04,  4.59700906e+04,  6.03589195e+05,  1.49841837e+05,\n",
              "       -4.27497587e+04,  3.81581679e+05, -2.24455004e+05,  9.55032887e+05,\n",
              "        5.32427049e+05,  1.98305403e+05,  7.09882015e+05, -2.01464041e+05,\n",
              "       -1.29939019e+04,  1.91104960e+05,  6.81718975e+04, -2.18461446e+05,\n",
              "       -2.62461762e+05,  1.78183569e+05, -2.33263691e+05,  3.49802594e+05,\n",
              "        5.63263367e+05,  2.78057438e+05, -1.42765709e+05,  5.30963260e+05,\n",
              "        4.23347419e+05,  1.27469304e+05,  2.58877340e+05,  1.63947685e+05,\n",
              "        2.42638771e+05,  1.94848617e+05,  4.35131644e+05,  5.83866488e+05,\n",
              "        6.30430053e+05, -1.61583892e+05,  2.39710974e+05,  1.02786908e+05,\n",
              "        5.40993737e+05,  2.59603975e+06,  2.77310850e+05,  4.07223443e+05,\n",
              "        7.54645110e+05,  3.61722334e+05,  8.79834175e+05,  1.44402302e+05,\n",
              "       -8.83474525e+04,  3.10466469e+06,  5.25277185e+05, -1.76963165e+03,\n",
              "        2.09190414e+06, -2.37144379e+05,  1.76224226e+06,  7.09976204e+05,\n",
              "        7.05816087e+05, -1.56851717e+05,  1.07875987e+06, -1.53856427e+05,\n",
              "        3.52579794e+05,  1.89740678e+05, -2.04438270e+04,  3.44790482e+05,\n",
              "        6.45565169e+05,  3.36337406e+05,  4.33935560e+05, -1.63715051e+04,\n",
              "        7.22302719e+05,  4.33564735e+05,  7.14339770e+05, -7.30600084e+04,\n",
              "        1.56120162e+06,  3.58649001e+05, -2.03316954e+05, -3.16093271e+05,\n",
              "        5.85265490e+05,  8.31674515e+05,  1.37725482e+06,  1.08736546e+06,\n",
              "       -2.65073929e+05,  3.82269276e+05,  6.20736145e+05,  5.04296198e+05,\n",
              "        4.37855541e+05,  8.60887273e+05,  5.22234371e+04,  8.11393903e+04,\n",
              "       -2.89389320e+04,  2.37539081e+05,  7.19850663e+05, -2.64145746e+05,\n",
              "        6.76214471e+05,  1.44003943e+05, -3.92701869e+04,  2.91125098e+04,\n",
              "        4.00953697e+05,  7.69012117e+05,  2.13562549e+05,  2.19535568e+03,\n",
              "        4.46837608e+05, -8.93923563e+03, -1.34657753e+05, -3.99158003e+05,\n",
              "       -2.32732272e+04,  1.90199491e+06,  4.24671944e+05,  1.14155259e+05,\n",
              "        4.84535087e+05,  7.84767493e+04,  3.16976081e+05,  1.19755471e+06,\n",
              "        4.26034048e+05,  3.14887757e+05,  7.31135938e+04,  4.28137459e+04,\n",
              "        6.01011587e+05,  2.55235765e+04,  4.51022714e+05,  2.52126869e+05,\n",
              "        6.54024834e+04,  2.97884543e+03,  4.05543195e+05,  1.27225801e+05,\n",
              "        7.66442548e+05,  3.77852687e+05,  1.18090604e+05, -2.99965393e+04,\n",
              "        4.32331319e+05,  1.53528464e+05,  2.99661605e+05,  9.37775114e+05,\n",
              "        1.02200149e+06,  5.72421310e+05,  7.55082618e+04, -3.43037969e+04,\n",
              "        1.09074309e+05, -6.46184714e+04,  4.27431509e+05,  1.75891921e+05,\n",
              "       -2.11813813e+05,  1.24775824e+06,  9.44976398e+05,  4.63199302e+05,\n",
              "        1.00170901e+05,  4.28813266e+05,  7.73460831e+04,  6.47784144e+05,\n",
              "       -1.68318483e+05,  3.10530071e+05,  1.63432455e+06,  8.40334887e+05,\n",
              "        8.50384102e+05, -7.98548687e+04,  2.17636893e+07,  4.98966054e+05,\n",
              "       -1.93667832e+04,  6.59798604e+05,  6.99973138e+05,  6.88174573e+04,\n",
              "       -4.75171453e+04,  3.92015232e+05,  3.07059113e+05,  3.24060672e+05,\n",
              "       -1.75616514e+05,  3.66855269e+05,  9.24832784e+05,  1.92678070e+06,\n",
              "        3.81198325e+05,  2.63988423e+07,  2.04770775e+05,  4.13287366e+05,\n",
              "        1.16851357e+06,  2.81442496e+05,  3.90649027e+05,  7.88814907e+05,\n",
              "       -2.04545741e+05,  7.25318551e+05,  1.28958850e+05,  4.75096581e+04,\n",
              "        8.63860320e+05,  1.31028260e+05, -5.49056392e+04, -1.36373959e+05,\n",
              "        5.56540853e+05,  6.35971542e+05, -1.11960212e+05,  2.66158284e+05,\n",
              "        3.53861850e+05,  2.92351843e+05,  2.71703836e+05,  6.30955096e+05,\n",
              "        1.75693474e+03,  6.77903225e+05,  2.54516674e+05, -3.27710578e+04,\n",
              "        1.13696728e+05,  1.25738414e+05,  6.53021468e+05,  4.83013255e+05,\n",
              "        8.89498875e+05,  2.42285663e+05,  9.17317833e+05,  2.43157887e+05,\n",
              "        1.10749064e+06,  3.19868649e+05,  1.20161247e+06,  7.13140235e+05,\n",
              "       -1.38974203e+05,  7.69236877e+05, -1.36535284e+05,  9.74863749e+05,\n",
              "        6.39601830e+05, -1.44810757e+05,  1.00338991e+06, -3.03950946e+05,\n",
              "        3.89690615e+05,  4.39639037e+05,  2.43983137e+05,  1.08607044e+06,\n",
              "       -7.20926222e+04,  6.99747827e+05,  1.73105680e+05,  5.63168197e+05,\n",
              "       -6.28098718e+04,  1.63536956e+05, -1.72595713e+05,  3.23590791e+04,\n",
              "       -1.34916232e+05,  7.91903471e+05,  2.97623946e+05,  4.10286618e+04,\n",
              "        1.15960177e+04,  2.94490943e+05,  2.03890197e+07,  6.19624220e+05,\n",
              "        7.90375259e+05,  4.41141762e+05,  5.69023408e+05,  6.60876593e+05,\n",
              "        3.84769884e+05,  1.99537549e+05,  1.17410490e+05,  1.88748217e+05,\n",
              "        3.07618731e+06, -1.14544427e+05,  9.95844349e+04,  7.16268092e+05,\n",
              "        5.09300363e+05,  4.41762158e+05, -3.80630463e+04,  9.14169803e+05,\n",
              "        5.24574425e+05,  2.76880383e+05,  2.42711756e+05,  4.79248507e+05,\n",
              "        2.36243957e+05,  2.68140559e+05, -2.30246789e+05,  2.87191661e+05,\n",
              "        8.72479952e+05,  8.41083594e+05,  6.13287207e+05,  1.60929790e+06,\n",
              "        1.47140077e+05,  1.59182427e+05,  7.43531945e+05, -1.45251929e+05,\n",
              "        8.79194429e+05,  7.16017495e+05, -1.97806514e+05,  1.13425782e+06,\n",
              "       -2.41132575e+04,  1.01807526e+06,  7.08931475e+05, -8.51385672e+04,\n",
              "       -1.18330494e+05,  1.98185023e+05,  3.30833619e+04,  4.88898175e+05,\n",
              "       -2.84684134e+05, -1.63167139e+05, -1.24937630e+05,  8.17242957e+05,\n",
              "        7.84347718e+05,  8.06476905e+03,  1.60321821e+05, -9.35631874e+04,\n",
              "        4.81494093e+05,  3.52528431e+05,  5.71497912e+05, -2.94648255e+05,\n",
              "       -7.22638413e+04, -5.89952864e+00,  3.32142490e+05,  6.16370722e+04,\n",
              "        2.78314179e+05,  3.69747354e+05,  1.81335517e+07,  4.37579433e+05,\n",
              "       -6.15912157e+04, -1.31202487e+05,  2.67284002e+05,  1.58200052e+05,\n",
              "        3.11020861e+06,  3.89945827e+05,  3.12055129e+05, -6.57621498e+04,\n",
              "        9.77273363e+05, -1.47957451e+05,  3.45941963e+05,  3.18059211e+05,\n",
              "        2.56773967e+05,  4.51060917e+05,  6.99869710e+03,  1.80334383e+06,\n",
              "       -1.45943556e+05, -1.51481086e+05,  3.16278701e+05,  6.23801430e+04,\n",
              "        5.63131571e+05, -2.01142655e+05, -6.76521533e+04, -9.85439451e+04,\n",
              "        2.03034219e+05,  2.21272675e+06,  4.27572133e+05,  8.49329617e+05,\n",
              "       -6.74638793e+04,  4.19833478e+05,  1.13137286e+06,  5.14730932e+05,\n",
              "        6.35785646e+04,  2.02321727e+07,  1.59432054e+05, -2.54599245e+05,\n",
              "        2.35913319e+05,  4.13907952e+05,  1.69703625e+06,  6.93301180e+05,\n",
              "        1.51829756e+05, -6.31402810e+04,  3.97639375e+05, -2.58289320e+05,\n",
              "        1.64577603e+05,  5.47399258e+05,  5.57903797e+05,  4.89549681e+05,\n",
              "        2.52098695e+05,  3.01563549e+05,  3.77708176e+05,  4.92541192e+04,\n",
              "        1.85240848e+07,  9.13482990e+04,  4.84449154e+05,  4.24211706e+05,\n",
              "        3.22581929e+05,  7.60654940e+05, -4.71590665e+04,  4.10849195e+05,\n",
              "        1.68723760e+05, -1.38360627e+05,  1.92683358e+05,  3.42162152e+05,\n",
              "        3.22361137e+05,  4.49573648e+05,  1.17315291e+05,  9.53527999e+05,\n",
              "        1.11443660e+04,  1.72958163e+05,  1.25271188e+06,  6.19880176e+04,\n",
              "        8.54254206e+05,  4.02805577e+05,  1.18542961e+06, -7.89573842e+04,\n",
              "        4.15727217e+05,  2.37752291e+05,  4.43207954e+05,  3.75987340e+05,\n",
              "        6.57700821e+05,  2.10590063e+05,  5.00451857e+05, -2.62766503e+02,\n",
              "        9.07856604e+04, -7.96374793e+04,  1.31040073e+05,  1.61350550e+05,\n",
              "        5.41585961e+05,  6.75858180e+05,  1.84829654e+05,  1.85925659e+06,\n",
              "       -3.18308589e+04,  4.09085120e+05,  5.51453864e+05,  5.68309087e+05,\n",
              "        1.32244029e+06,  2.33850822e+06,  1.45569141e+05,  9.98681337e+05,\n",
              "       -8.05645505e+04,  7.58341766e+05, -8.98087768e+03,  7.19866863e+05,\n",
              "        1.10580597e+05,  9.68724894e+05,  7.22152484e+05,  1.49376138e+05,\n",
              "        2.13499069e+05,  1.04470647e+06,  2.55093099e+05,  1.71848146e+06,\n",
              "        5.47057398e+05,  3.13267232e+05,  5.92264751e+04,  3.72735249e+05,\n",
              "       -1.02541828e+05,  2.93556920e+06,  2.04702233e+05,  5.27798160e+05,\n",
              "        4.36204309e+05,  1.17845278e+06,  7.35951956e+05, -1.51542009e+04,\n",
              "        5.64667178e+05, -5.75943617e+04,  8.34212897e+05,  4.13767877e+05,\n",
              "        3.47075601e+05, -1.92891689e+05,  5.78724016e+05,  5.98074541e+05,\n",
              "        8.34358051e+05,  3.00386458e+05,  3.81543456e+05,  6.24660249e+05,\n",
              "        6.32698691e+04,  4.43417280e+04,  8.09495266e+05,  5.59435113e+05,\n",
              "        2.11190011e+05, -2.40055235e+05,  5.93870824e+04,  3.56451498e+03,\n",
              "       -7.56218308e+04,  5.71394547e+05,  6.55270928e+05,  1.74653678e+05,\n",
              "        2.32761434e+05, -6.88346348e+04,  1.04917578e+05,  4.50783275e+05,\n",
              "       -2.56841116e+05,  3.07210797e+05,  2.07776663e+05, -1.60597002e+05,\n",
              "       -2.05394596e+05,  6.97801219e+04,  6.79664796e+05,  3.01333511e+05,\n",
              "        7.39907855e+05,  6.31155980e+05,  4.53788924e+05,  4.55032673e+05,\n",
              "        7.20827070e+05,  1.15554185e+06,  2.61998668e+05,  9.25886495e+05,\n",
              "        7.45019901e+05,  5.06240294e+05,  6.92707063e+05, -3.21004829e+05,\n",
              "        5.39971263e+05,  1.57750343e+05, -7.19063042e+03,  5.91719063e+05,\n",
              "        9.26497188e+05,  1.08136902e+06, -1.05894881e+05,  8.66137528e+05,\n",
              "        4.59022433e+05,  3.67898761e+05,  4.13899520e+05,  3.56860433e+05,\n",
              "        4.09618659e+05, -1.97225566e+05, -3.41743131e+04,  3.52745685e+05,\n",
              "       -3.28014453e+04,  2.15873369e+06, -1.54066357e+05,  1.23563397e+06,\n",
              "       -2.23067829e+05,  1.17050179e+05,  2.48542305e+05,  4.36863426e+05,\n",
              "        4.12728538e+05, -6.72374164e+03,  5.60683466e+05,  2.85698204e+05,\n",
              "        3.43004343e+05,  4.25635127e+05,  3.41034529e+05,  6.73844632e+05,\n",
              "        7.13398917e+05,  6.79201132e+05,  1.20822999e+06,  5.14180329e+05,\n",
              "        1.45687459e+05,  2.99076703e+05, -2.04326549e+05,  1.26485747e+06,\n",
              "        4.51859786e+05, -2.48002915e+04,  4.54773713e+05,  2.41156089e+05,\n",
              "        9.71392673e+05,  3.84472584e+05, -3.43679960e+04,  8.92269638e+05,\n",
              "        3.64535085e+05,  4.70025084e+04,  1.68296242e+05,  5.37159959e+05,\n",
              "        9.53497988e+04, -6.38299381e+03,  1.26271936e+05,  9.96986414e+02,\n",
              "        1.95012933e+06,  1.13440394e+06,  4.95616433e+05,  5.03908009e+05,\n",
              "        1.38243166e+05,  1.68157560e+06,  9.41862117e+04,  1.28072571e+05,\n",
              "        3.07558954e+06,  7.14454063e+05,  5.48775466e+04, -1.05969876e+05,\n",
              "        3.18809279e+05,  2.06033592e+05,  1.51719138e+05,  1.47588354e+05,\n",
              "        6.72542888e+05,  1.78657394e+05,  1.57531228e+05,  4.95361464e+05,\n",
              "        8.23932532e+05,  1.89953223e+07])"
            ]
          },
          "metadata": {
            "tags": []
          },
          "execution_count": 140
        }
      ]
    },
    {
      "cell_type": "markdown",
      "metadata": {
        "id": "OvNhxmoN9wU1"
      },
      "source": [
        "**Evaluation metrics**\n"
      ]
    },
    {
      "cell_type": "code",
      "metadata": {
        "id": "NkTu9btV-EyR"
      },
      "source": [
        "from sklearn.metrics import mean_absolute_error,median_absolute_error,mean_squared_error,r2_score\n",
        "from math import sqrt\n"
      ],
      "execution_count": null,
      "outputs": []
    },
    {
      "cell_type": "code",
      "metadata": {
        "colab": {
          "base_uri": "https://localhost:8080/"
        },
        "id": "cxtgSNfv9zMS",
        "outputId": "0fe71e44-3ce6-436d-ec39-bbd765bda480"
      },
      "source": [
        "print(\"Train score: \",reg.score(x_train,y_train)*100)\n",
        "print(\"Test score: \",reg.score(x_test,y_test)*100)"
      ],
      "execution_count": null,
      "outputs": [
        {
          "output_type": "stream",
          "text": [
            "Train score:  94.37341017736183\n",
            "Test score:  94.6454332495267\n"
          ],
          "name": "stdout"
        }
      ]
    },
    {
      "cell_type": "code",
      "metadata": {
        "colab": {
          "base_uri": "https://localhost:8080/"
        },
        "id": "SftLNwYWai8t",
        "outputId": "36a8be8d-af94-4c97-9682-ef0bb29b3244"
      },
      "source": [
        "linear_r2_score=r2_score(y_test,y_pred)*100\n",
        "print(\"R_Square : \",linear_r2_score)"
      ],
      "execution_count": null,
      "outputs": [
        {
          "output_type": "stream",
          "text": [
            "R_Square :  94.6454332495267\n"
          ],
          "name": "stdout"
        }
      ]
    },
    {
      "cell_type": "code",
      "metadata": {
        "colab": {
          "base_uri": "https://localhost:8080/"
        },
        "id": "6ebx-BOp-Dup",
        "outputId": "308e6b09-b197-4a80-983f-85796bcbecd1"
      },
      "source": [
        "linear_ma=mean_absolute_error(y_test,y_pred)\n",
        "print(\"Mean_absolute_error: \",linear_ma)\n",
        "linear_ms=mean_squared_error(y_test,y_pred)\n",
        "print(\"Mean_squared_error: \",linear_ms)\n",
        "linear_mn=median_absolute_error(y_test,y_pred)\n",
        "print(\"Median_absolute_error: \",linear_mn)\n",
        "linear_rmse=sqrt(linear_ms)\n",
        "print(\"Root_Mean_Squared_error: \",linear_rmse)"
      ],
      "execution_count": null,
      "outputs": [
        {
          "output_type": "stream",
          "text": [
            "Mean_absolute_error:  186655.87725455608\n",
            "Mean_squared_error:  357833738658.69794\n",
            "Median_absolute_error:  96971.71962759021\n",
            "Root_Mean_Squared_error:  598192.0583380373\n"
          ],
          "name": "stdout"
        }
      ]
    },
    {
      "cell_type": "markdown",
      "metadata": {
        "id": "Tq84hag7AQki"
      },
      "source": [
        "## **DECISION TREE**"
      ]
    },
    {
      "cell_type": "code",
      "metadata": {
        "id": "n3gVnG8qANbO"
      },
      "source": [
        "from sklearn.tree import DecisionTreeRegressor\n",
        "from sklearn import tree\n",
        "from sklearn.tree import export_text\n",
        "import graphviz "
      ],
      "execution_count": null,
      "outputs": []
    },
    {
      "cell_type": "code",
      "metadata": {
        "colab": {
          "base_uri": "https://localhost:8080/"
        },
        "id": "Q1aUqC7ZBSQK",
        "outputId": "7dcad2d8-f4c0-4a4b-964d-986e8d6005a2"
      },
      "source": [
        "reg=DecisionTreeRegressor()\n",
        "reg.fit(x_train,y_train)"
      ],
      "execution_count": null,
      "outputs": [
        {
          "output_type": "execute_result",
          "data": {
            "text/plain": [
              "DecisionTreeRegressor(ccp_alpha=0.0, criterion='mse', max_depth=None,\n",
              "                      max_features=None, max_leaf_nodes=None,\n",
              "                      min_impurity_decrease=0.0, min_impurity_split=None,\n",
              "                      min_samples_leaf=1, min_samples_split=2,\n",
              "                      min_weight_fraction_leaf=0.0, presort='deprecated',\n",
              "                      random_state=None, splitter='best')"
            ]
          },
          "metadata": {
            "tags": []
          },
          "execution_count": 204
        }
      ]
    },
    {
      "cell_type": "code",
      "metadata": {
        "colab": {
          "base_uri": "https://localhost:8080/"
        },
        "id": "bY85HdMsBm2V",
        "outputId": "6c86ef65-ad4d-4e63-cd7b-957abcd968e7"
      },
      "source": [
        "y_pred=reg.predict(x_test)\n",
        "y_pred\n"
      ],
      "execution_count": null,
      "outputs": [
        {
          "output_type": "execute_result",
          "data": {
            "text/plain": [
              "array([2.8124000e+04, 2.3348400e+05, 2.4758200e+05, 1.4548400e+05,\n",
              "       1.2085940e+06, 1.1613200e+05, 3.6631400e+05, 1.3183200e+05,\n",
              "       4.6272800e+05, 3.5127000e+05, 4.0299400e+05, 7.8714400e+05,\n",
              "       8.5319200e+05, 6.8400000e+04, 9.1150000e+05, 7.8040000e+04,\n",
              "       6.0882000e+04, 2.3322400e+05, 6.8400000e+04, 5.7974600e+05,\n",
              "       1.3292000e+04, 4.7632600e+05, 6.8614000e+04, 4.5027200e+05,\n",
              "       7.6404000e+05, 3.8114200e+05, 6.3409000e+05, 3.6386000e+04,\n",
              "       2.2779620e+06, 3.7158400e+05, 4.4157000e+05, 1.5134600e+05,\n",
              "       2.9678400e+05, 2.3875200e+05, 1.4995600e+05, 8.2492600e+05,\n",
              "       8.3177600e+05, 9.0480000e+03, 1.2729720e+06, 7.3070000e+04,\n",
              "       1.8052600e+05, 1.4878600e+05, 6.7340200e+05, 7.6404000e+05,\n",
              "       1.8052600e+05, 1.0335760e+06, 9.8908000e+04, 2.4938400e+05,\n",
              "       3.7527800e+05, 1.5141000e+05, 1.1766400e+05, 2.0965800e+05,\n",
              "       8.8962000e+04, 2.7949800e+05, 3.0066000e+04, 1.8088200e+05,\n",
              "       3.8746200e+05, 5.2401200e+05, 1.4369400e+05, 5.7794200e+05,\n",
              "       3.4369460e+06, 1.0119000e+05, 1.5692000e+04, 1.2065000e+05,\n",
              "       5.2801000e+05, 1.1063400e+05, 1.0279040e+06, 9.9493000e+05,\n",
              "       6.9800000e+04, 1.8892600e+05, 9.9493000e+05, 4.4464000e+05,\n",
              "       5.1615000e+05, 5.1362800e+05, 1.2307600e+05, 1.9950880e+06,\n",
              "       4.6862000e+05, 4.4157000e+05, 5.2798000e+04, 4.3606800e+05,\n",
              "       3.2265600e+05, 4.9592000e+04, 3.7818000e+04, 5.9180600e+05,\n",
              "       2.2632000e+04, 8.4184000e+04, 5.9180600e+05, 2.0517548e+07,\n",
              "       2.3787800e+05, 9.9493000e+05, 1.8052600e+05, 6.8400000e+04,\n",
              "       9.7312800e+05, 6.9737000e+05, 5.1017000e+05, 1.7756600e+05,\n",
              "       7.0976000e+04, 4.6315200e+05, 5.3282000e+04, 2.5007800e+05,\n",
              "       1.7620600e+05, 2.6816000e+04, 3.6764600e+05, 2.3667200e+05,\n",
              "       5.7974600e+05, 8.6140000e+04, 3.3219200e+05, 1.3092000e+05,\n",
              "       4.1892000e+05, 2.2388800e+05, 2.2255000e+05, 2.5190400e+05,\n",
              "       3.6493380e+06, 2.0748000e+05, 1.3174000e+04, 1.7567000e+05,\n",
              "       2.5476000e+04, 1.4010960e+06, 5.3525400e+05, 4.4367600e+05,\n",
              "       2.2259200e+05, 2.0446700e+06, 2.3756800e+05, 3.8695800e+05,\n",
              "       6.6168000e+04, 1.6360400e+05, 3.0553000e+05, 2.0856220e+06,\n",
              "       5.4634000e+05, 8.9860000e+05, 2.2227680e+06, 6.2558600e+05,\n",
              "       1.0279040e+06, 6.4509800e+05, 8.1760000e+05, 2.0672400e+05,\n",
              "       1.7756600e+05, 2.7682800e+05, 5.4729000e+05, 6.0637400e+05,\n",
              "       7.4959000e+05, 8.1164000e+04, 4.0540600e+05, 1.1063400e+05,\n",
              "       4.0065600e+05, 1.0353800e+05, 4.7526000e+04, 3.6410200e+05,\n",
              "       2.6816540e+07, 7.7440000e+04, 7.2978000e+05, 1.1390920e+06,\n",
              "       3.0692420e+06, 4.8570000e+05, 3.6370000e+04, 2.9529000e+05,\n",
              "       1.3292000e+04, 5.1558400e+05, 2.3756800e+05, 4.0838000e+04,\n",
              "       6.8400000e+04, 9.3729400e+05, 2.0748000e+05, 5.9370000e+04,\n",
              "       2.2255000e+05, 1.7965800e+05, 1.9032400e+05, 4.8570000e+05,\n",
              "       3.4437200e+05, 1.1704120e+06, 3.1366000e+04, 1.8754360e+06,\n",
              "       8.9698000e+04, 2.7108000e+04, 1.0356800e+05, 3.1263600e+05,\n",
              "       1.6489400e+05, 8.7406000e+04, 1.3680600e+05, 3.3680400e+05,\n",
              "       1.7105400e+05, 4.9628800e+05, 1.6069740e+06, 2.2779620e+06,\n",
              "       1.6578200e+05, 1.1886400e+05, 1.3014800e+05, 3.9362000e+04,\n",
              "       3.1510000e+04, 1.1396400e+05, 4.9190400e+05, 1.1954200e+05,\n",
              "       1.9950880e+06, 5.0806000e+04, 5.0367600e+05, 2.5617400e+05,\n",
              "       1.8119140e+06, 3.7158400e+05, 1.4878600e+05, 6.4908000e+04,\n",
              "       5.1350000e+04, 4.5705600e+05, 3.5770000e+05, 8.8962000e+04,\n",
              "       3.0836000e+05, 6.5342200e+05, 5.3525400e+05, 5.2511200e+05,\n",
              "       8.9860000e+05, 5.1012000e+04, 6.1014000e+05, 6.8400000e+04,\n",
              "       2.5617400e+05, 2.3896600e+05, 1.4541500e+06, 2.3757908e+07,\n",
              "       8.4448000e+04, 3.9840200e+05, 6.8182000e+04, 4.6185400e+05,\n",
              "       5.2404800e+05, 4.4176400e+05, 1.0074000e+05, 5.4729000e+05,\n",
              "       8.7054000e+05, 8.9860000e+05, 3.6630000e+04, 1.9145800e+05,\n",
              "       3.2512600e+05, 7.6404000e+05, 1.8754360e+06, 2.2388800e+05,\n",
              "       1.4520400e+05, 2.4199680e+06, 2.6102000e+04, 5.3525400e+05,\n",
              "       6.0070000e+04, 3.4760000e+04, 6.1397000e+05, 8.5630000e+04,\n",
              "       4.1132800e+05, 2.6947400e+05, 1.1734000e+04, 4.8858000e+04,\n",
              "       2.9086000e+04, 6.9206000e+04, 4.5254400e+05, 2.4272600e+05,\n",
              "       3.3219200e+05, 4.9190400e+05, 6.8400000e+04, 1.3623240e+06,\n",
              "       1.0784000e+05, 3.6630000e+04, 5.5399800e+05, 1.5807800e+05,\n",
              "       3.1457200e+05, 4.1235220e+06, 1.4369400e+05, 2.6740800e+05,\n",
              "       2.1219800e+05, 3.5997420e+06, 1.2225400e+05, 8.2189400e+06,\n",
              "       3.4257200e+05, 7.2611600e+05, 4.5358600e+05, 1.1068840e+06,\n",
              "       1.7409160e+06, 3.5956400e+05, 1.7418200e+05, 8.5127600e+05,\n",
              "       1.1982020e+06, 6.0748000e+04, 3.6630000e+04, 1.3233500e+06,\n",
              "       5.4634000e+05, 5.7794200e+05, 3.9362000e+04, 6.1492200e+05,\n",
              "       2.2247200e+05, 4.8858000e+04, 5.0890200e+05, 1.6273400e+05,\n",
              "       9.6608000e+04, 3.8026600e+05, 4.9104000e+04, 9.1624800e+05,\n",
              "       3.7320400e+05, 2.2234400e+05, 6.0637400e+05, 3.2334000e+04,\n",
              "       9.3994000e+04, 2.4726000e+05, 7.9380000e+04, 5.0926000e+04,\n",
              "       1.3174000e+04, 1.8011200e+05, 2.7438000e+04, 1.7089400e+05,\n",
              "       4.7184400e+05, 2.4359200e+05, 6.9984000e+04, 3.6451600e+05,\n",
              "       4.6856400e+05, 9.4502000e+04, 3.1263600e+05, 3.5316000e+04,\n",
              "       2.5543200e+05, 1.2878600e+05, 1.3089600e+05, 5.4523400e+05,\n",
              "       2.7593200e+05, 4.7410000e+04, 2.3244000e+05, 4.1474000e+04,\n",
              "       5.4234800e+05, 3.4369460e+06, 2.1287200e+05, 4.3973600e+05,\n",
              "       6.5881200e+05, 1.3089600e+05, 7.1923400e+05, 1.7105400e+05,\n",
              "       9.7398000e+04, 2.1869000e+06, 5.3776600e+05, 4.8898000e+04,\n",
              "       2.3719220e+06, 1.9284000e+04, 2.0423940e+06, 4.9681800e+05,\n",
              "       5.7794200e+05, 3.4910000e+04, 1.0579240e+06, 6.6744000e+04,\n",
              "       2.7824000e+05, 2.3244000e+05, 6.5362000e+04, 3.2265600e+05,\n",
              "       2.6740800e+05, 4.0854800e+05, 4.2443000e+05, 6.6812000e+04,\n",
              "       6.5881200e+05, 4.0540600e+05, 5.2268600e+05, 8.7836000e+04,\n",
              "       1.3322560e+06, 6.6704000e+04, 2.9020000e+04, 8.3720000e+03,\n",
              "       5.0367600e+05, 8.3177600e+05, 1.2085940e+06, 1.2713080e+06,\n",
              "       3.2432000e+04, 4.0332800e+05, 5.4234800e+05, 4.6862000e+05,\n",
              "       2.3196200e+05, 7.6632200e+05, 2.2603200e+05, 4.0874000e+04,\n",
              "       5.1012000e+04, 6.6724000e+04, 5.5399800e+05, 1.5918000e+04,\n",
              "       5.4234800e+05, 5.0380000e+04, 1.1620800e+05, 6.7914000e+04,\n",
              "       2.0228400e+05, 7.2611600e+05, 2.1161400e+05, 1.1781600e+05,\n",
              "       2.5043800e+05, 9.5936000e+04, 9.3132000e+04, 7.4600000e+03,\n",
              "       4.2060000e+04, 2.0171340e+06, 3.1881000e+05, 1.4721200e+05,\n",
              "       4.5745200e+05, 7.9072000e+04, 2.9496200e+05, 1.1880520e+06,\n",
              "       4.4195200e+05, 2.7682800e+05, 8.5478000e+04, 1.5985200e+05,\n",
              "       3.1278400e+05, 1.3070800e+05, 4.3556000e+05, 2.9701200e+05,\n",
              "       8.5922000e+04, 1.1713400e+05, 3.5770000e+05, 2.1334400e+05,\n",
              "       6.9646200e+05, 4.0854800e+05, 1.2225400e+05, 3.5924000e+04,\n",
              "       3.8114200e+05, 7.9072000e+04, 3.2472200e+05, 7.4690400e+05,\n",
              "       8.4438200e+05, 4.8044400e+05, 1.5239600e+05, 1.1066400e+05,\n",
              "       1.2921600e+05, 6.1100000e+04, 2.2031200e+05, 5.0380000e+04,\n",
              "       3.2334000e+04, 1.3148280e+06, 9.7758000e+05, 3.3421400e+05,\n",
              "       1.3183200e+05, 3.2209000e+05, 1.4369400e+05, 6.5342200e+05,\n",
              "       3.1818000e+04, 2.3080400e+05, 1.6092100e+06, 8.0936800e+05,\n",
              "       9.2790400e+05, 8.7230000e+04, 2.9745766e+07, 4.3038800e+05,\n",
              "       8.2456000e+04, 4.9860600e+05, 4.3574800e+05, 7.5154000e+04,\n",
              "       9.8322000e+04, 6.1238000e+04, 1.7759400e+05, 1.9923000e+05,\n",
              "       3.0544000e+04, 2.9972000e+05, 7.2277000e+05, 2.2547200e+06,\n",
              "       4.0332800e+05, 2.2610364e+07, 2.2769800e+05, 3.9840200e+05,\n",
              "       1.1899160e+06, 2.3706200e+05, 4.5771800e+05, 5.3336000e+05,\n",
              "       2.7116000e+04, 4.3996000e+05, 2.2018200e+05, 7.0856000e+04,\n",
              "       7.2611600e+05, 1.2225400e+05, 9.9494000e+04, 5.6786000e+04,\n",
              "       1.8810000e+05, 4.1775000e+05, 6.9800000e+04, 3.0268000e+05,\n",
              "       1.1141800e+05, 2.3787800e+05, 1.1886400e+05, 4.6856400e+05,\n",
              "       2.1884000e+04, 1.6608000e+05, 2.7682800e+05, 8.7230000e+04,\n",
              "       1.4370200e+05, 6.8972000e+04, 2.5804600e+05, 3.9840200e+05,\n",
              "       8.2628400e+05, 1.7409200e+05, 8.4012200e+05, 9.2018000e+04,\n",
              "       1.0015520e+06, 2.7327600e+05, 1.1390920e+06, 6.3409000e+05,\n",
              "       3.2534000e+04, 7.6330600e+05, 6.4096000e+04, 8.4438200e+05,\n",
              "       4.4723200e+05, 3.3306000e+04, 9.1197000e+05, 8.6680000e+03,\n",
              "       3.5770000e+05, 4.5659600e+05, 2.4568400e+05, 1.0278360e+06,\n",
              "       6.9206000e+04, 4.1856000e+05, 1.3888800e+05, 4.9639200e+05,\n",
              "       6.3378000e+04, 1.9145800e+05, 3.2534000e+04, 1.5985200e+05,\n",
              "       3.5986000e+04, 8.0848400e+05, 2.4082800e+05, 1.9563600e+05,\n",
              "       8.5478000e+04, 2.7727200e+05, 2.4499060e+07, 4.3577800e+05,\n",
              "       7.3680000e+05, 1.0147800e+05, 5.1652400e+05, 3.8426400e+05,\n",
              "       2.3848800e+05, 1.2747600e+05, 1.5239600e+05, 2.5007800e+05,\n",
              "       2.3687340e+06, 4.0938000e+04, 2.2247200e+05, 5.5885000e+05,\n",
              "       4.9639200e+05, 5.1362800e+05, 1.9630000e+04, 7.2768000e+05,\n",
              "       4.9639200e+05, 2.2076400e+05, 2.0681800e+05, 2.8572600e+05,\n",
              "       2.5820200e+05, 2.3322400e+05, 2.3798000e+04, 3.0836000e+05,\n",
              "       6.3687200e+05, 9.2790400e+05, 4.4616000e+05, 1.9282560e+06,\n",
              "       1.1282000e+05, 2.0991000e+05, 7.2611600e+05, 3.9362000e+04,\n",
              "       5.7794200e+05, 5.9004600e+05, 7.9840000e+04, 1.1982020e+06,\n",
              "       3.2918000e+04, 9.5027600e+05, 5.3432800e+05, 8.7230000e+04,\n",
              "       6.9178000e+04, 2.4949600e+05, 1.5141000e+05, 4.5254400e+05,\n",
              "       2.3034000e+04, 8.1694000e+04, 6.5618000e+04, 5.3336000e+05,\n",
              "       4.7632600e+05, 1.7079800e+05, 1.3888800e+05, 8.7230000e+04,\n",
              "       3.2095600e+05, 3.4669600e+05, 5.2169400e+05, 1.3796000e+04,\n",
              "       8.8962000e+04, 1.7418800e+05, 3.1198600e+05, 1.8618800e+05,\n",
              "       2.3322400e+05, 4.1821800e+05, 1.7436220e+07, 3.8866000e+05,\n",
              "       6.9206000e+04, 6.0070000e+04, 2.3322400e+05, 1.5383000e+05,\n",
              "       2.6941120e+06, 1.8810000e+05, 6.1660000e+04, 3.2570000e+04,\n",
              "       9.7758000e+05, 3.6386000e+04, 3.3435400e+05, 9.5598000e+04,\n",
              "       2.7682800e+05, 4.3046800e+05, 6.6708000e+04, 1.8425560e+06,\n",
              "       3.6888000e+04, 4.5118000e+04, 7.2912000e+04, 2.2247200e+05,\n",
              "       5.2016200e+05, 4.9104000e+04, 3.8398000e+04, 5.5248000e+04,\n",
              "       1.8892600e+05, 1.9950880e+06, 3.8567000e+05, 8.6486000e+05,\n",
              "       4.7034000e+04, 1.0147800e+05, 1.0611540e+06, 3.3360400e+05,\n",
              "       1.8052600e+05, 2.6816540e+07, 1.8277800e+05, 1.3292000e+04,\n",
              "       2.3182400e+05, 3.0836000e+05, 1.6744200e+06, 3.5798800e+05,\n",
              "       2.3925200e+05, 6.3994000e+04, 3.8567000e+05, 2.0650000e+04,\n",
              "       7.7506000e+04, 4.9190400e+05, 2.9619400e+05, 4.4176400e+05,\n",
              "       2.1287200e+05, 1.2434400e+05, 2.7727200e+05, 2.2603200e+05,\n",
              "       2.2584730e+07, 6.1718000e+04, 4.3606800e+05, 3.7232000e+05,\n",
              "       3.9132600e+05, 6.2558600e+05, 3.7104000e+04, 3.5439800e+05,\n",
              "       1.3888800e+05, 6.6744000e+04, 2.3756800e+05, 3.1198600e+05,\n",
              "       3.3957600e+05, 3.1990000e+05, 7.7506000e+04, 7.1064400e+05,\n",
              "       3.7076000e+04, 2.2255000e+05, 1.2713080e+06, 1.9155600e+05,\n",
              "       7.7120000e+05, 3.3042800e+05, 1.1952720e+06, 8.8962000e+04,\n",
              "       3.7211200e+05, 1.1697800e+05, 3.1881000e+05, 3.8547400e+05,\n",
              "       5.7794200e+05, 2.5007800e+05, 4.9628800e+05, 1.0729400e+05,\n",
              "       1.7567000e+05, 6.0748000e+04, 2.2171600e+05, 4.1262000e+04,\n",
              "       5.1930200e+05, 3.8695800e+05, 5.6340000e+04, 2.4199680e+06,\n",
              "       9.2294000e+04, 3.5034800e+05, 5.2511200e+05, 4.6112800e+05,\n",
              "       1.2360020e+06, 2.8629360e+06, 8.7406000e+04, 9.5027600e+05,\n",
              "       3.6708000e+04, 7.1064400e+05, 5.4750000e+04, 3.1355600e+05,\n",
              "       3.8114000e+04, 9.7758000e+05, 6.0239400e+05, 1.9145800e+05,\n",
              "       2.2255000e+05, 9.7252200e+05, 1.7090600e+05, 1.8425560e+06,\n",
              "       3.4708200e+05, 2.4758200e+05, 1.1282000e+05, 1.6578200e+05,\n",
              "       1.0710000e+05, 2.5223280e+06, 2.2259200e+05, 5.1337000e+05,\n",
              "       4.4195200e+05, 1.3623240e+06, 3.9469600e+05, 1.0752400e+05,\n",
              "       4.9190400e+05, 4.2060000e+04, 5.3336000e+05, 4.1327200e+05,\n",
              "       1.9851000e+05, 2.8766000e+04, 3.6451600e+05, 3.4343600e+05,\n",
              "       4.6315200e+05, 2.4568400e+05, 1.0719800e+05, 2.0252000e+05,\n",
              "       7.3656000e+04, 6.9418000e+04, 5.8905800e+05, 5.2511200e+05,\n",
              "       1.6837000e+05, 4.9104000e+04, 8.5278000e+04, 1.7079800e+05,\n",
              "       9.2134000e+04, 3.5816000e+05, 5.4684000e+05, 2.4441000e+05,\n",
              "       4.0653400e+05, 8.1694000e+04, 1.8618800e+05, 4.0299400e+05,\n",
              "       2.6642000e+04, 1.4179800e+05, 2.2767200e+05, 6.6572000e+04,\n",
              "       3.1366000e+04, 3.5924000e+04, 6.1397000e+05, 2.7453400e+05,\n",
              "       6.5881200e+05, 5.1615000e+05, 4.1132800e+05, 4.9628800e+05,\n",
              "       6.0239400e+05, 1.0335760e+06, 2.3322400e+05, 7.9798200e+05,\n",
              "       5.5399800e+05, 4.1804200e+05, 5.2836000e+05, 1.1270000e+04,\n",
              "       3.3495800e+05, 6.6248000e+04, 6.1100000e+04, 2.6740800e+05,\n",
              "       8.1241800e+05, 1.0335760e+06, 5.1350000e+04, 5.7794200e+05,\n",
              "       4.3384400e+05, 3.1198600e+05, 5.4422000e+04, 2.0748000e+05,\n",
              "       1.0513800e+05, 1.7290000e+04, 6.8400000e+04, 3.1198600e+05,\n",
              "       2.6826000e+04, 2.2227680e+06, 6.9984000e+04, 1.3142580e+06,\n",
              "       2.7438000e+04, 9.8598000e+04, 2.3322400e+05, 4.6259200e+05,\n",
              "       2.5732800e+05, 8.7032000e+04, 1.0938600e+05, 3.2472200e+05,\n",
              "       3.8700000e+05, 1.3263000e+05, 1.3092000e+05, 4.2217400e+05,\n",
              "       5.4234800e+05, 2.3757800e+05, 1.2231780e+06, 3.4962400e+05,\n",
              "       2.3348400e+05, 2.8729800e+05, 2.3798000e+04, 1.3411280e+06,\n",
              "       2.0748000e+05, 6.6724000e+04, 5.1362800e+05, 2.6302400e+05,\n",
              "       7.5512600e+05, 2.2388800e+05, 1.4370200e+05, 7.3765600e+05,\n",
              "       1.8595200e+05, 6.7138000e+04, 2.0478000e+05, 4.4367600e+05,\n",
              "       1.9962400e+05, 9.4134000e+04, 1.9877800e+05, 8.8962000e+04,\n",
              "       1.8203080e+06, 1.1390920e+06, 3.4892800e+05, 4.5548600e+05,\n",
              "       6.2666000e+04, 1.7702900e+06, 3.5316000e+04, 7.3656000e+04,\n",
              "       4.1235220e+06, 4.8570000e+05, 1.1174600e+05, 6.9178000e+04,\n",
              "       3.8114200e+05, 8.8854000e+04, 2.0478000e+05, 5.4014000e+04,\n",
              "       4.9681800e+05, 7.5226000e+04, 1.5807800e+05, 3.9532800e+05,\n",
              "       7.2463000e+05, 2.2584730e+07])"
            ]
          },
          "metadata": {
            "tags": []
          },
          "execution_count": 205
        }
      ]
    },
    {
      "cell_type": "code",
      "metadata": {
        "colab": {
          "base_uri": "https://localhost:8080/"
        },
        "id": "LMT7k_4fB0oj",
        "outputId": "47c8f656-b786-45c3-cd2c-6bd487d9fe9b"
      },
      "source": [
        "print(\"Train score: \",reg.score(x_train,y_train)*100)\n",
        "print(\"Test score: \",reg.score(x_test,y_test)*100)"
      ],
      "execution_count": null,
      "outputs": [
        {
          "output_type": "stream",
          "text": [
            "Train score:  100.0\n",
            "Test score:  99.6948756805886\n"
          ],
          "name": "stdout"
        }
      ]
    },
    {
      "cell_type": "code",
      "metadata": {
        "colab": {
          "base_uri": "https://localhost:8080/"
        },
        "id": "e_ixnUNaa4T8",
        "outputId": "4072023a-a2ab-45a6-87ac-24df5a238042"
      },
      "source": [
        "decision_r2_score=r2_score(y_test,y_pred)*100\n",
        "print(\"R_Square : \",decision_r2_score)"
      ],
      "execution_count": null,
      "outputs": [
        {
          "output_type": "stream",
          "text": [
            "R_Square :  99.6948756805886\n"
          ],
          "name": "stdout"
        }
      ]
    },
    {
      "cell_type": "code",
      "metadata": {
        "colab": {
          "base_uri": "https://localhost:8080/"
        },
        "id": "2HAYEqqYB8PI",
        "outputId": "0fcb6f6e-db27-4a9e-b855-a0323c7f58ea"
      },
      "source": [
        "decision_ma=mean_absolute_error(y_test,y_pred)\n",
        "print(\"Mean_absolute_error: \",decision_ma)\n",
        "decision_ms=mean_squared_error(y_test,y_pred)\n",
        "print(\"Mean_squared_error: \",decision_ms)\n",
        "decision_mn=median_absolute_error(y_test,y_pred)\n",
        "print(\"Median_absolute_error: \",decision_mn)\n",
        "decision_rmse=sqrt(decision_ms)\n",
        "print(\"Root_Mean_Squared_error: \",decision_rmse)"
      ],
      "execution_count": null,
      "outputs": [
        {
          "output_type": "stream",
          "text": [
            "Mean_absolute_error:  36470.266343825664\n",
            "Mean_squared_error:  20390776893.578693\n",
            "Median_absolute_error:  8581.0\n",
            "Root_Mean_Squared_error:  142796.27759006427\n"
          ],
          "name": "stdout"
        }
      ]
    },
    {
      "cell_type": "markdown",
      "metadata": {
        "id": "FmKDRRUNDLpu"
      },
      "source": [
        "## **RANDOM FOREST**"
      ]
    },
    {
      "cell_type": "code",
      "metadata": {
        "id": "N2gZSHrIDJ4w"
      },
      "source": [
        "from sklearn.ensemble import RandomForestRegressor\n",
        "from sklearn.metrics import classification_report,confusion_matrix"
      ],
      "execution_count": null,
      "outputs": []
    },
    {
      "cell_type": "code",
      "metadata": {
        "colab": {
          "base_uri": "https://localhost:8080/"
        },
        "id": "6Lz0qPVFDgHv",
        "outputId": "f3128848-6d85-48c6-9860-877720a5f6b6"
      },
      "source": [
        "regressor = RandomForestRegressor(n_estimators=20,max_depth=2,min_samples_leaf=3,random_state=10)\n",
        "regressor.fit(x_train, y_train)"
      ],
      "execution_count": null,
      "outputs": [
        {
          "output_type": "execute_result",
          "data": {
            "text/plain": [
              "RandomForestRegressor(bootstrap=True, ccp_alpha=0.0, criterion='mse',\n",
              "                      max_depth=2, max_features='auto', max_leaf_nodes=None,\n",
              "                      max_samples=None, min_impurity_decrease=0.0,\n",
              "                      min_impurity_split=None, min_samples_leaf=3,\n",
              "                      min_samples_split=2, min_weight_fraction_leaf=0.0,\n",
              "                      n_estimators=20, n_jobs=None, oob_score=False,\n",
              "                      random_state=10, verbose=0, warm_start=False)"
            ]
          },
          "metadata": {
            "tags": []
          },
          "execution_count": 200
        }
      ]
    },
    {
      "cell_type": "code",
      "metadata": {
        "colab": {
          "base_uri": "https://localhost:8080/"
        },
        "id": "rKGjcIzfD34d",
        "outputId": "79407d57-d0ea-4bd3-e29e-bfc87f7bb1a5"
      },
      "source": [
        "y_pred = regressor.predict(x_test)\n",
        "y_pred"
      ],
      "execution_count": null,
      "outputs": [
        {
          "output_type": "execute_result",
          "data": {
            "text/plain": [
              "array([  321134.56851335,   321134.56851335,   321134.56851335,\n",
              "         321134.56851335,  2064378.50609346,   321134.56851335,\n",
              "         321134.56851335,   321134.56851335,   321134.56851335,\n",
              "         321134.56851335,   321134.56851335,   321134.56851335,\n",
              "         321134.56851335,   321134.56851335,  2064378.50609346,\n",
              "         321134.56851335,   321134.56851335,   321134.56851335,\n",
              "         321134.56851335,   321134.56851335,   321134.56851335,\n",
              "         321134.56851335,   321134.56851335,   321134.56851335,\n",
              "         321134.56851335,   321134.56851335,   321134.56851335,\n",
              "         321134.56851335,  2064378.50609346,   321134.56851335,\n",
              "         321134.56851335,   321134.56851335,   321134.56851335,\n",
              "         321134.56851335,   321134.56851335,   321134.56851335,\n",
              "         321134.56851335,   321134.56851335,   321134.56851335,\n",
              "         321134.56851335,   321134.56851335,   321134.56851335,\n",
              "         321134.56851335,   321134.56851335,   321134.56851335,\n",
              "         321134.56851335,   321134.56851335,   321134.56851335,\n",
              "         321134.56851335,   321134.56851335,   321134.56851335,\n",
              "         321134.56851335,   321134.56851335,   321134.56851335,\n",
              "         321134.56851335,   321134.56851335,   321134.56851335,\n",
              "         321134.56851335,   321134.56851335,   321134.56851335,\n",
              "        2064378.50609346,   321134.56851335,   321134.56851335,\n",
              "         321134.56851335,   321134.56851335,   321134.56851335,\n",
              "         321134.56851335,   321134.56851335,   321134.56851335,\n",
              "         321134.56851335,   321134.56851335,   321134.56851335,\n",
              "         321134.56851335,   321134.56851335,   321134.56851335,\n",
              "        2064378.50609346,   321134.56851335,   321134.56851335,\n",
              "         321134.56851335,   321134.56851335,   321134.56851335,\n",
              "         321134.56851335,   321134.56851335,   321134.56851335,\n",
              "         321134.56851335,   321134.56851335,   321134.56851335,\n",
              "       21929018.611593  ,   321134.56851335,   321134.56851335,\n",
              "         321134.56851335,   321134.56851335,   321134.56851335,\n",
              "         321134.56851335,   321134.56851335,   321134.56851335,\n",
              "         321134.56851335,   321134.56851335,   321134.56851335,\n",
              "         321134.56851335,   321134.56851335,   321134.56851335,\n",
              "         321134.56851335,   321134.56851335,   321134.56851335,\n",
              "         321134.56851335,   321134.56851335,   321134.56851335,\n",
              "         321134.56851335,   321134.56851335,   321134.56851335,\n",
              "         321134.56851335,  2064378.50609346,   321134.56851335,\n",
              "         321134.56851335,   321134.56851335,   321134.56851335,\n",
              "         321134.56851335,   321134.56851335,   321134.56851335,\n",
              "         321134.56851335,   321134.56851335,   321134.56851335,\n",
              "         321134.56851335,   321134.56851335,   321134.56851335,\n",
              "         321134.56851335,  2064378.50609346,   321134.56851335,\n",
              "        2064378.50609346,  2064378.50609346,   321134.56851335,\n",
              "         321134.56851335,   321134.56851335,   321134.56851335,\n",
              "         321134.56851335,   321134.56851335,   321134.56851335,\n",
              "         321134.56851335,   321134.56851335,   321134.56851335,\n",
              "         321134.56851335,   321134.56851335,   321134.56851335,\n",
              "         321134.56851335,   321134.56851335,   321134.56851335,\n",
              "         321134.56851335, 25214231.37188047,   321134.56851335,\n",
              "         321134.56851335,   321134.56851335,  2064378.50609346,\n",
              "         321134.56851335,   321134.56851335,   321134.56851335,\n",
              "         321134.56851335,   321134.56851335,   321134.56851335,\n",
              "         321134.56851335,   321134.56851335,   321134.56851335,\n",
              "         321134.56851335,   321134.56851335,   321134.56851335,\n",
              "         321134.56851335,   321134.56851335,   321134.56851335,\n",
              "         321134.56851335,   321134.56851335,   321134.56851335,\n",
              "        2064378.50609346,   321134.56851335,   321134.56851335,\n",
              "         321134.56851335,   321134.56851335,   321134.56851335,\n",
              "         321134.56851335,   321134.56851335,   321134.56851335,\n",
              "         321134.56851335,   321134.56851335,  2064378.50609346,\n",
              "        2064378.50609346,   321134.56851335,   321134.56851335,\n",
              "         321134.56851335,   321134.56851335,   321134.56851335,\n",
              "         321134.56851335,   321134.56851335,   321134.56851335,\n",
              "        2064378.50609346,   321134.56851335,   321134.56851335,\n",
              "         321134.56851335,  2064378.50609346,   321134.56851335,\n",
              "         321134.56851335,   321134.56851335,   321134.56851335,\n",
              "         321134.56851335,   321134.56851335,   321134.56851335,\n",
              "         321134.56851335,   321134.56851335,   321134.56851335,\n",
              "         321134.56851335,  2064378.50609346,   321134.56851335,\n",
              "         321134.56851335,   321134.56851335,   321134.56851335,\n",
              "         321134.56851335,  2064378.50609346, 24005314.77940184,\n",
              "         321134.56851335,   321134.56851335,   321134.56851335,\n",
              "         321134.56851335,   321134.56851335,   321134.56851335,\n",
              "         321134.56851335,   321134.56851335,   321134.56851335,\n",
              "        2064378.50609346,   321134.56851335,   321134.56851335,\n",
              "         321134.56851335,   321134.56851335,  2064378.50609346,\n",
              "         321134.56851335,   321134.56851335,  2064378.50609346,\n",
              "         321134.56851335,   321134.56851335,   321134.56851335,\n",
              "         321134.56851335,   321134.56851335,   321134.56851335,\n",
              "         321134.56851335,   321134.56851335,   321134.56851335,\n",
              "         321134.56851335,   321134.56851335,   321134.56851335,\n",
              "         321134.56851335,   321134.56851335,   321134.56851335,\n",
              "         321134.56851335,   321134.56851335,   321134.56851335,\n",
              "         321134.56851335,   321134.56851335,   321134.56851335,\n",
              "         321134.56851335,   321134.56851335,  2064378.50609346,\n",
              "         321134.56851335,   321134.56851335,   321134.56851335,\n",
              "        2064378.50609346,   321134.56851335,  5412549.30155029,\n",
              "         321134.56851335,   321134.56851335,   321134.56851335,\n",
              "         321134.56851335,  2064378.50609346,   321134.56851335,\n",
              "         321134.56851335,   321134.56851335,   321134.56851335,\n",
              "         321134.56851335,   321134.56851335,   321134.56851335,\n",
              "         321134.56851335,   321134.56851335,   321134.56851335,\n",
              "         321134.56851335,   321134.56851335,   321134.56851335,\n",
              "         321134.56851335,   321134.56851335,   321134.56851335,\n",
              "         321134.56851335,   321134.56851335,   321134.56851335,\n",
              "         321134.56851335,   321134.56851335,   321134.56851335,\n",
              "         321134.56851335,   321134.56851335,   321134.56851335,\n",
              "         321134.56851335,   321134.56851335,   321134.56851335,\n",
              "         321134.56851335,   321134.56851335,   321134.56851335,\n",
              "         321134.56851335,   321134.56851335,   321134.56851335,\n",
              "         321134.56851335,   321134.56851335,   321134.56851335,\n",
              "         321134.56851335,   321134.56851335,   321134.56851335,\n",
              "         321134.56851335,   321134.56851335,   321134.56851335,\n",
              "         321134.56851335,   321134.56851335,   321134.56851335,\n",
              "         321134.56851335,   321134.56851335,  2064378.50609346,\n",
              "         321134.56851335,   321134.56851335,   321134.56851335,\n",
              "         321134.56851335,   321134.56851335,   321134.56851335,\n",
              "         321134.56851335,  2064378.50609346,   321134.56851335,\n",
              "         321134.56851335,  2064378.50609346,   321134.56851335,\n",
              "        2064378.50609346,   321134.56851335,   321134.56851335,\n",
              "         321134.56851335,   321134.56851335,   321134.56851335,\n",
              "         321134.56851335,   321134.56851335,   321134.56851335,\n",
              "         321134.56851335,   321134.56851335,   321134.56851335,\n",
              "         321134.56851335,   321134.56851335,   321134.56851335,\n",
              "         321134.56851335,   321134.56851335,   321134.56851335,\n",
              "        2064378.50609346,   321134.56851335,   321134.56851335,\n",
              "         321134.56851335,   321134.56851335,   321134.56851335,\n",
              "        2064378.50609346,   321134.56851335,   321134.56851335,\n",
              "         321134.56851335,   321134.56851335,   321134.56851335,\n",
              "         321134.56851335,   321134.56851335,   321134.56851335,\n",
              "         321134.56851335,   321134.56851335,   321134.56851335,\n",
              "         321134.56851335,   321134.56851335,   321134.56851335,\n",
              "         321134.56851335,   321134.56851335,   321134.56851335,\n",
              "         321134.56851335,   321134.56851335,   321134.56851335,\n",
              "         321134.56851335,   321134.56851335,   321134.56851335,\n",
              "         321134.56851335,   321134.56851335,   321134.56851335,\n",
              "        2064378.50609346,   321134.56851335,   321134.56851335,\n",
              "         321134.56851335,   321134.56851335,   321134.56851335,\n",
              "         321134.56851335,   321134.56851335,   321134.56851335,\n",
              "         321134.56851335,   321134.56851335,   321134.56851335,\n",
              "         321134.56851335,   321134.56851335,   321134.56851335,\n",
              "         321134.56851335,   321134.56851335,   321134.56851335,\n",
              "         321134.56851335,   321134.56851335,   321134.56851335,\n",
              "         321134.56851335,   321134.56851335,   321134.56851335,\n",
              "         321134.56851335,   321134.56851335,   321134.56851335,\n",
              "         321134.56851335,   321134.56851335,   321134.56851335,\n",
              "         321134.56851335,   321134.56851335,   321134.56851335,\n",
              "         321134.56851335,   321134.56851335,   321134.56851335,\n",
              "         321134.56851335,   321134.56851335,   321134.56851335,\n",
              "         321134.56851335,   321134.56851335,   321134.56851335,\n",
              "         321134.56851335,   321134.56851335,   321134.56851335,\n",
              "        2064378.50609346,   321134.56851335,   321134.56851335,\n",
              "         321134.56851335, 25773728.40181468,   321134.56851335,\n",
              "         321134.56851335,   321134.56851335,   321134.56851335,\n",
              "         321134.56851335,   321134.56851335,   321134.56851335,\n",
              "         321134.56851335,   321134.56851335,   321134.56851335,\n",
              "         321134.56851335,   321134.56851335,  2064378.50609346,\n",
              "         321134.56851335, 23552287.11702088,   321134.56851335,\n",
              "         321134.56851335,   321134.56851335,   321134.56851335,\n",
              "         321134.56851335,   321134.56851335,   321134.56851335,\n",
              "         321134.56851335,   321134.56851335,   321134.56851335,\n",
              "         321134.56851335,   321134.56851335,   321134.56851335,\n",
              "         321134.56851335,   321134.56851335,   321134.56851335,\n",
              "         321134.56851335,   321134.56851335,   321134.56851335,\n",
              "         321134.56851335,   321134.56851335,   321134.56851335,\n",
              "         321134.56851335,   321134.56851335,   321134.56851335,\n",
              "         321134.56851335,   321134.56851335,   321134.56851335,\n",
              "         321134.56851335,   321134.56851335,   321134.56851335,\n",
              "         321134.56851335,   321134.56851335,   321134.56851335,\n",
              "         321134.56851335,   321134.56851335,   321134.56851335,\n",
              "         321134.56851335,   321134.56851335,   321134.56851335,\n",
              "         321134.56851335,   321134.56851335,   321134.56851335,\n",
              "         321134.56851335,   321134.56851335,   321134.56851335,\n",
              "         321134.56851335,   321134.56851335,   321134.56851335,\n",
              "         321134.56851335,   321134.56851335,   321134.56851335,\n",
              "         321134.56851335,   321134.56851335,   321134.56851335,\n",
              "         321134.56851335,   321134.56851335,   321134.56851335,\n",
              "         321134.56851335,   321134.56851335,   321134.56851335,\n",
              "         321134.56851335,   321134.56851335,   321134.56851335,\n",
              "       24925038.66572662,   321134.56851335,   321134.56851335,\n",
              "         321134.56851335,   321134.56851335,   321134.56851335,\n",
              "         321134.56851335,   321134.56851335,   321134.56851335,\n",
              "         321134.56851335,  2064378.50609346,   321134.56851335,\n",
              "         321134.56851335,   321134.56851335,   321134.56851335,\n",
              "         321134.56851335,   321134.56851335,   321134.56851335,\n",
              "         321134.56851335,   321134.56851335,   321134.56851335,\n",
              "         321134.56851335,   321134.56851335,   321134.56851335,\n",
              "         321134.56851335,   321134.56851335,   321134.56851335,\n",
              "         321134.56851335,   321134.56851335,  2064378.50609346,\n",
              "         321134.56851335,   321134.56851335,   321134.56851335,\n",
              "         321134.56851335,   321134.56851335,   321134.56851335,\n",
              "         321134.56851335,   321134.56851335,   321134.56851335,\n",
              "         321134.56851335,   321134.56851335,   321134.56851335,\n",
              "         321134.56851335,   321134.56851335,   321134.56851335,\n",
              "         321134.56851335,   321134.56851335,   321134.56851335,\n",
              "         321134.56851335,   321134.56851335,   321134.56851335,\n",
              "         321134.56851335,   321134.56851335,   321134.56851335,\n",
              "         321134.56851335,   321134.56851335,   321134.56851335,\n",
              "         321134.56851335,   321134.56851335,   321134.56851335,\n",
              "         321134.56851335,   321134.56851335,   321134.56851335,\n",
              "         321134.56851335, 18156248.51264287,   321134.56851335,\n",
              "         321134.56851335,   321134.56851335,   321134.56851335,\n",
              "         321134.56851335,  2064378.50609346,   321134.56851335,\n",
              "         321134.56851335,   321134.56851335,   321134.56851335,\n",
              "         321134.56851335,   321134.56851335,   321134.56851335,\n",
              "         321134.56851335,   321134.56851335,   321134.56851335,\n",
              "        2064378.50609346,   321134.56851335,   321134.56851335,\n",
              "         321134.56851335,   321134.56851335,   321134.56851335,\n",
              "         321134.56851335,   321134.56851335,   321134.56851335,\n",
              "         321134.56851335,  2064378.50609346,   321134.56851335,\n",
              "         321134.56851335,   321134.56851335,   321134.56851335,\n",
              "         321134.56851335,   321134.56851335,   321134.56851335,\n",
              "       25506366.81431468,   321134.56851335,   321134.56851335,\n",
              "         321134.56851335,   321134.56851335,  2064378.50609346,\n",
              "         321134.56851335,   321134.56851335,   321134.56851335,\n",
              "         321134.56851335,   321134.56851335,   321134.56851335,\n",
              "         321134.56851335,   321134.56851335,   321134.56851335,\n",
              "         321134.56851335,   321134.56851335,   321134.56851335,\n",
              "         321134.56851335, 22301547.24745846,   321134.56851335,\n",
              "         321134.56851335,   321134.56851335,   321134.56851335,\n",
              "         321134.56851335,   321134.56851335,   321134.56851335,\n",
              "         321134.56851335,   321134.56851335,   321134.56851335,\n",
              "         321134.56851335,   321134.56851335,   321134.56851335,\n",
              "         321134.56851335,   321134.56851335,   321134.56851335,\n",
              "         321134.56851335,   321134.56851335,   321134.56851335,\n",
              "         321134.56851335,   321134.56851335,   321134.56851335,\n",
              "         321134.56851335,   321134.56851335,   321134.56851335,\n",
              "         321134.56851335,   321134.56851335,   321134.56851335,\n",
              "         321134.56851335,   321134.56851335,   321134.56851335,\n",
              "         321134.56851335,   321134.56851335,   321134.56851335,\n",
              "         321134.56851335,   321134.56851335,   321134.56851335,\n",
              "         321134.56851335,  2064378.50609346,   321134.56851335,\n",
              "         321134.56851335,   321134.56851335,   321134.56851335,\n",
              "         321134.56851335,  2064378.50609346,   321134.56851335,\n",
              "         321134.56851335,   321134.56851335,   321134.56851335,\n",
              "         321134.56851335,   321134.56851335,   321134.56851335,\n",
              "         321134.56851335,   321134.56851335,   321134.56851335,\n",
              "         321134.56851335,   321134.56851335,   321134.56851335,\n",
              "        2064378.50609346,   321134.56851335,   321134.56851335,\n",
              "         321134.56851335,   321134.56851335,   321134.56851335,\n",
              "        2064378.50609346,   321134.56851335,   321134.56851335,\n",
              "         321134.56851335,   321134.56851335,   321134.56851335,\n",
              "         321134.56851335,   321134.56851335,   321134.56851335,\n",
              "         321134.56851335,   321134.56851335,   321134.56851335,\n",
              "         321134.56851335,   321134.56851335,   321134.56851335,\n",
              "         321134.56851335,   321134.56851335,   321134.56851335,\n",
              "         321134.56851335,   321134.56851335,   321134.56851335,\n",
              "         321134.56851335,   321134.56851335,   321134.56851335,\n",
              "         321134.56851335,   321134.56851335,   321134.56851335,\n",
              "         321134.56851335,   321134.56851335,   321134.56851335,\n",
              "         321134.56851335,   321134.56851335,   321134.56851335,\n",
              "         321134.56851335,   321134.56851335,   321134.56851335,\n",
              "         321134.56851335,   321134.56851335,   321134.56851335,\n",
              "         321134.56851335,   321134.56851335,   321134.56851335,\n",
              "         321134.56851335,   321134.56851335,   321134.56851335,\n",
              "         321134.56851335,   321134.56851335,   321134.56851335,\n",
              "         321134.56851335,   321134.56851335,   321134.56851335,\n",
              "         321134.56851335,   321134.56851335,   321134.56851335,\n",
              "         321134.56851335,   321134.56851335,   321134.56851335,\n",
              "         321134.56851335,   321134.56851335,   321134.56851335,\n",
              "         321134.56851335,   321134.56851335,   321134.56851335,\n",
              "         321134.56851335,   321134.56851335,   321134.56851335,\n",
              "         321134.56851335,   321134.56851335,   321134.56851335,\n",
              "         321134.56851335,   321134.56851335,   321134.56851335,\n",
              "        2064378.50609346,   321134.56851335,   321134.56851335,\n",
              "         321134.56851335,   321134.56851335,   321134.56851335,\n",
              "         321134.56851335,   321134.56851335,   321134.56851335,\n",
              "         321134.56851335,   321134.56851335,   321134.56851335,\n",
              "         321134.56851335,   321134.56851335,   321134.56851335,\n",
              "         321134.56851335,   321134.56851335,   321134.56851335,\n",
              "         321134.56851335,   321134.56851335,   321134.56851335,\n",
              "         321134.56851335,   321134.56851335,   321134.56851335,\n",
              "         321134.56851335,   321134.56851335,   321134.56851335,\n",
              "         321134.56851335,   321134.56851335,   321134.56851335,\n",
              "         321134.56851335,   321134.56851335,   321134.56851335,\n",
              "         321134.56851335,   321134.56851335,   321134.56851335,\n",
              "         321134.56851335,   321134.56851335,   321134.56851335,\n",
              "        2064378.50609346,   321134.56851335,   321134.56851335,\n",
              "         321134.56851335,   321134.56851335,  2064378.50609346,\n",
              "         321134.56851335,   321134.56851335,  2064378.50609346,\n",
              "         321134.56851335,   321134.56851335,   321134.56851335,\n",
              "         321134.56851335,   321134.56851335,   321134.56851335,\n",
              "         321134.56851335,   321134.56851335,   321134.56851335,\n",
              "         321134.56851335,   321134.56851335,   321134.56851335,\n",
              "       23435311.72185274])"
            ]
          },
          "metadata": {
            "tags": []
          },
          "execution_count": 201
        }
      ]
    },
    {
      "cell_type": "code",
      "metadata": {
        "colab": {
          "base_uri": "https://localhost:8080/"
        },
        "id": "I8R2zHUSD8WU",
        "outputId": "c1b91ceb-192b-4650-8326-9dda9ffc0814"
      },
      "source": [
        "print(\"Train score: \",reg.score(x_train,y_train)*100)\n",
        "print(\"Test score: \",reg.score(x_test,y_test)*100)"
      ],
      "execution_count": null,
      "outputs": [
        {
          "output_type": "stream",
          "text": [
            "Train score:  100.0\n",
            "Test score:  99.73966251851519\n"
          ],
          "name": "stdout"
        }
      ]
    },
    {
      "cell_type": "code",
      "metadata": {
        "colab": {
          "base_uri": "https://localhost:8080/"
        },
        "id": "wVBuqtD-a9HM",
        "outputId": "6fefa681-a649-4e66-8b69-aaad2762b853"
      },
      "source": [
        "random_r2_score=r2_score(y_test,y_pred)*100\n",
        "print(\"R_Square : \",random_r2_score)"
      ],
      "execution_count": null,
      "outputs": [
        {
          "output_type": "stream",
          "text": [
            "R_Square :  97.51419195042139\n"
          ],
          "name": "stdout"
        }
      ]
    },
    {
      "cell_type": "code",
      "metadata": {
        "colab": {
          "base_uri": "https://localhost:8080/"
        },
        "id": "3k5vJrrJEH_7",
        "outputId": "f9ab12b0-5030-4407-dbe7-6edb2ec81a4e"
      },
      "source": [
        "random_ma=mean_absolute_error(y_test,y_pred)\n",
        "print(\"Mean_absolute_error: \",random_ma)\n",
        "random_ms=mean_squared_error(y_test,y_pred)\n",
        "print(\"Mean_squared_error: \",random_ms)\n",
        "random_mn=median_absolute_error(y_test,y_pred)\n",
        "print(\"Median_absolute_error: \",random_mn)\n",
        "random_rmse=sqrt(random_ms)\n",
        "print(\"Root_Mean_Squared_error: \",random_rmse)"
      ],
      "execution_count": null,
      "outputs": [
        {
          "output_type": "stream",
          "text": [
            "Mean_absolute_error:  24623.229866828086\n",
            "Mean_squared_error:  9797096458.349123\n",
            "Median_absolute_error:  4677.349999999944\n",
            "Root_Mean_Squared_error:  98980.2831797784\n"
          ],
          "name": "stdout"
        }
      ]
    },
    {
      "cell_type": "markdown",
      "metadata": {
        "id": "ykJ79VlCFK24"
      },
      "source": [
        "## **KNN**"
      ]
    },
    {
      "cell_type": "code",
      "metadata": {
        "id": "Vn_1cw8NFF16"
      },
      "source": [
        "from sklearn.neighbors import KNeighborsRegressor\n"
      ],
      "execution_count": null,
      "outputs": []
    },
    {
      "cell_type": "code",
      "metadata": {
        "colab": {
          "base_uri": "https://localhost:8080/"
        },
        "id": "CFOl6CNMFNCZ",
        "outputId": "815c17ac-c746-4a5a-cc7c-982d75101f79"
      },
      "source": [
        "reg=KNeighborsRegressor()\n",
        "reg.fit(x_train,y_train)\n"
      ],
      "execution_count": null,
      "outputs": [
        {
          "output_type": "execute_result",
          "data": {
            "text/plain": [
              "KNeighborsRegressor(algorithm='auto', leaf_size=30, metric='minkowski',\n",
              "                    metric_params=None, n_jobs=None, n_neighbors=5, p=2,\n",
              "                    weights='uniform')"
            ]
          },
          "metadata": {
            "tags": []
          },
          "execution_count": 158
        }
      ]
    },
    {
      "cell_type": "code",
      "metadata": {
        "colab": {
          "base_uri": "https://localhost:8080/"
        },
        "id": "Dsoz1qVmFVKk",
        "outputId": "35e990c9-1882-4b9f-855c-8cf095718108"
      },
      "source": [
        "y_pred=reg.predict(x_test)\n",
        "y_pred"
      ],
      "execution_count": null,
      "outputs": [
        {
          "output_type": "execute_result",
          "data": {
            "text/plain": [
              "array([4.78708000e+04, 2.37864400e+05, 3.03095600e+05, 1.22778800e+05,\n",
              "       5.78299600e+05, 1.13814400e+05, 2.90673200e+05, 1.60576400e+05,\n",
              "       2.93186400e+05, 3.31398000e+05, 4.08212000e+05, 8.01671600e+05,\n",
              "       7.89872800e+05, 7.72368000e+04, 8.34934800e+05, 7.36440000e+04,\n",
              "       5.96524000e+04, 2.65018800e+05, 9.08516000e+04, 5.74132400e+05,\n",
              "       6.52052000e+04, 4.11500000e+05, 8.53544000e+04, 5.43580000e+05,\n",
              "       7.74538000e+05, 3.66625600e+05, 5.90311200e+05, 3.58828000e+04,\n",
              "       2.16979960e+06, 3.96568000e+05, 4.18616000e+05, 1.60236000e+05,\n",
              "       1.68230800e+05, 2.37031200e+05, 9.48828000e+04, 9.03350000e+05,\n",
              "       8.01671600e+05, 9.19320000e+03, 7.41219200e+05, 6.96336000e+04,\n",
              "       1.90565200e+05, 1.44066800e+05, 6.49914800e+05, 7.74538000e+05,\n",
              "       1.85936000e+05, 8.83419600e+05, 3.31170000e+05, 2.35887200e+05,\n",
              "       3.79860000e+05, 1.47077600e+05, 1.08232800e+05, 3.83143600e+05,\n",
              "       1.09884800e+05, 2.39806000e+05, 3.49460000e+04, 2.71642400e+05,\n",
              "       3.63140800e+05, 5.16868000e+05, 1.60236000e+05, 6.63831200e+05,\n",
              "       2.30824160e+06, 1.11613600e+05, 1.35348000e+04, 1.14286000e+05,\n",
              "       5.32464800e+05, 1.24430000e+05, 9.83047600e+05, 9.85963600e+05,\n",
              "       9.00800000e+04, 1.92949200e+05, 1.02311880e+06, 4.23260000e+05,\n",
              "       4.97256400e+05, 5.15383200e+05, 3.34489600e+05, 1.70553800e+06,\n",
              "       7.99941200e+05, 5.27339600e+05, 8.89968000e+04, 5.34068800e+05,\n",
              "       2.73372000e+05, 3.27096800e+05, 1.39195600e+05, 5.59326000e+05,\n",
              "       6.77344000e+04, 4.06048400e+05, 5.46161600e+05, 2.16182036e+07,\n",
              "       2.65536800e+05, 1.02311880e+06, 1.89192800e+05, 1.16912400e+05,\n",
              "       8.18350800e+05, 5.32876000e+05, 6.40746400e+05, 1.85424000e+05,\n",
              "       6.91336000e+04, 3.86173200e+05, 5.52072000e+04, 2.34205200e+05,\n",
              "       1.59858000e+05, 2.74852000e+04, 3.60108400e+05, 2.32790400e+05,\n",
              "       5.74132400e+05, 1.71307600e+05, 3.33745600e+05, 1.32116400e+05,\n",
              "       4.30709600e+05, 2.32347200e+05, 1.89380800e+05, 6.48425200e+05,\n",
              "       3.85458320e+06, 4.32710000e+05, 4.18536000e+04, 1.73441600e+05,\n",
              "       2.60000000e+04, 1.58647760e+06, 5.83018400e+05, 4.29369200e+05,\n",
              "       2.36188000e+05, 2.25404920e+06, 3.20414000e+05, 4.30944000e+05,\n",
              "       6.81688000e+04, 1.40353200e+05, 3.10282800e+05, 2.16212800e+06,\n",
              "       5.65904800e+05, 8.34934800e+05, 2.19486680e+06, 6.47258200e+05,\n",
              "       9.72611200e+05, 6.36140000e+05, 7.99922800e+05, 2.09712000e+05,\n",
              "       1.85424000e+05, 2.38736400e+05, 7.24493200e+05, 7.43880400e+05,\n",
              "       7.75339200e+05, 8.17040000e+04, 4.09086800e+05, 9.09736000e+04,\n",
              "       4.10079200e+05, 1.03492400e+05, 1.43650800e+05, 2.42559600e+05,\n",
              "       2.58536192e+07, 7.64180000e+04, 7.92704800e+05, 5.55266400e+05,\n",
              "       3.20851080e+06, 3.92802800e+05, 3.40092000e+04, 2.95858400e+05,\n",
              "       4.20768000e+04, 4.82882800e+05, 3.97515200e+05, 4.03140000e+04,\n",
              "       7.72368000e+04, 8.53434800e+05, 2.82424400e+05, 1.18632400e+05,\n",
              "       2.18789200e+05, 1.56518400e+05, 2.03578800e+05, 4.75969600e+05,\n",
              "       3.71577200e+05, 8.88482800e+05, 3.14228000e+04, 2.66991000e+06,\n",
              "       3.18208000e+05, 3.88456000e+04, 7.81904000e+04, 2.22192000e+05,\n",
              "       1.89192800e+05, 8.78628000e+04, 1.33225600e+05, 2.43174000e+05,\n",
              "       3.90229600e+05, 4.84312800e+05, 1.20547240e+06, 2.16979960e+06,\n",
              "       1.55323200e+05, 1.26312400e+05, 1.43288000e+05, 3.55308000e+04,\n",
              "       3.31168000e+04, 1.75920000e+05, 4.71316800e+05, 1.17565200e+05,\n",
              "       1.81566800e+06, 1.28781200e+05, 5.63303200e+05, 2.63336800e+05,\n",
              "       7.96203200e+05, 3.11721200e+05, 1.29634000e+05, 9.53132000e+04,\n",
              "       1.24251200e+05, 4.57547200e+05, 2.88977600e+05, 2.30642400e+05,\n",
              "       2.97373600e+05, 6.00263600e+05, 4.69880000e+05, 3.58696000e+05,\n",
              "       9.54848000e+05, 1.14924000e+05, 6.42564800e+05, 7.62484000e+04,\n",
              "       2.67145200e+05, 2.15970400e+05, 1.02020320e+06, 2.38703780e+07,\n",
              "       7.72988000e+04, 3.88817600e+05, 2.55291600e+05, 5.90311200e+05,\n",
              "       5.44325200e+05, 5.31711600e+05, 7.47760000e+04, 7.06901200e+05,\n",
              "       7.55432800e+05, 9.54848000e+05, 3.42588000e+04, 1.68233200e+05,\n",
              "       4.06436000e+05, 7.74538000e+05, 1.94122400e+06, 2.33638000e+05,\n",
              "       8.86225200e+05, 2.25245160e+06, 2.70564000e+04, 5.70384000e+05,\n",
              "       4.87864000e+04, 5.63968000e+04, 6.92585600e+05, 9.31560000e+04,\n",
              "       3.75289200e+05, 2.00832800e+05, 1.72256000e+04, 4.55828000e+04,\n",
              "       4.56160000e+04, 4.64052000e+04, 4.36265600e+05, 2.32394000e+05,\n",
              "       3.44842000e+05, 4.71316800e+05, 8.85576000e+04, 9.84565600e+05,\n",
              "       9.63356000e+04, 3.42588000e+04, 6.25987200e+05, 1.50212000e+05,\n",
              "       2.43174000e+05, 3.87142840e+06, 1.60236000e+05, 3.34312000e+05,\n",
              "       2.45524400e+05, 2.45966840e+06, 1.06232000e+05, 8.52501600e+06,\n",
              "       3.46802000e+05, 6.10313200e+05, 4.15699200e+05, 7.57034400e+05,\n",
              "       1.71188200e+06, 3.80183200e+05, 1.68734800e+05, 8.06701200e+05,\n",
              "       1.26016160e+06, 3.24450400e+05, 1.01737200e+05, 1.26478160e+06,\n",
              "       5.01888800e+05, 6.63831200e+05, 3.73488000e+04, 5.14452000e+05,\n",
              "       1.89077600e+05, 6.36240000e+04, 5.07568400e+05, 1.67392000e+05,\n",
              "       4.18592000e+04, 3.91594400e+05, 6.94500000e+04, 9.31223200e+05,\n",
              "       7.15654000e+05, 2.03521200e+05, 7.43880400e+05, 3.61136000e+04,\n",
              "       1.73161600e+05, 2.32183200e+05, 1.11092400e+05, 4.48248000e+04,\n",
              "       3.81236000e+04, 1.25973200e+05, 3.97280000e+04, 1.39362000e+05,\n",
              "       7.05395200e+05, 2.31391200e+05, 6.82620000e+04, 2.62035200e+05,\n",
              "       4.62194800e+05, 1.20851600e+05, 3.38202800e+05, 1.99138000e+05,\n",
              "       2.51271200e+05, 1.28614800e+05, 1.12154800e+05, 5.30866400e+05,\n",
              "       3.49781600e+05, 5.03092000e+04, 1.68913200e+05, 3.45452400e+05,\n",
              "       4.88235600e+05, 3.37572360e+06, 2.31261200e+05, 3.41616800e+05,\n",
              "       6.33024000e+05, 1.08696400e+05, 7.02470800e+05, 2.33191600e+05,\n",
              "       8.31372000e+04, 2.73893800e+06, 5.22312400e+05, 5.21396000e+04,\n",
              "       2.12172280e+06, 4.84732000e+04, 2.00321880e+06, 7.43880400e+05,\n",
              "       6.26292800e+05, 3.40092000e+04, 1.06892000e+06, 6.81464000e+04,\n",
              "       3.23546800e+05, 1.86338400e+05, 7.82516000e+04, 3.66072000e+05,\n",
              "       4.09096800e+05, 3.96629200e+05, 4.28965600e+05, 7.04657200e+05,\n",
              "       6.34248600e+05, 3.95399600e+05, 5.62757200e+05, 7.31548000e+04,\n",
              "       8.50755200e+05, 6.81688000e+04, 3.80108000e+04, 7.72120000e+03,\n",
              "       4.89172400e+05, 8.01671600e+05, 5.78299600e+05, 1.04261080e+06,\n",
              "       3.53932000e+04, 3.97812400e+05, 5.07043600e+05, 4.48894000e+05,\n",
              "       6.74416800e+05, 7.68983200e+05, 2.03810400e+05, 3.95316000e+04,\n",
              "       7.16404000e+04, 9.25012000e+04, 5.68761600e+05, 1.63740000e+04,\n",
              "       5.59056000e+05, 5.52072000e+04, 1.20002000e+05, 1.02123200e+05,\n",
              "       2.16429200e+05, 7.87287600e+05, 2.24235600e+05, 8.61612000e+04,\n",
              "       6.74416800e+05, 1.02392400e+05, 8.39244000e+04, 1.10223200e+05,\n",
              "       8.88536000e+04, 2.15138880e+06, 3.28097200e+05, 1.39150400e+05,\n",
              "       3.19221200e+05, 7.64180000e+04, 4.10368000e+05, 7.58668400e+05,\n",
              "       4.52873600e+05, 1.73253600e+05, 1.43886400e+05, 1.17689600e+05,\n",
              "       3.45643600e+05, 1.47859200e+05, 3.06144400e+05, 2.67814800e+05,\n",
              "       7.85980000e+04, 1.76064000e+05, 4.46365200e+05, 1.68190000e+05,\n",
              "       6.32175600e+05, 3.96629200e+05, 1.56356800e+05, 3.42588000e+04,\n",
              "       5.67244800e+05, 7.64180000e+04, 2.44157600e+05, 8.18572800e+05,\n",
              "       1.07312680e+06, 4.72333200e+05, 1.32980000e+05, 1.26326800e+05,\n",
              "       1.59462400e+05, 7.28004000e+04, 2.89642800e+05, 5.52072000e+04,\n",
              "       3.78752000e+04, 1.17977760e+06, 6.64815600e+05, 3.28097200e+05,\n",
              "       1.25878800e+05, 2.86471600e+05, 1.68734800e+05, 7.30583600e+05,\n",
              "       3.12260000e+04, 4.94321600e+05, 1.20221880e+06, 8.02295600e+05,\n",
              "       7.95656800e+05, 9.18696000e+04, 2.84873924e+07, 4.54542400e+05,\n",
              "       1.04427200e+05, 5.89463600e+05, 4.38801600e+05, 7.32052000e+04,\n",
              "       9.17412000e+04, 6.01072000e+04, 1.77303600e+05, 3.19642000e+05,\n",
              "       3.10748000e+04, 2.58880000e+05, 7.45531200e+05, 2.23356640e+06,\n",
              "       3.97812400e+05, 2.21408936e+07, 2.54005200e+05, 4.31692400e+05,\n",
              "       7.57261200e+05, 2.48985200e+05, 4.37716800e+05, 5.81004600e+05,\n",
              "       2.59960000e+04, 4.40290800e+05, 2.19737200e+05, 1.02063200e+05,\n",
              "       5.14802400e+05, 8.06460000e+04, 9.08836000e+04, 5.69384000e+04,\n",
              "       5.82898800e+05, 4.65524800e+05, 7.30848000e+04, 3.08461200e+05,\n",
              "       9.47588000e+04, 2.52046800e+05, 1.26312400e+05, 4.62217600e+05,\n",
              "       1.17800400e+05, 4.15186800e+05, 2.35305600e+05, 1.01069600e+05,\n",
              "       2.73370800e+05, 8.38568000e+04, 1.68188000e+05, 5.42306800e+05,\n",
              "       8.37165600e+05, 2.46621200e+05, 7.47261600e+05, 9.17280000e+04,\n",
              "       1.21754680e+06, 1.55448000e+05, 1.20793360e+06, 5.90311200e+05,\n",
              "       3.76340000e+04, 7.87287600e+05, 3.91236000e+04, 1.03815720e+06,\n",
              "       4.37160800e+05, 3.32372000e+04, 8.12995600e+05, 7.72120000e+03,\n",
              "       5.99084400e+05, 4.42558400e+05, 2.41659600e+05, 8.80039200e+05,\n",
              "       1.01201200e+05, 4.84514400e+05, 1.40995600e+05, 5.00102000e+05,\n",
              "       8.95712000e+04, 1.91817200e+05, 9.76456000e+04, 9.85812000e+04,\n",
              "       3.75652000e+04, 8.01671600e+05, 2.46617200e+05, 2.04463200e+05,\n",
              "       8.45936000e+04, 3.00102000e+05, 2.51440216e+07, 8.02078400e+05,\n",
              "       7.25578800e+05, 9.90540000e+04, 5.36927200e+05, 4.31126000e+05,\n",
              "       2.31585200e+05, 1.27339600e+05, 1.79192000e+05, 2.43126400e+05,\n",
              "       1.81566800e+06, 4.55024000e+04, 2.07434000e+05, 6.87739200e+05,\n",
              "       4.81434800e+05, 4.55696000e+05, 1.14795200e+05, 7.15278400e+05,\n",
              "       5.23983200e+05, 2.23382800e+05, 2.02722000e+05, 3.04054400e+05,\n",
              "       2.41659600e+05, 3.06726400e+05, 2.93780000e+04, 3.56108800e+05,\n",
              "       5.92696800e+05, 7.82683600e+05, 4.40928400e+05, 1.71188200e+06,\n",
              "       1.19414400e+05, 2.32028800e+05, 5.24750000e+05, 3.55008000e+04,\n",
              "       5.62256000e+05, 5.65506400e+05, 7.91452000e+04, 1.08524880e+06,\n",
              "       3.00684000e+04, 9.81336400e+05, 5.38340800e+05, 8.76416000e+04,\n",
              "       6.81464000e+04, 2.05527200e+05, 1.47077600e+05, 4.71119600e+05,\n",
              "       3.20508000e+04, 9.09892000e+04, 6.04072000e+04, 5.81004600e+05,\n",
              "       4.08221200e+05, 1.96578000e+05, 1.29405600e+05, 8.63068000e+04,\n",
              "       3.67758000e+05, 3.72740800e+05, 4.90014800e+05, 1.52728000e+04,\n",
              "       9.00760000e+04, 1.61815200e+05, 4.10368000e+05, 1.61587600e+05,\n",
              "       3.06636000e+05, 3.26027200e+05, 1.58141640e+07, 5.14638000e+05,\n",
              "       9.21296000e+04, 5.97924000e+04, 3.33404400e+05, 1.82071200e+05,\n",
              "       2.70664560e+06, 1.41540000e+05, 5.41108000e+04, 3.42588000e+04,\n",
              "       6.99948000e+05, 3.60264000e+04, 2.02344000e+05, 9.63060000e+04,\n",
              "       1.90254800e+05, 4.45161600e+05, 1.03728000e+05, 2.07565880e+06,\n",
              "       3.82420000e+04, 1.14340800e+05, 7.19972000e+04, 1.98276400e+05,\n",
              "       5.28377600e+05, 4.70636000e+04, 4.29808000e+04, 6.64812000e+04,\n",
              "       2.42543200e+05, 1.81463920e+06, 3.95399600e+05, 8.09584800e+05,\n",
              "       1.12786000e+05, 1.03028400e+05, 6.92087200e+05, 3.30792400e+05,\n",
              "       1.89192800e+05, 2.48749016e+07, 2.15559600e+05, 1.35004000e+04,\n",
              "       1.99570400e+05, 3.56108800e+05, 1.16664160e+06, 3.73280000e+05,\n",
              "       2.34104000e+05, 9.87484000e+04, 3.84240800e+05, 7.87476000e+04,\n",
              "       2.47120800e+05, 5.20181200e+05, 3.16391600e+05, 4.48894000e+05,\n",
              "       2.48985200e+05, 1.08249200e+05, 2.76701200e+05, 1.89077600e+05,\n",
              "       2.04629340e+07, 4.08610000e+05, 4.63754400e+05, 3.71507600e+05,\n",
              "       6.41007200e+05, 5.34567400e+05, 3.64744000e+04, 3.45755200e+05,\n",
              "       1.33599200e+05, 6.81464000e+04, 3.49083200e+05, 3.85927600e+05,\n",
              "       3.53736000e+05, 2.43174000e+05, 1.84315600e+05, 7.99214000e+05,\n",
              "       9.91784000e+04, 2.02392400e+05, 1.14904080e+06, 1.97176800e+05,\n",
              "       7.53398400e+05, 3.24289200e+05, 1.12446440e+06, 1.39479600e+05,\n",
              "       3.67276400e+05, 2.16104400e+05, 3.20158800e+05, 3.26304800e+05,\n",
              "       5.69813600e+05, 2.18946800e+05, 4.60440400e+05, 1.03601200e+05,\n",
              "       1.73441600e+05, 6.09988000e+04, 2.23544000e+05, 4.84404000e+04,\n",
              "       6.62051600e+05, 3.63227200e+05, 4.83346000e+05, 2.07565880e+06,\n",
              "       4.32512000e+04, 3.45755200e+05, 3.71709200e+05, 6.38872400e+05,\n",
              "       1.45514920e+06, 2.99454480e+06, 8.78628000e+04, 9.76252400e+05,\n",
              "       4.17056000e+04, 5.90311200e+05, 1.12008400e+05, 2.84891200e+05,\n",
              "       1.05393200e+05, 8.22719600e+05, 5.84956800e+05, 1.43579600e+05,\n",
              "       2.18789200e+05, 9.58068800e+05, 2.70986400e+05, 1.79179480e+06,\n",
              "       3.26748800e+05, 2.47803200e+05, 1.73878400e+05, 1.55323200e+05,\n",
              "       1.03039600e+05, 2.73296120e+06, 2.55188400e+05, 5.22312400e+05,\n",
              "       4.45238400e+05, 9.09290400e+05, 4.40290800e+05, 1.07025600e+05,\n",
              "       5.20181200e+05, 3.76036000e+04, 6.04224400e+05, 4.39337600e+05,\n",
              "       2.06016400e+05, 1.42374400e+05, 4.10079200e+05, 3.49208800e+05,\n",
              "       6.69989200e+05, 2.52598000e+05, 9.94564000e+04, 2.95723600e+05,\n",
              "       6.83372400e+05, 7.40992000e+04, 5.56749200e+05, 5.09078000e+05,\n",
              "       2.95701600e+05, 5.05460000e+04, 9.18752000e+04, 1.37467600e+05,\n",
              "       9.08836000e+04, 3.67330400e+05, 5.84956800e+05, 2.41054800e+05,\n",
              "       2.38238000e+05, 9.45780000e+04, 1.68734800e+05, 3.06144400e+05,\n",
              "       2.60000000e+04, 1.39848800e+05, 2.38164000e+05, 6.82620000e+04,\n",
              "       3.46596000e+04, 3.91804000e+04, 6.92585600e+05, 2.31391200e+05,\n",
              "       6.33024000e+05, 4.61634400e+05, 3.88215600e+05, 4.09086800e+05,\n",
              "       5.84956800e+05, 9.23068800e+05, 2.75700800e+05, 7.37380800e+05,\n",
              "       6.27579600e+05, 4.76349600e+05, 5.84956800e+05, 1.21220000e+04,\n",
              "       3.61912400e+05, 4.85032000e+05, 6.05228000e+04, 3.08306400e+05,\n",
              "       7.80040000e+05, 1.05244680e+06, 1.00631600e+05, 5.62256000e+05,\n",
              "       5.31711600e+05, 3.55268800e+05, 5.98936000e+04, 2.10114000e+05,\n",
              "       1.05419200e+05, 1.71952000e+04, 4.32512000e+04, 3.55268800e+05,\n",
              "       2.37432000e+05, 2.23713480e+06, 6.82620000e+04, 1.27425520e+06,\n",
              "       2.63020000e+04, 2.00677600e+05, 3.76006000e+05, 4.42558400e+05,\n",
              "       2.12484800e+05, 8.72064000e+04, 3.32711200e+05, 2.09453200e+05,\n",
              "       4.07172800e+05, 1.17563200e+05, 1.29698800e+05, 4.24285200e+05,\n",
              "       6.73193200e+05, 2.94253200e+05, 1.11624040e+06, 3.58646400e+05,\n",
              "       2.41054800e+05, 5.81183600e+05, 6.56892000e+04, 9.02289200e+05,\n",
              "       3.25971200e+05, 1.58056000e+05, 4.55696000e+05, 2.55782800e+05,\n",
              "       8.08897200e+05, 2.12462800e+05, 1.20506400e+05, 7.63051200e+05,\n",
              "       2.10114000e+05, 1.29665200e+05, 1.76038800e+05, 3.98940800e+05,\n",
              "       2.07434000e+05, 9.47800000e+04, 2.02214000e+05, 1.54414400e+05,\n",
              "       7.31158000e+05, 5.82316800e+05, 3.98634800e+05, 4.71119600e+05,\n",
              "       2.52826400e+05, 1.74389600e+06, 1.58842800e+05, 5.47527600e+05,\n",
              "       3.85458320e+06, 4.50750000e+05, 8.39260000e+04, 7.47604000e+04,\n",
              "       3.08136400e+05, 9.23048000e+04, 1.76038800e+05, 5.52072000e+04,\n",
              "       5.81624000e+05, 7.83900000e+04, 1.56938800e+05, 3.79860000e+05,\n",
              "       6.72081600e+05, 2.32836740e+07])"
            ]
          },
          "metadata": {
            "tags": []
          },
          "execution_count": 159
        }
      ]
    },
    {
      "cell_type": "code",
      "metadata": {
        "colab": {
          "base_uri": "https://localhost:8080/"
        },
        "id": "lT0TYSXLFerQ",
        "outputId": "b5ef2b27-5ad2-4ca8-ecdd-0cff2db02ee6"
      },
      "source": [
        "print(\"Train score: \",reg.score(x_train,y_train)*100)\n",
        "print(\"Test score: \",reg.score(x_test,y_test)*100)"
      ],
      "execution_count": null,
      "outputs": [
        {
          "output_type": "stream",
          "text": [
            "Train score:  99.80189615079439\n",
            "Test score:  99.50539993511256\n"
          ],
          "name": "stdout"
        }
      ]
    },
    {
      "cell_type": "code",
      "metadata": {
        "colab": {
          "base_uri": "https://localhost:8080/"
        },
        "id": "oTWgr0H9bCZV",
        "outputId": "2f3e9d49-9ab9-49f4-c512-81419431e6c8"
      },
      "source": [
        "knn_r2_score=r2_score(y_test,y_pred)*100\n",
        "print(\"R_Square : \",knn_r2_score)"
      ],
      "execution_count": null,
      "outputs": [
        {
          "output_type": "stream",
          "text": [
            "R_Square :  99.50539993511256\n"
          ],
          "name": "stdout"
        }
      ]
    },
    {
      "cell_type": "code",
      "metadata": {
        "colab": {
          "base_uri": "https://localhost:8080/"
        },
        "id": "oZKiC1YbFj8Z",
        "outputId": "c9f28503-92b2-41ac-bc24-9b614382c957"
      },
      "source": [
        "knn_ma=mean_absolute_error(y_test,y_pred)\n",
        "print(\"Mean_absolute_error: \",knn_ma)\n",
        "knn_ms=mean_squared_error(y_test,y_pred)\n",
        "print(\"Mean_squared_error: \",knn_ms)\n",
        "knn_mn=median_absolute_error(y_test,y_pred)\n",
        "print(\"Median_absolute_error: \",knn_mn)\n",
        "knn_rmse=sqrt(knn_ms)\n",
        "print(\"Root_Mean_Squared_error: \",knn_rmse)"
      ],
      "execution_count": null,
      "outputs": [
        {
          "output_type": "stream",
          "text": [
            "Mean_absolute_error:  75416.88789346245\n",
            "Mean_squared_error:  33053017845.723045\n",
            "Median_absolute_error:  22567.20000000001\n",
            "Root_Mean_Squared_error:  181804.88949894346\n"
          ],
          "name": "stdout"
        }
      ]
    },
    {
      "cell_type": "markdown",
      "metadata": {
        "id": "iWX7tSL_GZvS"
      },
      "source": [
        "## **SVM**"
      ]
    },
    {
      "cell_type": "code",
      "metadata": {
        "id": "iNW8EvOXF1Ho"
      },
      "source": [
        "from sklearn.svm import SVR\n",
        "from sklearn.preprocessing import StandardScaler    \n"
      ],
      "execution_count": null,
      "outputs": []
    },
    {
      "cell_type": "code",
      "metadata": {
        "id": "uKm9vToVGf6q"
      },
      "source": [
        "st_x= StandardScaler()    \n",
        "x_train= st_x.fit_transform(x_train)    \n",
        "x_test= st_x.transform(x_test)       \n"
      ],
      "execution_count": null,
      "outputs": []
    },
    {
      "cell_type": "code",
      "metadata": {
        "colab": {
          "base_uri": "https://localhost:8080/"
        },
        "id": "GVfC698RHE8M",
        "outputId": "2ce6651b-5b54-46a6-942b-c6455410fd23"
      },
      "source": [
        "classifier =SVR(C=1,gamma=0.02)  \n",
        "classifier.fit(x_train, y_train) "
      ],
      "execution_count": null,
      "outputs": [
        {
          "output_type": "execute_result",
          "data": {
            "text/plain": [
              "SVR(C=1, cache_size=200, coef0=0.0, degree=3, epsilon=0.1, gamma=0.02,\n",
              "    kernel='rbf', max_iter=-1, shrinking=True, tol=0.001, verbose=False)"
            ]
          },
          "metadata": {
            "tags": []
          },
          "execution_count": 213
        }
      ]
    },
    {
      "cell_type": "code",
      "metadata": {
        "colab": {
          "base_uri": "https://localhost:8080/"
        },
        "id": "1vBL3RetIISg",
        "outputId": "3121f718-e45b-45b7-9f51-eec55753a41b"
      },
      "source": [
        "y_pred=classifier.predict(x_test)\n",
        "y_pred"
      ],
      "execution_count": null,
      "outputs": [
        {
          "output_type": "execute_result",
          "data": {
            "text/plain": [
              "array([232448.63860038, 232585.20617093, 232699.69046084, 232460.77591396,\n",
              "       232561.04579055, 232585.25084891, 232541.06848869, 232626.31727008,\n",
              "       232604.36206403, 232571.06053582, 232717.69282999, 232683.07287621,\n",
              "       232699.29180102, 232549.03692509, 232561.3803924 , 232621.478295  ,\n",
              "       232532.46971331, 232701.14198955, 232486.92680105, 232792.72552902,\n",
              "       232462.60349872, 232567.73198846, 232561.6748651 , 232677.85726108,\n",
              "       232576.82397368, 232654.87539985, 232538.18579987, 232496.36743535,\n",
              "       232726.6419138 , 232696.89447928, 232608.14945336, 232599.40211894,\n",
              "       232621.47756182, 232581.28838168, 232534.00514936, 232647.72305782,\n",
              "       232688.78095831, 232450.64819611, 232720.15765817, 232452.55269637,\n",
              "       232575.56819687, 232648.26314244, 232736.29297292, 232574.82698835,\n",
              "       232615.58683013, 232759.82593123, 232562.14517798, 232585.83569175,\n",
              "       232621.08068132, 232523.45676685, 232680.65846752, 232708.07761387,\n",
              "       232462.84674021, 232576.36654202, 232546.8467061 , 232461.88431516,\n",
              "       232596.26375456, 232762.85881466, 232588.45801475, 232742.26130723,\n",
              "       232784.47357854, 232628.16414846, 232439.21427337, 232472.87230304,\n",
              "       232625.13248458, 232568.19877948, 232681.58139813, 232672.24006961,\n",
              "       232556.26586862, 232630.74704451, 232681.10218229, 232738.46778894,\n",
              "       232702.7836444 , 232617.90037411, 232769.58669036, 232636.42208472,\n",
              "       232590.23400005, 232612.41087112, 232509.07808171, 232735.42413748,\n",
              "       232630.49977424, 232595.37616926, 232562.08804894, 232730.48676867,\n",
              "       232497.90405896, 232644.19722741, 232749.28098405, 232650.39146169,\n",
              "       232629.46169692, 232686.7540611 , 232583.78538404, 232493.02595907,\n",
              "       232634.84401596, 232595.66983596, 232739.15273272, 232757.90089284,\n",
              "       232715.63085247, 232488.77685145, 232690.00341726, 232589.97375495,\n",
              "       232582.08967361, 232446.89912822, 232603.09070338, 232579.90640912,\n",
              "       232789.301799  , 232624.10901598, 232591.22297676, 232683.82343348,\n",
              "       232614.54268685, 232672.88966783, 232592.45019002, 232683.84269872,\n",
              "       232792.31146293, 232748.38952404, 232517.21277966, 232542.30405195,\n",
              "       232456.75843904, 232778.26828188, 232665.38944975, 232655.07576898,\n",
              "       232640.28655209, 232775.44365697, 232535.0821407 , 232745.60854085,\n",
              "       232731.80485899, 232553.78265227, 232697.63564555, 232775.33583151,\n",
              "       232791.49705767, 232566.37436284, 232698.06040421, 232732.14003958,\n",
              "       232671.65532032, 232753.1907886 , 232727.19647887, 232626.17063336,\n",
              "       232763.88913093, 232576.68608093, 232622.68132347, 232788.22708167,\n",
              "       232680.13925677, 232545.29002546, 232615.44703166, 232545.60392232,\n",
              "       232730.08541477, 232567.79235101, 232745.48918653, 232712.46678441,\n",
              "       232701.25549083, 232705.22265812, 232666.50379014, 232765.68648011,\n",
              "       232781.03443777, 232773.62481409, 232519.72424832, 232661.96063611,\n",
              "       232468.49975791, 232627.90970155, 232537.4639314 , 232604.06732841,\n",
              "       232551.15611459, 232672.92655253, 232745.59333611, 232591.12060178,\n",
              "       232599.98272584, 232509.03121629, 232522.65508766, 232759.3931904 ,\n",
              "       232697.27822497, 232724.1602426 , 232480.68284355, 232781.24719258,\n",
              "       232765.55102098, 232511.62527511, 232453.15558196, 232627.84916275,\n",
              "       232579.39306918, 232582.38548755, 232773.53488466, 232616.25052445,\n",
              "       232680.48951002, 232655.7785917 , 232600.91916781, 232723.46184355,\n",
              "       232666.83222761, 232665.25783828, 232656.09346907, 232509.46948466,\n",
              "       232566.68387763, 232638.47073541, 232701.4152456 , 232773.98519629,\n",
              "       232623.80357139, 232494.91334069, 232597.57310897, 232612.3206343 ,\n",
              "       232664.44017778, 232688.55570959, 232642.16909856, 232552.08474431,\n",
              "       232533.12953879, 232737.47356449, 232681.50412974, 232462.1139218 ,\n",
              "       232538.26845845, 232612.99486792, 232650.36398058, 232619.49189817,\n",
              "       232569.80923317, 232532.94639305, 232559.91382645, 232568.10885895,\n",
              "       232605.98332601, 232781.74188804, 232667.04145371, 232676.8284767 ,\n",
              "       232495.40434464, 232634.32251418, 232665.09775793, 232539.69330965,\n",
              "       232748.16437366, 232555.116481  , 232446.03276979, 232624.96069912,\n",
              "       232661.40752764, 232566.55744399, 232568.91609124, 232581.85147732,\n",
              "       232688.14714349, 232566.9803655 , 232763.97858596, 232688.20899101,\n",
              "       232766.85600375, 232766.77633184, 232464.71690403, 232689.44051477,\n",
              "       232438.90492688, 232526.83087095, 232744.08529001, 232514.67419872,\n",
              "       232628.94670228, 232506.29368594, 232444.77383075, 232575.40764502,\n",
              "       232480.40213732, 232494.62470455, 232627.74879483, 232657.90372455,\n",
              "       232591.09076679, 232703.79627959, 232569.07493586, 232776.95021767,\n",
              "       232524.57323594, 232578.92883868, 232700.75497127, 232481.77618406,\n",
              "       232609.99474429, 232788.98957379, 232590.20253582, 232732.2204262 ,\n",
              "       232497.97001726, 232765.29135114, 232579.98656155, 232584.99562057,\n",
              "       232607.97207989, 232646.66382253, 232740.64183864, 232776.83763498,\n",
              "       232750.80019516, 232547.22831266, 232611.47363643, 232613.69114782,\n",
              "       232746.27024454, 232617.5579441 , 232574.55138073, 232699.8435271 ,\n",
              "       232772.16260954, 232730.43528634, 232497.26559973, 232776.54469081,\n",
              "       232575.06006964, 232563.7468599 , 232654.70332948, 232525.99378747,\n",
              "       232504.49216655, 232592.46870809, 232474.99817237, 232642.89546625,\n",
              "       232756.4173207 , 232560.70207868, 232791.70821498, 232515.05553506,\n",
              "       232494.45848372, 232579.56528685, 232586.32053056, 232462.31764131,\n",
              "       232497.07072344, 232462.58966029, 232465.6358041 , 232698.06121544,\n",
              "       232729.82944051, 232545.23226412, 232544.74902317, 232727.23546465,\n",
              "       232630.37648193, 232584.70700823, 232643.23762549, 232682.97854462,\n",
              "       232621.37550347, 232604.00678997, 232722.33887035, 232716.25585572,\n",
              "       232727.17782877, 232457.05389632, 232596.18885166, 232631.7108823 ,\n",
              "       232649.95291288, 232787.88215299, 232668.9616766 , 232594.21740875,\n",
              "       232696.50031061, 232693.16710364, 232601.05583954, 232607.32752709,\n",
              "       232462.82267781, 232690.17744772, 232677.43454533, 232654.81744464,\n",
              "       232734.26635331, 232474.24474405, 232774.12659863, 232791.06381727,\n",
              "       232741.63450218, 232515.88129416, 232680.05861028, 232523.8371819 ,\n",
              "       232682.04328398, 232548.67853787, 232530.35725121, 232593.30065116,\n",
              "       232744.15490152, 232678.8100473 , 232563.63332488, 232658.81171675,\n",
              "       232694.99661744, 232592.95445345, 232705.24554339, 232469.66218053,\n",
              "       232576.89164252, 232745.58507724, 232471.56038747, 232440.2067475 ,\n",
              "       232595.60774593, 232683.29975728, 232558.19506887, 232762.52810345,\n",
              "       232446.03353036, 232675.77215167, 232658.69932963, 232573.12515309,\n",
              "       232706.49663788, 232587.00049422, 232544.06485283, 232603.46807817,\n",
              "       232519.99535837, 232605.52725694, 232667.69998037, 232443.80385625,\n",
              "       232676.84606585, 232686.49523889, 232558.46511942, 232573.04979129,\n",
              "       232683.88223941, 232628.02654063, 232561.11144584, 232474.05406833,\n",
              "       232707.72751542, 232567.46399375, 232515.63995826, 232484.16029796,\n",
              "       232520.37686722, 232723.15467596, 232687.38092623, 232620.05820246,\n",
              "       232680.17853717, 232711.16168371, 232681.79338158, 232787.07974981,\n",
              "       232572.17792217, 232569.41472937, 232561.20620693, 232489.18827884,\n",
              "       232461.142829  , 232585.80392903, 232664.15577691, 232568.14505982,\n",
              "       232609.1858192 , 232535.44616599, 232649.89505641, 232535.82355331,\n",
              "       232748.48491683, 232683.14542945, 232576.40164687, 232584.86252511,\n",
              "       232653.73776326, 232712.23882316, 232644.73986769, 232617.92427252,\n",
              "       232758.33432436, 232704.14313808, 232524.75632035, 232487.0717276 ,\n",
              "       232616.43987136, 232580.56900823, 232661.94825846, 232689.96494284,\n",
              "       232508.84028755, 232782.81754871, 232715.77384112, 232698.58127327,\n",
              "       232581.057782  , 232719.80841667, 232592.13473022, 232630.20947621,\n",
              "       232539.68770459, 232657.51094504, 232730.51288995, 232733.11123298,\n",
              "       232759.39013129, 232501.20295229, 232711.85229866, 232673.8252483 ,\n",
              "       232572.74888836, 232771.15685066, 232764.53361804, 232582.04595589,\n",
              "       232534.24359144, 232743.30962214, 232731.17496774, 232728.40561613,\n",
              "       232537.70389543, 232615.42655146, 232590.38249441, 232782.71518623,\n",
              "       232675.14693816, 232660.53807793, 232658.42843241, 232645.38718116,\n",
              "       232780.7385281 , 232678.64473694, 232666.98741692, 232729.99476681,\n",
              "       232462.81079601, 232769.09514164, 232589.34042174, 232551.39063146,\n",
              "       232573.24345531, 232593.36859651, 232539.7502894 , 232529.76761325,\n",
              "       232792.18400156, 232689.25322522, 232554.80684082, 232601.57422562,\n",
              "       232687.19790578, 232620.58909228, 232672.9002785 , 232668.81559716,\n",
              "       232650.17683667, 232749.22991818, 232578.30353371, 232561.71427007,\n",
              "       232484.48473463, 232689.40093589, 232450.4251756 , 232678.90734528,\n",
              "       232618.2192746 , 232691.18391684, 232637.79845715, 232673.80906935,\n",
              "       232716.92365336, 232599.63505724, 232774.07271262, 232549.78025785,\n",
              "       232461.58777386, 232629.61532243, 232461.25592877, 232757.12558983,\n",
              "       232750.05380478, 232543.34223022, 232633.59147555, 232442.22421257,\n",
              "       232643.89140567, 232646.39888165, 232699.38232451, 232697.10174388,\n",
              "       232559.7359662 , 232707.92198803, 232633.85548302, 232735.92326895,\n",
              "       232529.44982795, 232588.77816365, 232484.27731849, 232486.40379517,\n",
              "       232500.48633714, 232685.65816574, 232680.22602561, 232594.67814627,\n",
              "       232557.24361685, 232471.06016392, 232706.55379019, 232756.71742003,\n",
              "       232706.25822464, 232680.05190833, 232565.21157633, 232746.88982415,\n",
              "       232678.72021332, 232667.22506547, 232550.46536743, 232594.23816988,\n",
              "       232631.91911863, 232483.10452925, 232582.7166287 , 232778.89251948,\n",
              "       232716.57932296, 232600.17068692, 232555.56277396, 232599.91593063,\n",
              "       232681.7626613 , 232621.72820901, 232626.14013655, 232720.85792977,\n",
              "       232698.75958388, 232713.8643955 , 232441.71503612, 232565.86355678,\n",
              "       232740.92581487, 232751.29704648, 232742.5454482 , 232759.9974781 ,\n",
              "       232649.23695907, 232505.09376503, 232638.57161056, 232517.78153911,\n",
              "       232755.06947171, 232633.29902671, 232481.41086026, 232728.21546249,\n",
              "       232572.57859212, 232655.64773963, 232764.40001482, 232510.17487028,\n",
              "       232531.02964758, 232588.52242784, 232537.15056834, 232632.23417603,\n",
              "       232441.32975781, 232476.99317257, 232523.01983111, 232730.82231644,\n",
              "       232492.56191023, 232560.04631643, 232638.29046534, 232499.18893525,\n",
              "       232708.13553454, 232637.584712  , 232679.02779855, 232450.27491154,\n",
              "       232459.92634134, 232566.71204745, 232684.40328488, 232606.10687921,\n",
              "       232708.67121915, 232676.88073979, 232663.16144304, 232646.94582983,\n",
              "       232535.00822426, 232440.88705084, 232695.64227501, 232476.16621168,\n",
              "       232682.27130571, 232771.85508606, 232737.89572433, 232570.49658474,\n",
              "       232724.02802736, 232488.40133083, 232578.54659329, 232667.30632466,\n",
              "       232543.31892101, 232612.6027627 , 232545.99541975, 232764.45618004,\n",
              "       232497.42727054, 232493.41379738, 232727.55659869, 232578.57589793,\n",
              "       232702.6978748 , 232466.13514465, 232560.22888609, 232573.50826515,\n",
              "       232608.16338889, 232641.96011541, 232589.62083836, 232774.3206799 ,\n",
              "       232483.16736247, 232673.15179637, 232712.49694751, 232589.29619188,\n",
              "       232589.11443631, 232711.2744258 , 232560.13372957, 232469.51428223,\n",
              "       232584.44946277, 232542.52438961, 232671.83519296, 232743.13231871,\n",
              "       232571.06462176, 232576.95852177, 232654.79094491, 232456.30037706,\n",
              "       232592.69590496, 232685.81144253, 232713.98957529, 232566.73720825,\n",
              "       232673.38538056, 232621.16162576, 232487.66213084, 232576.13627363,\n",
              "       232689.20115484, 232628.67396208, 232672.35438812, 232606.98064103,\n",
              "       232625.92591812, 232716.68200239, 232553.00526142, 232656.65232771,\n",
              "       232619.76606951, 232527.48301667, 232509.01528325, 232654.86539943,\n",
              "       232567.74298268, 232618.25553807, 232581.77302428, 232585.66616323,\n",
              "       232533.66016165, 232581.75053615, 232768.3243568 , 232609.17041608,\n",
              "       232746.888034  , 232683.75346866, 232783.70569304, 232479.52329307,\n",
              "       232601.74536104, 232688.15742184, 232696.97442586, 232558.94486997,\n",
              "       232730.13473989, 232631.89691593, 232632.00841376, 232512.46596966,\n",
              "       232531.0436425 , 232564.64313861, 232568.57266706, 232604.11175424,\n",
              "       232735.52073651, 232746.88653995, 232667.72853988, 232769.58616039,\n",
              "       232508.4523189 , 232655.33673732, 232672.08034021, 232744.02226379,\n",
              "       232781.7641555 , 232773.69017354, 232583.60803712, 232647.5456626 ,\n",
              "       232537.32145499, 232559.83557008, 232507.35323111, 232471.31193652,\n",
              "       232617.5145305 , 232733.01469777, 232739.16618797, 232583.2975402 ,\n",
              "       232600.09662656, 232683.87271533, 232691.28189614, 232735.62040246,\n",
              "       232726.61154277, 232682.50815715, 232623.37741366, 232660.47618238,\n",
              "       232495.14838526, 232685.71231051, 232653.35372982, 232677.00797661,\n",
              "       232573.72901858, 232773.03362593, 232768.06621453, 232485.52830408,\n",
              "       232690.69639354, 232518.88974162, 232734.54343509, 232601.25150121,\n",
              "       232661.25440833, 232547.3407741 , 232736.6535862 , 232742.5595314 ,\n",
              "       232575.94918048, 232689.10271896, 232692.88913968, 232773.4212232 ,\n",
              "       232755.37390914, 232577.12337411, 232513.67172911, 232651.67542912,\n",
              "       232651.40890504, 232471.13197456, 232600.64717822, 232554.73107947,\n",
              "       232537.28733984, 232724.21657322, 232726.12462203, 232583.49679368,\n",
              "       232655.20065104, 232475.14883752, 232606.55682558, 232662.59471718,\n",
              "       232463.06572637, 232686.95635252, 232520.01526805, 232536.88287061,\n",
              "       232509.96268236, 232588.94043342, 232741.3568968 , 232555.25548349,\n",
              "       232692.64489536, 232690.51269008, 232639.52129617, 232625.70307071,\n",
              "       232736.25220509, 232770.85284021, 232679.58665177, 232619.28105095,\n",
              "       232712.95798942, 232702.34542647, 232733.18935035, 232434.51606896,\n",
              "       232743.04520831, 232639.89402393, 232607.16038265, 232724.90816796,\n",
              "       232613.6806674 , 232762.64329737, 232515.2355999 , 232753.88669577,\n",
              "       232554.73477212, 232672.11100128, 232729.92162197, 232726.14441044,\n",
              "       232719.38097434, 232489.99486576, 232502.09885511, 232660.54705091,\n",
              "       232544.90592518, 232698.26334246, 232539.98067928, 232770.47427447,\n",
              "       232457.93329622, 232560.34777687, 232700.46066348, 232643.71130121,\n",
              "       232713.68008161, 232553.7436119 , 232773.05081497, 232634.01261552,\n",
              "       232686.11551239, 232708.26957166, 232695.44035994, 232742.61521472,\n",
              "       232688.05586383, 232456.71068127, 232762.92774067, 232706.40259704,\n",
              "       232578.64647347, 232627.51870882, 232445.72595332, 232787.83692645,\n",
              "       232756.47685543, 232580.92243696, 232604.61163798, 232599.92708236,\n",
              "       232613.507452  , 232747.78770853, 232516.39448566, 232693.90699805,\n",
              "       232731.10733395, 232554.32817621, 232625.13047653, 232636.82081503,\n",
              "       232579.30005566, 232549.03123952, 232585.67232028, 232465.62916159,\n",
              "       232705.72421488, 232757.07676694, 232729.54856639, 232634.75147361,\n",
              "       232644.59217336, 232747.20855843, 232658.59111111, 232758.06808263,\n",
              "       232790.65601437, 232757.96960764, 232552.39875135, 232530.31036122,\n",
              "       232655.24855071, 232664.89058976, 232623.23668716, 232693.17953589,\n",
              "       232784.47111189, 232578.57429982, 232475.4254172 , 232624.63968901,\n",
              "       232664.01848017, 232694.86492482])"
            ]
          },
          "metadata": {
            "tags": []
          },
          "execution_count": 214
        }
      ]
    },
    {
      "cell_type": "code",
      "metadata": {
        "colab": {
          "base_uri": "https://localhost:8080/"
        },
        "id": "t_MJvn1_IWay",
        "outputId": "77a16302-8f03-4739-ac2a-d4c4ded85fa4"
      },
      "source": [
        "print(\"Train score: \",classifier.score(x_train,y_train)*100)\n",
        "print(\"Test score: \",classifier.score(x_test,y_test)*100)"
      ],
      "execution_count": null,
      "outputs": [
        {
          "output_type": "stream",
          "text": [
            "Train score:  -3.790649213474917\n",
            "Test score:  -3.5028497136206926\n"
          ],
          "name": "stdout"
        }
      ]
    },
    {
      "cell_type": "code",
      "metadata": {
        "colab": {
          "base_uri": "https://localhost:8080/"
        },
        "id": "jZibTKhMbQjL",
        "outputId": "3ff007cd-8d30-45f3-c967-0552b01e2fac"
      },
      "source": [
        "svm_r2_score=r2_score(y_test,y_pred)*100\n",
        "print(\"R_Square : \",svm_r2_score)"
      ],
      "execution_count": null,
      "outputs": [
        {
          "output_type": "stream",
          "text": [
            "R_Square :  -3.5028497136206926\n"
          ],
          "name": "stdout"
        }
      ]
    },
    {
      "cell_type": "code",
      "metadata": {
        "colab": {
          "base_uri": "https://localhost:8080/"
        },
        "id": "49vouSy1IglO",
        "outputId": "593e0667-7ff9-405f-ecbd-84ef298dff19"
      },
      "source": [
        "svm_ma=mean_absolute_error(y_test,y_pred)\n",
        "print(\"Mean_absolute_error: \",svm_ma)\n",
        "svm_ms=mean_squared_error(y_test,y_pred)\n",
        "print(\"Mean_squared_error: \",svm_ms)\n",
        "svm_mn=median_absolute_error(y_test,y_pred)\n",
        "print(\"Median_absolute_error: \",svm_mn)\n",
        "svm_rmse=sqrt(svm_ms)\n",
        "print(\"Root_Mean_Squared_error: \",svm_rmse)"
      ],
      "execution_count": null,
      "outputs": [
        {
          "output_type": "stream",
          "text": [
            "Mean_absolute_error:  602530.5870952294\n",
            "Mean_squared_error:  6916864314294.047\n",
            "Median_absolute_error:  171336.65788648854\n",
            "Root_Mean_Squared_error:  2629993.2156365057\n"
          ],
          "name": "stdout"
        }
      ]
    },
    {
      "cell_type": "markdown",
      "metadata": {
        "id": "H0fqLFEoKvYr"
      },
      "source": [
        "## PREDICTING THE BEST ALGORITHM "
      ]
    },
    {
      "cell_type": "markdown",
      "metadata": {
        "id": "Oxr5343VPci-"
      },
      "source": [
        "### ACCURACY"
      ]
    },
    {
      "cell_type": "markdown",
      "metadata": {
        "id": "hWdAa3MiPi80"
      },
      "source": [
        "\n",
        "\n",
        "1.   LINEAR REGRESSION : 94.64543324953374\n",
        "2.   DECISION TREE : 99.6948756805886\n",
        "3.   RANDOM FOREST :99.73966251851519\n",
        "4.   KNN : 99.50539993511256\n",
        "5.   SVM : -3.5028497136206926\n",
        "\n",
        "\n",
        "\n",
        "\n",
        "\n"
      ]
    },
    {
      "cell_type": "markdown",
      "metadata": {
        "id": "hI67rzkYQnxa"
      },
      "source": [
        "Random Forest has High accuracy score"
      ]
    },
    {
      "cell_type": "markdown",
      "metadata": {
        "id": "RuMubZPkNfk8"
      },
      "source": [
        "MEAN ABSOLUTE ERROR"
      ]
    },
    {
      "cell_type": "code",
      "metadata": {
        "colab": {
          "base_uri": "https://localhost:8080/",
          "height": 265
        },
        "id": "Bbzvc39ZLHPR",
        "outputId": "7a8ae366-6ee8-4628-dbf1-1214b9ef9151"
      },
      "source": [
        "plt.bar('Linear',linear_ma,color='blue')\n",
        "plt.bar('Tree',decision_ma,color='yellow')\n",
        "plt.bar('Forest',random_ma,color='purple')\n",
        "plt.bar('KNN',knn_ma,color='seagreen')\n",
        "plt.bar('SVM',svm_ma,color='red')\n",
        "plt.show()\n"
      ],
      "execution_count": null,
      "outputs": [
        {
          "output_type": "display_data",
          "data": {
            "image/png": "[encoded data removed]",
            "text/plain": [
              "<Figure size 432x288 with 1 Axes>"
            ]
          },
          "metadata": {
            "tags": [],
            "needs_background": "light"
          }
        }
      ]
    },
    {
      "cell_type": "markdown",
      "metadata": {
        "id": "3SfjrEvlNnUx"
      },
      "source": [
        "Random Forest has minimum Mean Absolute Error"
      ]
    },
    {
      "cell_type": "markdown",
      "metadata": {
        "id": "AWfbjXVNN8XA"
      },
      "source": [
        "MEAN SQUARED ERROR"
      ]
    },
    {
      "cell_type": "code",
      "metadata": {
        "colab": {
          "base_uri": "https://localhost:8080/",
          "height": 276
        },
        "id": "ly5ixtEEMlB6",
        "outputId": "9f99b45b-3365-4e43-929e-1c5ceefe02b3"
      },
      "source": [
        "plt.bar('Linear',linear_ms,color='blue')\n",
        "plt.bar('Tree',decision_ms,color='yellow')\n",
        "plt.bar('Forest',random_ms,color='purple')\n",
        "plt.bar('KNN',knn_ms,color='seagreen')\n",
        "plt.bar('SVM',svm_ms,color='red')\n",
        "plt.show()"
      ],
      "execution_count": null,
      "outputs": [
        {
          "output_type": "display_data",
          "data": {
            "image/png": "[encoded data removed]",
            "text/plain": [
              "<Figure size 432x288 with 1 Axes>"
            ]
          },
          "metadata": {
            "tags": [],
            "needs_background": "light"
          }
        }
      ]
    },
    {
      "cell_type": "markdown",
      "metadata": {
        "id": "YgoplDnrOEl9"
      },
      "source": [
        "Random Forest has minimum Mean Squared Error"
      ]
    },
    {
      "cell_type": "markdown",
      "metadata": {
        "id": "eRD-UrMsOMSt"
      },
      "source": [
        "MEDIAN ABSOLUTE ERROR"
      ]
    },
    {
      "cell_type": "code",
      "metadata": {
        "colab": {
          "base_uri": "https://localhost:8080/",
          "height": 265
        },
        "id": "RYtXHONVNCy4",
        "outputId": "de60541f-2bf8-414c-cea5-e20e153d0702"
      },
      "source": [
        "plt.bar('Linear',linear_mn,color='blue')\n",
        "plt.bar('Tree',decision_mn,color='yellow')\n",
        "plt.bar('Forest',random_mn,color='purple')\n",
        "plt.bar('KNN',knn_mn,color='seagreen')\n",
        "plt.bar('SVM',svm_mn,color='red')\n",
        "plt.show()"
      ],
      "execution_count": null,
      "outputs": [
        {
          "output_type": "display_data",
          "data": {
            "image/png": "[encoded data removed]",
            "text/plain": [
              "<Figure size 432x288 with 1 Axes>"
            ]
          },
          "metadata": {
            "tags": [],
            "needs_background": "light"
          }
        }
      ]
    },
    {
      "cell_type": "markdown",
      "metadata": {
        "id": "_apLaguNORNd"
      },
      "source": [
        "Random Forest has minimum Median Absolute Error"
      ]
    },
    {
      "cell_type": "markdown",
      "metadata": {
        "id": "kcdhYQ0oOZWj"
      },
      "source": [
        "R SQUARED ERROR"
      ]
    },
    {
      "cell_type": "code",
      "metadata": {
        "colab": {
          "base_uri": "https://localhost:8080/",
          "height": 265
        },
        "id": "XejKxIbYOc6G",
        "outputId": "df196202-8ddc-473e-d49f-9e036d4a3cb4"
      },
      "source": [
        "plt.bar('Linear',linear_r2_score,color='blue')\n",
        "plt.bar('Tree',decision_r2_score,color='yellow')\n",
        "plt.bar('Forest',random_r2_score,color='purple')\n",
        "plt.bar('KNN',knn_r2_score,color='seagreen')\n",
        "plt.bar('SVM',svm_r2_score,color='red')\n",
        "plt.show()"
      ],
      "execution_count": null,
      "outputs": [
        {
          "output_type": "display_data",
          "data": {
            "image/png": "[encoded data removed]",
            "text/plain": [
              "<Figure size 432x288 with 1 Axes>"
            ]
          },
          "metadata": {
            "tags": [],
            "needs_background": "light"
          }
        }
      ]
    },
    {
      "cell_type": "markdown",
      "metadata": {
        "id": "rYL6WvlvOdW-"
      },
      "source": [
        "Random Forest has maximum R squared "
      ]
    },
    {
      "cell_type": "markdown",
      "metadata": {
        "id": "6mAgvYIMgOmQ"
      },
      "source": [
        "## **RESULT**"
      ]
    },
    {
      "cell_type": "markdown",
      "metadata": {
        "id": "YfhetE_yfkiA"
      },
      "source": [
        "# **Random Forest algorithm has high accuracy for predicting the crime**"
      ]
    }
  ]
}